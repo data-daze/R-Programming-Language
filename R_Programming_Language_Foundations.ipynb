{
  "nbformat": 4,
  "nbformat_minor": 0,
  "metadata": {
    "colab": {
      "provenance": []
    },
    "kernelspec": {
      "name": "ir",
      "display_name": "R"
    },
    "language_info": {
      "name": "R"
    }
  },
  "cells": [
    {
      "cell_type": "code",
      "execution_count": null,
      "metadata": {
        "colab": {
          "base_uri": "https://localhost:8080/"
        },
        "id": "P27b4_3_UkME",
        "outputId": "63832ea1-a108-4a18-8b2c-1d524233532b"
      },
      "outputs": [
        {
          "output_type": "stream",
          "name": "stdout",
          "text": [
            "[1] \"Hello, R!\"\n"
          ]
        }
      ],
      "source": [
        "print(\"Hello, R!\")\n"
      ]
    },
    {
      "cell_type": "code",
      "source": [
        "x <- 10    # assign 10 to x\n",
        "y = 5      # also works\n",
        "\n",
        "x\n",
        "y"
      ],
      "metadata": {
        "colab": {
          "base_uri": "https://localhost:8080/",
          "height": 52
        },
        "id": "MvsiRTGmXcM1",
        "outputId": "ad94ffab-d5c9-45e1-edf5-93d79ff6d9e6"
      },
      "execution_count": null,
      "outputs": [
        {
          "output_type": "display_data",
          "data": {
            "text/html": [
              "10"
            ],
            "text/markdown": "10",
            "text/latex": "10",
            "text/plain": [
              "[1] 10"
            ]
          },
          "metadata": {}
        },
        {
          "output_type": "display_data",
          "data": {
            "text/html": [
              "5"
            ],
            "text/markdown": "5",
            "text/latex": "5",
            "text/plain": [
              "[1] 5"
            ]
          },
          "metadata": {}
        }
      ]
    },
    {
      "cell_type": "markdown",
      "source": [
        "Variable Rules\n",
        "\n",
        "Names are case-sensitive (x ≠ X).\n",
        "\n",
        "Cannot start with a number.\n",
        "\n",
        "Can contain letters, numbers, ., _."
      ],
      "metadata": {
        "id": "iBrCwihqXr1k"
      }
    },
    {
      "cell_type": "code",
      "source": [
        "\n",
        "\n",
        "\n",
        "my_var <- 10\n",
        "my.var <- 20\n",
        "myVar <- 30\n",
        "\n",
        "\n",
        "\n",
        "\n"
      ],
      "metadata": {
        "id": "pDjSTJZwXcP6"
      },
      "execution_count": null,
      "outputs": []
    },
    {
      "cell_type": "code",
      "source": [
        "x <- 10\n",
        "y <- 20\n",
        "z <- x + y\n",
        "print(z)\n"
      ],
      "metadata": {
        "colab": {
          "base_uri": "https://localhost:8080/"
        },
        "id": "Fjx6Y3RqXcR_",
        "outputId": "16cc03b5-08f0-46a7-ae27-3f5d870cd2c1"
      },
      "execution_count": null,
      "outputs": [
        {
          "output_type": "stream",
          "name": "stdout",
          "text": [
            "[1] 30\n"
          ]
        }
      ]
    },
    {
      "cell_type": "code",
      "source": [
        "#Basic opeation\n",
        "2 + 3   # 5\n",
        "5 - 2   # 3\n",
        "4 * 2   # 8\n",
        "10 / 3  # 3.3333\n",
        "2 ^ 3   # 8"
      ],
      "metadata": {
        "colab": {
          "base_uri": "https://localhost:8080/",
          "height": 104
        },
        "id": "3szLEoT6XcUg",
        "outputId": "c4eac155-850c-4f4d-aacd-e501df3cba21"
      },
      "execution_count": null,
      "outputs": [
        {
          "output_type": "display_data",
          "data": {
            "text/html": [
              "5"
            ],
            "text/markdown": "5",
            "text/latex": "5",
            "text/plain": [
              "[1] 5"
            ]
          },
          "metadata": {}
        },
        {
          "output_type": "display_data",
          "data": {
            "text/html": [
              "3"
            ],
            "text/markdown": "3",
            "text/latex": "3",
            "text/plain": [
              "[1] 3"
            ]
          },
          "metadata": {}
        },
        {
          "output_type": "display_data",
          "data": {
            "text/html": [
              "8"
            ],
            "text/markdown": "8",
            "text/latex": "8",
            "text/plain": [
              "[1] 8"
            ]
          },
          "metadata": {}
        },
        {
          "output_type": "display_data",
          "data": {
            "text/html": [
              "3.33333333333333"
            ],
            "text/markdown": "3.33333333333333",
            "text/latex": "3.33333333333333",
            "text/plain": [
              "[1] 3.333333"
            ]
          },
          "metadata": {}
        },
        {
          "output_type": "display_data",
          "data": {
            "text/html": [
              "8"
            ],
            "text/markdown": "8",
            "text/latex": "8",
            "text/plain": [
              "[1] 8"
            ]
          },
          "metadata": {}
        }
      ]
    },
    {
      "cell_type": "code",
      "source": [
        "ls() #List all variables\n"
      ],
      "metadata": {
        "colab": {
          "base_uri": "https://localhost:8080/",
          "height": 34
        },
        "id": "CswmaeQWXcX9",
        "outputId": "8877ccb2-08b9-49a8-e18a-baabfbf9c54d"
      },
      "execution_count": null,
      "outputs": [
        {
          "output_type": "display_data",
          "data": {
            "text/html": [
              "<style>\n",
              ".list-inline {list-style: none; margin:0; padding: 0}\n",
              ".list-inline>li {display: inline-block}\n",
              ".list-inline>li:not(:last-child)::after {content: \"\\00b7\"; padding: 0 .5ex}\n",
              "</style>\n",
              "<ol class=list-inline><li>'my_var'</li><li>'my.var'</li><li>'myVar'</li><li>'x'</li><li>'y'</li><li>'z'</li></ol>\n"
            ],
            "text/markdown": "1. 'my_var'\n2. 'my.var'\n3. 'myVar'\n4. 'x'\n5. 'y'\n6. 'z'\n\n\n",
            "text/latex": "\\begin{enumerate*}\n\\item 'my\\_var'\n\\item 'my.var'\n\\item 'myVar'\n\\item 'x'\n\\item 'y'\n\\item 'z'\n\\end{enumerate*}\n",
            "text/plain": [
              "[1] \"my_var\" \"my.var\" \"myVar\"  \"x\"      \"y\"      \"z\"     "
            ]
          },
          "metadata": {}
        }
      ]
    },
    {
      "cell_type": "code",
      "source": [
        "#Remove a variable\n",
        "rm(x)\n"
      ],
      "metadata": {
        "id": "lJN7sSfCXcaT"
      },
      "execution_count": null,
      "outputs": []
    },
    {
      "cell_type": "code",
      "source": [
        "rm(list = ls())#Clear workspace\n"
      ],
      "metadata": {
        "id": "u60J3aj5Xcdb"
      },
      "execution_count": null,
      "outputs": []
    },
    {
      "cell_type": "code",
      "source": [
        "num <- 10          # numeric\n",
        "name <- \"Alice\"    # character\n",
        "is_student <- TRUE # logical\n"
      ],
      "metadata": {
        "id": "WHoJzUmCXcgU"
      },
      "execution_count": null,
      "outputs": []
    },
    {
      "cell_type": "code",
      "source": [
        "a <- 5\n",
        "b <- 3.14\n",
        "class(a)   # \"numeric\"\n"
      ],
      "metadata": {
        "id": "U9KITCX4Xcip",
        "colab": {
          "base_uri": "https://localhost:8080/",
          "height": 34
        },
        "outputId": "0697635a-36d4-420e-a1df-da24f3afed92"
      },
      "execution_count": null,
      "outputs": [
        {
          "output_type": "display_data",
          "data": {
            "text/html": [
              "'numeric'"
            ],
            "text/markdown": "'numeric'",
            "text/latex": "'numeric'",
            "text/plain": [
              "[1] \"numeric\""
            ]
          },
          "metadata": {}
        }
      ]
    },
    {
      "cell_type": "code",
      "source": [
        "name <- \"Bob\"\n",
        "class(name) # \"character\"\n"
      ],
      "metadata": {
        "id": "mH_Ib_MUXclC",
        "colab": {
          "base_uri": "https://localhost:8080/",
          "height": 34
        },
        "outputId": "ede077a0-d61b-4408-c011-eec691ffb01f"
      },
      "execution_count": 12,
      "outputs": [
        {
          "output_type": "display_data",
          "data": {
            "text/html": [
              "'character'"
            ],
            "text/markdown": "'character'",
            "text/latex": "'character'",
            "text/plain": [
              "[1] \"character\""
            ]
          },
          "metadata": {}
        }
      ]
    },
    {
      "cell_type": "code",
      "source": [
        "flag <- TRUE\n",
        "class(flag) # \"logical\"\n"
      ],
      "metadata": {
        "id": "teB7_M2cXcnn",
        "colab": {
          "base_uri": "https://localhost:8080/",
          "height": 34
        },
        "outputId": "b73ba962-6b8e-4036-db06-be7e08007ce9"
      },
      "execution_count": 13,
      "outputs": [
        {
          "output_type": "display_data",
          "data": {
            "text/html": [
              "'logical'"
            ],
            "text/markdown": "'logical'",
            "text/latex": "'logical'",
            "text/plain": [
              "[1] \"logical\""
            ]
          },
          "metadata": {}
        }
      ]
    },
    {
      "cell_type": "code",
      "source": [
        "#Factor – Represents categorical data\n",
        "gender <- factor(c(\"Male\", \"Female\", \"Female\", \"Male\"))\n",
        "gender\n",
        "class(gender)  # \"factor\"\n",
        "levels(gender) # shows categories: \"Female\", \"Male\"\n"
      ],
      "metadata": {
        "id": "CkSlxJesXcp8",
        "colab": {
          "base_uri": "https://localhost:8080/",
          "height": 86
        },
        "outputId": "845727ae-7b1d-4e5d-8611-2873c87b7282"
      },
      "execution_count": 14,
      "outputs": [
        {
          "output_type": "display_data",
          "data": {
            "text/html": [
              "<style>\n",
              ".list-inline {list-style: none; margin:0; padding: 0}\n",
              ".list-inline>li {display: inline-block}\n",
              ".list-inline>li:not(:last-child)::after {content: \"\\00b7\"; padding: 0 .5ex}\n",
              "</style>\n",
              "<ol class=list-inline><li>Male</li><li>Female</li><li>Female</li><li>Male</li></ol>\n",
              "\n",
              "<details>\n",
              "\t<summary style=display:list-item;cursor:pointer>\n",
              "\t\t<strong>Levels</strong>:\n",
              "\t</summary>\n",
              "\t<style>\n",
              "\t.list-inline {list-style: none; margin:0; padding: 0}\n",
              "\t.list-inline>li {display: inline-block}\n",
              "\t.list-inline>li:not(:last-child)::after {content: \"\\00b7\"; padding: 0 .5ex}\n",
              "\t</style>\n",
              "\t<ol class=list-inline><li>'Female'</li><li>'Male'</li></ol>\n",
              "</details>"
            ],
            "text/markdown": "1. Male\n2. Female\n3. Female\n4. Male\n\n\n\n**Levels**: 1. 'Female'\n2. 'Male'\n\n\n",
            "text/latex": "\\begin{enumerate*}\n\\item Male\n\\item Female\n\\item Female\n\\item Male\n\\end{enumerate*}\n\n\\emph{Levels}: \\begin{enumerate*}\n\\item 'Female'\n\\item 'Male'\n\\end{enumerate*}\n",
            "text/plain": [
              "[1] Male   Female Female Male  \n",
              "Levels: Female Male"
            ]
          },
          "metadata": {}
        },
        {
          "output_type": "display_data",
          "data": {
            "text/html": [
              "'factor'"
            ],
            "text/markdown": "'factor'",
            "text/latex": "'factor'",
            "text/plain": [
              "[1] \"factor\""
            ]
          },
          "metadata": {}
        },
        {
          "output_type": "display_data",
          "data": {
            "text/html": [
              "<style>\n",
              ".list-inline {list-style: none; margin:0; padding: 0}\n",
              ".list-inline>li {display: inline-block}\n",
              ".list-inline>li:not(:last-child)::after {content: \"\\00b7\"; padding: 0 .5ex}\n",
              "</style>\n",
              "<ol class=list-inline><li>'Female'</li><li>'Male'</li></ol>\n"
            ],
            "text/markdown": "1. 'Female'\n2. 'Male'\n\n\n",
            "text/latex": "\\begin{enumerate*}\n\\item 'Female'\n\\item 'Male'\n\\end{enumerate*}\n",
            "text/plain": [
              "[1] \"Female\" \"Male\"  "
            ]
          },
          "metadata": {}
        }
      ]
    },
    {
      "cell_type": "markdown",
      "source": [
        "Why factor?\n",
        "For categories like Gender, Marital Status, etc.\n",
        "Helps in statistics, plotting, and modeling."
      ],
      "metadata": {
        "id": "AVJE5Ml7YzT-"
      }
    },
    {
      "cell_type": "code",
      "source": [
        "###Character vs Factor\n",
        "\n",
        "\n",
        "# Different types\n",
        "age <- 22                  # numeric\n",
        "name <- \"Tama\"             # character\n",
        "is_student <- TRUE          # logical\n",
        "grade <- factor(\"A\")        # factor\n",
        "\n",
        "# Check their types\n",
        "class(age)       # \"numeric\"\n",
        "class(name)      # \"character\"\n",
        "class(is_student)# \"logical\"\n",
        "class(grade)     # \"factor\"\n"
      ],
      "metadata": {
        "id": "FLk2yHi3Xcsb",
        "colab": {
          "base_uri": "https://localhost:8080/",
          "height": 86
        },
        "outputId": "b8271f78-0f90-47ba-8d27-b3bc0314f842"
      },
      "execution_count": 15,
      "outputs": [
        {
          "output_type": "display_data",
          "data": {
            "text/html": [
              "'numeric'"
            ],
            "text/markdown": "'numeric'",
            "text/latex": "'numeric'",
            "text/plain": [
              "[1] \"numeric\""
            ]
          },
          "metadata": {}
        },
        {
          "output_type": "display_data",
          "data": {
            "text/html": [
              "'character'"
            ],
            "text/markdown": "'character'",
            "text/latex": "'character'",
            "text/plain": [
              "[1] \"character\""
            ]
          },
          "metadata": {}
        },
        {
          "output_type": "display_data",
          "data": {
            "text/html": [
              "'logical'"
            ],
            "text/markdown": "'logical'",
            "text/latex": "'logical'",
            "text/plain": [
              "[1] \"logical\""
            ]
          },
          "metadata": {}
        },
        {
          "output_type": "display_data",
          "data": {
            "text/html": [
              "'factor'"
            ],
            "text/markdown": "'factor'",
            "text/latex": "'factor'",
            "text/plain": [
              "[1] \"factor\""
            ]
          },
          "metadata": {}
        }
      ]
    },
    {
      "cell_type": "code",
      "source": [
        "# Just characters (text)\n",
        "gender_char <- c(\"Male\", \"Female\", \"Female\", \"Male\")\n",
        "class(gender_char)   # \"character\"\n",
        "\n",
        "# Convert to factor\n",
        "gender_factor <- factor(gender_char)\n",
        "class(gender_factor) # \"factor\"\n",
        "\n",
        "gender_factor\n"
      ],
      "metadata": {
        "id": "QFMUEjB_XcvH",
        "colab": {
          "base_uri": "https://localhost:8080/",
          "height": 86
        },
        "outputId": "0cac1528-a123-429f-90a1-a61005f56e52"
      },
      "execution_count": 16,
      "outputs": [
        {
          "output_type": "display_data",
          "data": {
            "text/html": [
              "'character'"
            ],
            "text/markdown": "'character'",
            "text/latex": "'character'",
            "text/plain": [
              "[1] \"character\""
            ]
          },
          "metadata": {}
        },
        {
          "output_type": "display_data",
          "data": {
            "text/html": [
              "'factor'"
            ],
            "text/markdown": "'factor'",
            "text/latex": "'factor'",
            "text/plain": [
              "[1] \"factor\""
            ]
          },
          "metadata": {}
        },
        {
          "output_type": "display_data",
          "data": {
            "text/html": [
              "<style>\n",
              ".list-inline {list-style: none; margin:0; padding: 0}\n",
              ".list-inline>li {display: inline-block}\n",
              ".list-inline>li:not(:last-child)::after {content: \"\\00b7\"; padding: 0 .5ex}\n",
              "</style>\n",
              "<ol class=list-inline><li>Male</li><li>Female</li><li>Female</li><li>Male</li></ol>\n",
              "\n",
              "<details>\n",
              "\t<summary style=display:list-item;cursor:pointer>\n",
              "\t\t<strong>Levels</strong>:\n",
              "\t</summary>\n",
              "\t<style>\n",
              "\t.list-inline {list-style: none; margin:0; padding: 0}\n",
              "\t.list-inline>li {display: inline-block}\n",
              "\t.list-inline>li:not(:last-child)::after {content: \"\\00b7\"; padding: 0 .5ex}\n",
              "\t</style>\n",
              "\t<ol class=list-inline><li>'Female'</li><li>'Male'</li></ol>\n",
              "</details>"
            ],
            "text/markdown": "1. Male\n2. Female\n3. Female\n4. Male\n\n\n\n**Levels**: 1. 'Female'\n2. 'Male'\n\n\n",
            "text/latex": "\\begin{enumerate*}\n\\item Male\n\\item Female\n\\item Female\n\\item Male\n\\end{enumerate*}\n\n\\emph{Levels}: \\begin{enumerate*}\n\\item 'Female'\n\\item 'Male'\n\\end{enumerate*}\n",
            "text/plain": [
              "[1] Male   Female Female Male  \n",
              "Levels: Female Male"
            ]
          },
          "metadata": {}
        }
      ]
    },
    {
      "cell_type": "markdown",
      "source": [
        "Ordered Factors: Sometimes categories have order (e.g., Grades: A < B < C < D)."
      ],
      "metadata": {
        "id": "jsBIshK4ZBJs"
      }
    },
    {
      "cell_type": "code",
      "source": [
        "grades <- factor(c(\"B\", \"A\", \"C\", \"B\", \"A\"),\n",
        "                 levels = c(\"A\", \"B\", \"C\", \"D\"),\n",
        "                 ordered = TRUE)\n",
        "grades\n"
      ],
      "metadata": {
        "id": "sqsxUUhEXcyb",
        "colab": {
          "base_uri": "https://localhost:8080/",
          "height": 52
        },
        "outputId": "ceeb9153-371b-435c-dcc9-8f37aada7e40"
      },
      "execution_count": 17,
      "outputs": [
        {
          "output_type": "display_data",
          "data": {
            "text/html": [
              "<style>\n",
              ".list-inline {list-style: none; margin:0; padding: 0}\n",
              ".list-inline>li {display: inline-block}\n",
              ".list-inline>li:not(:last-child)::after {content: \"\\00b7\"; padding: 0 .5ex}\n",
              "</style>\n",
              "<ol class=list-inline><li>B</li><li>A</li><li>C</li><li>B</li><li>A</li></ol>\n",
              "\n",
              "<details>\n",
              "\t<summary style=display:list-item;cursor:pointer>\n",
              "\t\t<strong>Levels</strong>:\n",
              "\t</summary>\n",
              "\t<style>\n",
              "\t.list-inline {list-style: none; margin:0; padding: 0}\n",
              "\t.list-inline>li {display: inline-block}\n",
              "\t.list-inline>li:not(:last-child)::after {content: \"\\00b7\"; padding: 0 .5ex}\n",
              "\t</style>\n",
              "\t<ol class=list-inline><li>'A'</li><li>'B'</li><li>'C'</li><li>'D'</li></ol>\n",
              "</details>"
            ],
            "text/markdown": "1. B\n2. A\n3. C\n4. B\n5. A\n\n\n\n**Levels**: 1. 'A'\n2. 'B'\n3. 'C'\n4. 'D'\n\n\n",
            "text/latex": "\\begin{enumerate*}\n\\item B\n\\item A\n\\item C\n\\item B\n\\item A\n\\end{enumerate*}\n\n\\emph{Levels}: \\begin{enumerate*}\n\\item 'A'\n\\item 'B'\n\\item 'C'\n\\item 'D'\n\\end{enumerate*}\n",
            "text/plain": [
              "[1] B A C B A\n",
              "Levels: A < B < C < D"
            ]
          },
          "metadata": {}
        }
      ]
    },
    {
      "cell_type": "markdown",
      "source": [
        "[1] B A C B A\n",
        "Levels: A < B < C < D\n",
        "Now R knows A is better than B, B is better than C, etc.\n",
        "\n",
        "\n",
        "\n",
        "\n",
        "\n",
        "\n",
        "\n",
        "Example: Student Results Dataset\n",
        "\n",
        "Imagine we have students with Name, Gender, and Grade."
      ],
      "metadata": {
        "id": "aBB91YVfZKg_"
      }
    },
    {
      "cell_type": "code",
      "source": [
        "# Student dataset\n",
        "students <- data.frame(\n",
        "  Name = c(\"Tama\", \"Rahim\", \"Smriti\", \"Kamal\", \"Rupa\"),\n",
        "  Gender = c(\"Female\", \"Male\", \"Female\", \"Male\", \"Female\"),\n",
        "  Grade = c(\"A\", \"B\", \"C\", \"B\", \"A\")\n",
        ")\n",
        "\n",
        "students\n"
      ],
      "metadata": {
        "id": "B0qTpE1cXc2r",
        "colab": {
          "base_uri": "https://localhost:8080/",
          "height": 255
        },
        "outputId": "d3673346-5b53-4d5b-ba64-168fad5cbd5e"
      },
      "execution_count": 18,
      "outputs": [
        {
          "output_type": "display_data",
          "data": {
            "text/html": [
              "<table class=\"dataframe\">\n",
              "<caption>A data.frame: 5 × 3</caption>\n",
              "<thead>\n",
              "\t<tr><th scope=col>Name</th><th scope=col>Gender</th><th scope=col>Grade</th></tr>\n",
              "\t<tr><th scope=col>&lt;chr&gt;</th><th scope=col>&lt;chr&gt;</th><th scope=col>&lt;chr&gt;</th></tr>\n",
              "</thead>\n",
              "<tbody>\n",
              "\t<tr><td>Tama  </td><td>Female</td><td>A</td></tr>\n",
              "\t<tr><td>Rahim </td><td>Male  </td><td>B</td></tr>\n",
              "\t<tr><td>Smriti</td><td>Female</td><td>C</td></tr>\n",
              "\t<tr><td>Kamal </td><td>Male  </td><td>B</td></tr>\n",
              "\t<tr><td>Rupa  </td><td>Female</td><td>A</td></tr>\n",
              "</tbody>\n",
              "</table>\n"
            ],
            "text/markdown": "\nA data.frame: 5 × 3\n\n| Name &lt;chr&gt; | Gender &lt;chr&gt; | Grade &lt;chr&gt; |\n|---|---|---|\n| Tama   | Female | A |\n| Rahim  | Male   | B |\n| Smriti | Female | C |\n| Kamal  | Male   | B |\n| Rupa   | Female | A |\n\n",
            "text/latex": "A data.frame: 5 × 3\n\\begin{tabular}{lll}\n Name & Gender & Grade\\\\\n <chr> & <chr> & <chr>\\\\\n\\hline\n\t Tama   & Female & A\\\\\n\t Rahim  & Male   & B\\\\\n\t Smriti & Female & C\\\\\n\t Kamal  & Male   & B\\\\\n\t Rupa   & Female & A\\\\\n\\end{tabular}\n",
            "text/plain": [
              "  Name   Gender Grade\n",
              "1 Tama   Female A    \n",
              "2 Rahim  Male   B    \n",
              "3 Smriti Female C    \n",
              "4 Kamal  Male   B    \n",
              "5 Rupa   Female A    "
            ]
          },
          "metadata": {}
        }
      ]
    },
    {
      "cell_type": "code",
      "source": [
        "str(students)\n"
      ],
      "metadata": {
        "id": "j2xPQT20Xc43",
        "colab": {
          "base_uri": "https://localhost:8080/"
        },
        "outputId": "333e10e1-8d82-49fd-95c5-5039e6025b7c"
      },
      "execution_count": 19,
      "outputs": [
        {
          "output_type": "stream",
          "name": "stdout",
          "text": [
            "'data.frame':\t5 obs. of  3 variables:\n",
            " $ Name  : chr  \"Tama\" \"Rahim\" \"Smriti\" \"Kamal\" ...\n",
            " $ Gender: chr  \"Female\" \"Male\" \"Female\" \"Male\" ...\n",
            " $ Grade : chr  \"A\" \"B\" \"C\" \"B\" ...\n"
          ]
        }
      ]
    },
    {
      "cell_type": "code",
      "source": [
        "students$Gender <- factor(students$Gender)\n",
        "students$Grade  <- factor(students$Grade,\n",
        "                          levels = c(\"A\", \"B\", \"C\", \"D\"),\n",
        "                          ordered = TRUE)\n",
        "\n",
        "str(students)\n"
      ],
      "metadata": {
        "id": "8htorXyLXc6p",
        "colab": {
          "base_uri": "https://localhost:8080/"
        },
        "outputId": "f601725c-0b72-4e4c-f384-15647ebb5d90"
      },
      "execution_count": 20,
      "outputs": [
        {
          "output_type": "stream",
          "name": "stdout",
          "text": [
            "'data.frame':\t5 obs. of  3 variables:\n",
            " $ Name  : chr  \"Tama\" \"Rahim\" \"Smriti\" \"Kamal\" ...\n",
            " $ Gender: Factor w/ 2 levels \"Female\",\"Male\": 1 2 1 2 1\n",
            " $ Grade : Ord.factor w/ 4 levels \"A\"<\"B\"<\"C\"<\"D\": 1 2 3 2 1\n"
          ]
        }
      ]
    },
    {
      "cell_type": "code",
      "source": [
        "# Simple bar chart for Gender\n",
        "barplot(table(students$Gender),\n",
        "        main=\"Number of Students by Gender\",\n",
        "        col=c(\"pink\",\"lightblue\"),\n",
        "        ylab=\"Count\")\n"
      ],
      "metadata": {
        "id": "dF8Ph09oXc9L",
        "colab": {
          "base_uri": "https://localhost:8080/",
          "height": 437
        },
        "outputId": "7e183b5b-7224-4ae0-a3df-7fad954b906a"
      },
      "execution_count": 21,
      "outputs": [
        {
          "output_type": "display_data",
          "data": {
            "text/plain": [
              "Plot with title “Number of Students by Gender”"
            ],
            "image/png": "[encoded data removed]"
          },
          "metadata": {
            "image/png": {
              "width": 420,
              "height": 420
            }
          }
        }
      ]
    },
    {
      "cell_type": "code",
      "source": [
        "# Bar chart for Grade\n",
        "barplot(table(students$Grade),\n",
        "        main=\"Number of Students by Grade\",\n",
        "        col=\"lightgreen\",\n",
        "        ylab=\"Count\")\n"
      ],
      "metadata": {
        "id": "UFe2hS1VXc_y",
        "colab": {
          "base_uri": "https://localhost:8080/",
          "height": 437
        },
        "outputId": "c75f76ba-f1e1-43f3-9751-be2a77ccdda7"
      },
      "execution_count": 22,
      "outputs": [
        {
          "output_type": "display_data",
          "data": {
            "text/plain": [
              "Plot with title “Number of Students by Grade”"
            ],
            "image/png": "[encoded data removed]"
          },
          "metadata": {
            "image/png": {
              "width": 420,
              "height": 420
            }
          }
        }
      ]
    },
    {
      "cell_type": "code",
      "source": [
        "# Cross table\n",
        "table_gender_grade <- table(students$Gender, students$Grade)\n",
        "\n",
        "# Side-by-side bar chart\n",
        "barplot(table_gender_grade,\n",
        "        beside = TRUE,\n",
        "        col = c(\"pink\",\"lightblue\"),\n",
        "        legend = rownames(table_gender_grade),\n",
        "        main = \"Students by Gender and Grade\",\n",
        "        ylab = \"Count\")\n"
      ],
      "metadata": {
        "id": "PRpeVe1DXdCR",
        "colab": {
          "base_uri": "https://localhost:8080/",
          "height": 437
        },
        "outputId": "07752dc4-095c-497b-ab85-09e93ca1db59"
      },
      "execution_count": 23,
      "outputs": [
        {
          "output_type": "display_data",
          "data": {
            "text/plain": [
              "Plot with title “Students by Gender and Grade”"
            ],
            "image/png": "[encoded data removed]"
          },
          "metadata": {
            "image/png": {
              "width": 420,
              "height": 420
            }
          }
        }
      ]
    },
    {
      "cell_type": "markdown",
      "source": [
        "Operators\n",
        "\n",
        "Arithmetic Operators"
      ],
      "metadata": {
        "id": "FhPwH04UZ7x0"
      }
    },
    {
      "cell_type": "code",
      "source": [
        "x <- 10\n",
        "y <- 3\n",
        "\n",
        "x + y  # addition -> 13\n",
        "x - y  # subtraction -> 7\n",
        "x * y  # multiplication -> 30\n",
        "x / y  # division -> 3.3333\n",
        "x ^ y  # exponentiation -> 1000\n",
        "x %% y # modulus -> 1 (remainder)\n",
        "x %/% y # integer division -> 3\n"
      ],
      "metadata": {
        "id": "eWgoFSxvXdEf",
        "colab": {
          "base_uri": "https://localhost:8080/",
          "height": 139
        },
        "outputId": "d79a5a0f-6ba5-4853-9369-03a24f00798b"
      },
      "execution_count": 24,
      "outputs": [
        {
          "output_type": "display_data",
          "data": {
            "text/html": [
              "13"
            ],
            "text/markdown": "13",
            "text/latex": "13",
            "text/plain": [
              "[1] 13"
            ]
          },
          "metadata": {}
        },
        {
          "output_type": "display_data",
          "data": {
            "text/html": [
              "7"
            ],
            "text/markdown": "7",
            "text/latex": "7",
            "text/plain": [
              "[1] 7"
            ]
          },
          "metadata": {}
        },
        {
          "output_type": "display_data",
          "data": {
            "text/html": [
              "30"
            ],
            "text/markdown": "30",
            "text/latex": "30",
            "text/plain": [
              "[1] 30"
            ]
          },
          "metadata": {}
        },
        {
          "output_type": "display_data",
          "data": {
            "text/html": [
              "3.33333333333333"
            ],
            "text/markdown": "3.33333333333333",
            "text/latex": "3.33333333333333",
            "text/plain": [
              "[1] 3.333333"
            ]
          },
          "metadata": {}
        },
        {
          "output_type": "display_data",
          "data": {
            "text/html": [
              "1000"
            ],
            "text/markdown": "1000",
            "text/latex": "1000",
            "text/plain": [
              "[1] 1000"
            ]
          },
          "metadata": {}
        },
        {
          "output_type": "display_data",
          "data": {
            "text/html": [
              "1"
            ],
            "text/markdown": "1",
            "text/latex": "1",
            "text/plain": [
              "[1] 1"
            ]
          },
          "metadata": {}
        },
        {
          "output_type": "display_data",
          "data": {
            "text/html": [
              "3"
            ],
            "text/markdown": "3",
            "text/latex": "3",
            "text/plain": [
              "[1] 3"
            ]
          },
          "metadata": {}
        }
      ]
    },
    {
      "cell_type": "code",
      "source": [
        "#Relational Operator\n",
        "x > y  # TRUE\n",
        "x < y  # FALSE\n",
        "x == y # FALSE\n",
        "x != y # TRUE\n",
        "x >= y # TRUE\n",
        "x <= y # FALSE\n"
      ],
      "metadata": {
        "id": "Y3KY8bfuXdGk",
        "colab": {
          "base_uri": "https://localhost:8080/",
          "height": 121
        },
        "outputId": "7c0d8585-dbaa-4916-d7f9-6dc719c95bba"
      },
      "execution_count": 26,
      "outputs": [
        {
          "output_type": "display_data",
          "data": {
            "text/html": [
              "TRUE"
            ],
            "text/markdown": "TRUE",
            "text/latex": "TRUE",
            "text/plain": [
              "[1] TRUE"
            ]
          },
          "metadata": {}
        },
        {
          "output_type": "display_data",
          "data": {
            "text/html": [
              "FALSE"
            ],
            "text/markdown": "FALSE",
            "text/latex": "FALSE",
            "text/plain": [
              "[1] FALSE"
            ]
          },
          "metadata": {}
        },
        {
          "output_type": "display_data",
          "data": {
            "text/html": [
              "FALSE"
            ],
            "text/markdown": "FALSE",
            "text/latex": "FALSE",
            "text/plain": [
              "[1] FALSE"
            ]
          },
          "metadata": {}
        },
        {
          "output_type": "display_data",
          "data": {
            "text/html": [
              "TRUE"
            ],
            "text/markdown": "TRUE",
            "text/latex": "TRUE",
            "text/plain": [
              "[1] TRUE"
            ]
          },
          "metadata": {}
        },
        {
          "output_type": "display_data",
          "data": {
            "text/html": [
              "TRUE"
            ],
            "text/markdown": "TRUE",
            "text/latex": "TRUE",
            "text/plain": [
              "[1] TRUE"
            ]
          },
          "metadata": {}
        },
        {
          "output_type": "display_data",
          "data": {
            "text/html": [
              "FALSE"
            ],
            "text/markdown": "FALSE",
            "text/latex": "FALSE",
            "text/plain": [
              "[1] FALSE"
            ]
          },
          "metadata": {}
        }
      ]
    },
    {
      "cell_type": "code",
      "source": [
        "#Logical Operator\n",
        "a <- TRUE\n",
        "b <- FALSE\n",
        "\n",
        "a & b  # FALSE (AND)\n",
        "a | b  # TRUE  (OR)\n",
        "!a     # FALSE (NOT)\n"
      ],
      "metadata": {
        "id": "LeNoNyPMXdKP",
        "colab": {
          "base_uri": "https://localhost:8080/",
          "height": 69
        },
        "outputId": "b28dddf2-9be4-4e49-cbe5-a9426c6a6b3b"
      },
      "execution_count": 27,
      "outputs": [
        {
          "output_type": "display_data",
          "data": {
            "text/html": [
              "FALSE"
            ],
            "text/markdown": "FALSE",
            "text/latex": "FALSE",
            "text/plain": [
              "[1] FALSE"
            ]
          },
          "metadata": {}
        },
        {
          "output_type": "display_data",
          "data": {
            "text/html": [
              "TRUE"
            ],
            "text/markdown": "TRUE",
            "text/latex": "TRUE",
            "text/plain": [
              "[1] TRUE"
            ]
          },
          "metadata": {}
        },
        {
          "output_type": "display_data",
          "data": {
            "text/html": [
              "FALSE"
            ],
            "text/markdown": "FALSE",
            "text/latex": "FALSE",
            "text/plain": [
              "[1] FALSE"
            ]
          },
          "metadata": {}
        }
      ]
    },
    {
      "cell_type": "markdown",
      "source": [
        "What is a Vector?\n",
        "\n",
        "A vector is the most basic data structure in R.\n",
        "\n",
        "It’s a one-dimensional collection of elements all of the same type.\n",
        "\n",
        "Types: numeric, character, logical, integer, complex."
      ],
      "metadata": {
        "id": "nVRg3KZYagTQ"
      }
    },
    {
      "cell_type": "code",
      "source": [
        "#Creating Vectors: The c() function (combine) is most common\n",
        "v1 <- c(1, 2, 3, 4, 5)           # numeric\n",
        "v2 <- c(\"Alice\", \"Bob\", \"Cara\")  # character\n",
        "v3 <- c(TRUE, FALSE, TRUE)       # logical\n"
      ],
      "metadata": {
        "id": "HZtAvUHGXdMo"
      },
      "execution_count": 28,
      "outputs": []
    },
    {
      "cell_type": "code",
      "source": [
        "#Special ways to create\n",
        "1:10            # sequence 1 to 10\n",
        "seq(1, 10, 2)   # 1, 3, 5, 7, 9 (step = 2)\n",
        "rep(5, times=4) # 5 5 5 5\n",
        "rep(c(1,2), each=3)  # 1 1 1 2 2 2\n"
      ],
      "metadata": {
        "id": "5yecgR-iXdPK",
        "colab": {
          "base_uri": "https://localhost:8080/",
          "height": 86
        },
        "outputId": "5be0a201-c8da-4686-c745-3a1885325401"
      },
      "execution_count": 29,
      "outputs": [
        {
          "output_type": "display_data",
          "data": {
            "text/html": [
              "<style>\n",
              ".list-inline {list-style: none; margin:0; padding: 0}\n",
              ".list-inline>li {display: inline-block}\n",
              ".list-inline>li:not(:last-child)::after {content: \"\\00b7\"; padding: 0 .5ex}\n",
              "</style>\n",
              "<ol class=list-inline><li>1</li><li>2</li><li>3</li><li>4</li><li>5</li><li>6</li><li>7</li><li>8</li><li>9</li><li>10</li></ol>\n"
            ],
            "text/markdown": "1. 1\n2. 2\n3. 3\n4. 4\n5. 5\n6. 6\n7. 7\n8. 8\n9. 9\n10. 10\n\n\n",
            "text/latex": "\\begin{enumerate*}\n\\item 1\n\\item 2\n\\item 3\n\\item 4\n\\item 5\n\\item 6\n\\item 7\n\\item 8\n\\item 9\n\\item 10\n\\end{enumerate*}\n",
            "text/plain": [
              " [1]  1  2  3  4  5  6  7  8  9 10"
            ]
          },
          "metadata": {}
        },
        {
          "output_type": "display_data",
          "data": {
            "text/html": [
              "<style>\n",
              ".list-inline {list-style: none; margin:0; padding: 0}\n",
              ".list-inline>li {display: inline-block}\n",
              ".list-inline>li:not(:last-child)::after {content: \"\\00b7\"; padding: 0 .5ex}\n",
              "</style>\n",
              "<ol class=list-inline><li>1</li><li>3</li><li>5</li><li>7</li><li>9</li></ol>\n"
            ],
            "text/markdown": "1. 1\n2. 3\n3. 5\n4. 7\n5. 9\n\n\n",
            "text/latex": "\\begin{enumerate*}\n\\item 1\n\\item 3\n\\item 5\n\\item 7\n\\item 9\n\\end{enumerate*}\n",
            "text/plain": [
              "[1] 1 3 5 7 9"
            ]
          },
          "metadata": {}
        },
        {
          "output_type": "display_data",
          "data": {
            "text/html": [
              "<style>\n",
              ".list-inline {list-style: none; margin:0; padding: 0}\n",
              ".list-inline>li {display: inline-block}\n",
              ".list-inline>li:not(:last-child)::after {content: \"\\00b7\"; padding: 0 .5ex}\n",
              "</style>\n",
              "<ol class=list-inline><li>5</li><li>5</li><li>5</li><li>5</li></ol>\n"
            ],
            "text/markdown": "1. 5\n2. 5\n3. 5\n4. 5\n\n\n",
            "text/latex": "\\begin{enumerate*}\n\\item 5\n\\item 5\n\\item 5\n\\item 5\n\\end{enumerate*}\n",
            "text/plain": [
              "[1] 5 5 5 5"
            ]
          },
          "metadata": {}
        },
        {
          "output_type": "display_data",
          "data": {
            "text/html": [
              "<style>\n",
              ".list-inline {list-style: none; margin:0; padding: 0}\n",
              ".list-inline>li {display: inline-block}\n",
              ".list-inline>li:not(:last-child)::after {content: \"\\00b7\"; padding: 0 .5ex}\n",
              "</style>\n",
              "<ol class=list-inline><li>1</li><li>1</li><li>1</li><li>2</li><li>2</li><li>2</li></ol>\n"
            ],
            "text/markdown": "1. 1\n2. 1\n3. 1\n4. 2\n5. 2\n6. 2\n\n\n",
            "text/latex": "\\begin{enumerate*}\n\\item 1\n\\item 1\n\\item 1\n\\item 2\n\\item 2\n\\item 2\n\\end{enumerate*}\n",
            "text/plain": [
              "[1] 1 1 1 2 2 2"
            ]
          },
          "metadata": {}
        }
      ]
    },
    {
      "cell_type": "code",
      "source": [
        "#Mixing Data Types: When combining different types, R coerces to the most flexible type\n",
        "c(1, \"Alice\", TRUE)\n",
        "# \"1\" \"Alice\" \"TRUE\"   → everything becomes character\n"
      ],
      "metadata": {
        "colab": {
          "base_uri": "https://localhost:8080/",
          "height": 34
        },
        "id": "OhR9pDnYaqUv",
        "outputId": "b2f2a1a3-6daf-4e1c-8a2c-47b4e8b16bdb"
      },
      "execution_count": 30,
      "outputs": [
        {
          "output_type": "display_data",
          "data": {
            "text/html": [
              "<style>\n",
              ".list-inline {list-style: none; margin:0; padding: 0}\n",
              ".list-inline>li {display: inline-block}\n",
              ".list-inline>li:not(:last-child)::after {content: \"\\00b7\"; padding: 0 .5ex}\n",
              "</style>\n",
              "<ol class=list-inline><li>'1'</li><li>'Alice'</li><li>'TRUE'</li></ol>\n"
            ],
            "text/markdown": "1. '1'\n2. 'Alice'\n3. 'TRUE'\n\n\n",
            "text/latex": "\\begin{enumerate*}\n\\item '1'\n\\item 'Alice'\n\\item 'TRUE'\n\\end{enumerate*}\n",
            "text/plain": [
              "[1] \"1\"     \"Alice\" \"TRUE\" "
            ]
          },
          "metadata": {}
        }
      ]
    },
    {
      "cell_type": "code",
      "source": [
        "#Indexing Vectors: You can access elements by position.\n",
        "#a)Positive Indexing\n",
        "v <- c(10, 20, 30, 40, 50)\n",
        "v[1]     # 10 (first element)\n",
        "v[2:4]   # 20 30 40\n",
        "v[c(1,5)]# 10 50\n"
      ],
      "metadata": {
        "colab": {
          "base_uri": "https://localhost:8080/",
          "height": 69
        },
        "id": "vmlAyZRxaqXi",
        "outputId": "1d584e42-7c34-4758-f003-86c7d27bea19"
      },
      "execution_count": 31,
      "outputs": [
        {
          "output_type": "display_data",
          "data": {
            "text/html": [
              "10"
            ],
            "text/markdown": "10",
            "text/latex": "10",
            "text/plain": [
              "[1] 10"
            ]
          },
          "metadata": {}
        },
        {
          "output_type": "display_data",
          "data": {
            "text/html": [
              "<style>\n",
              ".list-inline {list-style: none; margin:0; padding: 0}\n",
              ".list-inline>li {display: inline-block}\n",
              ".list-inline>li:not(:last-child)::after {content: \"\\00b7\"; padding: 0 .5ex}\n",
              "</style>\n",
              "<ol class=list-inline><li>20</li><li>30</li><li>40</li></ol>\n"
            ],
            "text/markdown": "1. 20\n2. 30\n3. 40\n\n\n",
            "text/latex": "\\begin{enumerate*}\n\\item 20\n\\item 30\n\\item 40\n\\end{enumerate*}\n",
            "text/plain": [
              "[1] 20 30 40"
            ]
          },
          "metadata": {}
        },
        {
          "output_type": "display_data",
          "data": {
            "text/html": [
              "<style>\n",
              ".list-inline {list-style: none; margin:0; padding: 0}\n",
              ".list-inline>li {display: inline-block}\n",
              ".list-inline>li:not(:last-child)::after {content: \"\\00b7\"; padding: 0 .5ex}\n",
              "</style>\n",
              "<ol class=list-inline><li>10</li><li>50</li></ol>\n"
            ],
            "text/markdown": "1. 10\n2. 50\n\n\n",
            "text/latex": "\\begin{enumerate*}\n\\item 10\n\\item 50\n\\end{enumerate*}\n",
            "text/plain": [
              "[1] 10 50"
            ]
          },
          "metadata": {}
        }
      ]
    },
    {
      "cell_type": "code",
      "source": [
        "#b) Negative Indexing\n",
        "v[-1]    # all except first\n",
        "v[-c(2,3)] # remove 2nd and 3rd\n"
      ],
      "metadata": {
        "colab": {
          "base_uri": "https://localhost:8080/",
          "height": 52
        },
        "id": "UpAEVIeVaqad",
        "outputId": "b2173426-0776-4b33-ea75-2d00d11d7460"
      },
      "execution_count": 32,
      "outputs": [
        {
          "output_type": "display_data",
          "data": {
            "text/html": [
              "<style>\n",
              ".list-inline {list-style: none; margin:0; padding: 0}\n",
              ".list-inline>li {display: inline-block}\n",
              ".list-inline>li:not(:last-child)::after {content: \"\\00b7\"; padding: 0 .5ex}\n",
              "</style>\n",
              "<ol class=list-inline><li>20</li><li>30</li><li>40</li><li>50</li></ol>\n"
            ],
            "text/markdown": "1. 20\n2. 30\n3. 40\n4. 50\n\n\n",
            "text/latex": "\\begin{enumerate*}\n\\item 20\n\\item 30\n\\item 40\n\\item 50\n\\end{enumerate*}\n",
            "text/plain": [
              "[1] 20 30 40 50"
            ]
          },
          "metadata": {}
        },
        {
          "output_type": "display_data",
          "data": {
            "text/html": [
              "<style>\n",
              ".list-inline {list-style: none; margin:0; padding: 0}\n",
              ".list-inline>li {display: inline-block}\n",
              ".list-inline>li:not(:last-child)::after {content: \"\\00b7\"; padding: 0 .5ex}\n",
              "</style>\n",
              "<ol class=list-inline><li>10</li><li>40</li><li>50</li></ol>\n"
            ],
            "text/markdown": "1. 10\n2. 40\n3. 50\n\n\n",
            "text/latex": "\\begin{enumerate*}\n\\item 10\n\\item 40\n\\item 50\n\\end{enumerate*}\n",
            "text/plain": [
              "[1] 10 40 50"
            ]
          },
          "metadata": {}
        }
      ]
    },
    {
      "cell_type": "code",
      "source": [
        "#c) Logical Indexing\n",
        "v[v > 25]    # values greater than 25 → 30 40 50\n",
        "v[v %% 20==0] # divisible by 20 → 20 40\n"
      ],
      "metadata": {
        "colab": {
          "base_uri": "https://localhost:8080/",
          "height": 52
        },
        "id": "-1yEXYGMaqdN",
        "outputId": "833e2585-1eb6-4427-f7c3-dccd597c121c"
      },
      "execution_count": 33,
      "outputs": [
        {
          "output_type": "display_data",
          "data": {
            "text/html": [
              "<style>\n",
              ".list-inline {list-style: none; margin:0; padding: 0}\n",
              ".list-inline>li {display: inline-block}\n",
              ".list-inline>li:not(:last-child)::after {content: \"\\00b7\"; padding: 0 .5ex}\n",
              "</style>\n",
              "<ol class=list-inline><li>30</li><li>40</li><li>50</li></ol>\n"
            ],
            "text/markdown": "1. 30\n2. 40\n3. 50\n\n\n",
            "text/latex": "\\begin{enumerate*}\n\\item 30\n\\item 40\n\\item 50\n\\end{enumerate*}\n",
            "text/plain": [
              "[1] 30 40 50"
            ]
          },
          "metadata": {}
        },
        {
          "output_type": "display_data",
          "data": {
            "text/html": [
              "<style>\n",
              ".list-inline {list-style: none; margin:0; padding: 0}\n",
              ".list-inline>li {display: inline-block}\n",
              ".list-inline>li:not(:last-child)::after {content: \"\\00b7\"; padding: 0 .5ex}\n",
              "</style>\n",
              "<ol class=list-inline><li>20</li><li>40</li></ol>\n"
            ],
            "text/markdown": "1. 20\n2. 40\n\n\n",
            "text/latex": "\\begin{enumerate*}\n\\item 20\n\\item 40\n\\end{enumerate*}\n",
            "text/plain": [
              "[1] 20 40"
            ]
          },
          "metadata": {}
        }
      ]
    },
    {
      "cell_type": "code",
      "source": [
        "#d) Name Indexing\n",
        "scores <- c(Alice=90, Bob=85, Cara=88)\n",
        "scores[\"Alice\"]   # 90\n",
        "scores[c(\"Bob\",\"Cara\")]  # 85 88\n"
      ],
      "metadata": {
        "colab": {
          "base_uri": "https://localhost:8080/",
          "height": 52
        },
        "id": "zn-uY0zAaqgF",
        "outputId": "866fc671-bd57-4e7a-c2a8-98d9ffa20383"
      },
      "execution_count": 34,
      "outputs": [
        {
          "output_type": "display_data",
          "data": {
            "text/html": [
              "<strong>Alice:</strong> 90"
            ],
            "text/markdown": "**Alice:** 90",
            "text/latex": "\\textbf{Alice:} 90",
            "text/plain": [
              "Alice \n",
              "   90 "
            ]
          },
          "metadata": {}
        },
        {
          "output_type": "display_data",
          "data": {
            "text/html": [
              "<style>\n",
              ".dl-inline {width: auto; margin:0; padding: 0}\n",
              ".dl-inline>dt, .dl-inline>dd {float: none; width: auto; display: inline-block}\n",
              ".dl-inline>dt::after {content: \":\\0020\"; padding-right: .5ex}\n",
              ".dl-inline>dt:not(:first-of-type) {padding-left: .5ex}\n",
              "</style><dl class=dl-inline><dt>Bob</dt><dd>85</dd><dt>Cara</dt><dd>88</dd></dl>\n"
            ],
            "text/markdown": "Bob\n:   85Cara\n:   88\n\n",
            "text/latex": "\\begin{description*}\n\\item[Bob] 85\n\\item[Cara] 88\n\\end{description*}\n",
            "text/plain": [
              " Bob Cara \n",
              "  85   88 "
            ]
          },
          "metadata": {}
        }
      ]
    },
    {
      "cell_type": "markdown",
      "source": [
        "Vectorized Operations\n",
        "\n",
        "R is vectorized → operations apply to each element automatically."
      ],
      "metadata": {
        "id": "N7gbweMDa_u-"
      }
    },
    {
      "cell_type": "code",
      "source": [
        "#a) Arithmetic\n",
        "x <- c(1,2,3)\n",
        "y <- c(4,5,6)\n",
        "\n",
        "x + y   # 5 7 9\n",
        "x * y   # 4 10 18\n",
        "x ^ 2   # 1 4 9\n"
      ],
      "metadata": {
        "colab": {
          "base_uri": "https://localhost:8080/",
          "height": 69
        },
        "id": "XhH1wa4WaqjC",
        "outputId": "9f3a3f81-755d-47fa-d1c3-401ec355659e"
      },
      "execution_count": 35,
      "outputs": [
        {
          "output_type": "display_data",
          "data": {
            "text/html": [
              "<style>\n",
              ".list-inline {list-style: none; margin:0; padding: 0}\n",
              ".list-inline>li {display: inline-block}\n",
              ".list-inline>li:not(:last-child)::after {content: \"\\00b7\"; padding: 0 .5ex}\n",
              "</style>\n",
              "<ol class=list-inline><li>5</li><li>7</li><li>9</li></ol>\n"
            ],
            "text/markdown": "1. 5\n2. 7\n3. 9\n\n\n",
            "text/latex": "\\begin{enumerate*}\n\\item 5\n\\item 7\n\\item 9\n\\end{enumerate*}\n",
            "text/plain": [
              "[1] 5 7 9"
            ]
          },
          "metadata": {}
        },
        {
          "output_type": "display_data",
          "data": {
            "text/html": [
              "<style>\n",
              ".list-inline {list-style: none; margin:0; padding: 0}\n",
              ".list-inline>li {display: inline-block}\n",
              ".list-inline>li:not(:last-child)::after {content: \"\\00b7\"; padding: 0 .5ex}\n",
              "</style>\n",
              "<ol class=list-inline><li>4</li><li>10</li><li>18</li></ol>\n"
            ],
            "text/markdown": "1. 4\n2. 10\n3. 18\n\n\n",
            "text/latex": "\\begin{enumerate*}\n\\item 4\n\\item 10\n\\item 18\n\\end{enumerate*}\n",
            "text/plain": [
              "[1]  4 10 18"
            ]
          },
          "metadata": {}
        },
        {
          "output_type": "display_data",
          "data": {
            "text/html": [
              "<style>\n",
              ".list-inline {list-style: none; margin:0; padding: 0}\n",
              ".list-inline>li {display: inline-block}\n",
              ".list-inline>li:not(:last-child)::after {content: \"\\00b7\"; padding: 0 .5ex}\n",
              "</style>\n",
              "<ol class=list-inline><li>1</li><li>4</li><li>9</li></ol>\n"
            ],
            "text/markdown": "1. 1\n2. 4\n3. 9\n\n\n",
            "text/latex": "\\begin{enumerate*}\n\\item 1\n\\item 4\n\\item 9\n\\end{enumerate*}\n",
            "text/plain": [
              "[1] 1 4 9"
            ]
          },
          "metadata": {}
        }
      ]
    },
    {
      "cell_type": "code",
      "source": [
        "#b) Recycling Rule: If vectors are of unequal length, R repeats (recycles) the shorter one\n",
        "x <- c(1,2,3,4)\n",
        "y <- c(10,20)\n",
        "x + y\n",
        "# (1+10, 2+20, 3+10, 4+20) → 11 22 13 24\n",
        "#Warning if lengths are not multiples.\n"
      ],
      "metadata": {
        "colab": {
          "base_uri": "https://localhost:8080/",
          "height": 34
        },
        "id": "6hc-TvGyaqmr",
        "outputId": "fc884bb7-b164-4370-aa7a-c6fc95e2e29e"
      },
      "execution_count": 36,
      "outputs": [
        {
          "output_type": "display_data",
          "data": {
            "text/html": [
              "<style>\n",
              ".list-inline {list-style: none; margin:0; padding: 0}\n",
              ".list-inline>li {display: inline-block}\n",
              ".list-inline>li:not(:last-child)::after {content: \"\\00b7\"; padding: 0 .5ex}\n",
              "</style>\n",
              "<ol class=list-inline><li>11</li><li>22</li><li>13</li><li>24</li></ol>\n"
            ],
            "text/markdown": "1. 11\n2. 22\n3. 13\n4. 24\n\n\n",
            "text/latex": "\\begin{enumerate*}\n\\item 11\n\\item 22\n\\item 13\n\\item 24\n\\end{enumerate*}\n",
            "text/plain": [
              "[1] 11 22 13 24"
            ]
          },
          "metadata": {}
        }
      ]
    },
    {
      "cell_type": "code",
      "source": [
        "\n",
        "#Relational & Logical Operations\n",
        "x <- c(5, 10, 15)\n",
        "\n",
        "x > 8     # FALSE TRUE TRUE\n",
        "x == 10   # FALSE TRUE FALSE\n",
        "x != 15   # TRUE TRUE FALSE\n",
        "\n",
        "any(x > 12) # TRUE (at least one)\n",
        "all(x > 12) # FALSE (not all)\n"
      ],
      "metadata": {
        "colab": {
          "base_uri": "https://localhost:8080/",
          "height": 104
        },
        "id": "LH-sWcL9aqrQ",
        "outputId": "b5666239-c2fe-4fb4-da2e-6f897cc23668"
      },
      "execution_count": 37,
      "outputs": [
        {
          "output_type": "display_data",
          "data": {
            "text/html": [
              "<style>\n",
              ".list-inline {list-style: none; margin:0; padding: 0}\n",
              ".list-inline>li {display: inline-block}\n",
              ".list-inline>li:not(:last-child)::after {content: \"\\00b7\"; padding: 0 .5ex}\n",
              "</style>\n",
              "<ol class=list-inline><li>FALSE</li><li>TRUE</li><li>TRUE</li></ol>\n"
            ],
            "text/markdown": "1. FALSE\n2. TRUE\n3. TRUE\n\n\n",
            "text/latex": "\\begin{enumerate*}\n\\item FALSE\n\\item TRUE\n\\item TRUE\n\\end{enumerate*}\n",
            "text/plain": [
              "[1] FALSE  TRUE  TRUE"
            ]
          },
          "metadata": {}
        },
        {
          "output_type": "display_data",
          "data": {
            "text/html": [
              "<style>\n",
              ".list-inline {list-style: none; margin:0; padding: 0}\n",
              ".list-inline>li {display: inline-block}\n",
              ".list-inline>li:not(:last-child)::after {content: \"\\00b7\"; padding: 0 .5ex}\n",
              "</style>\n",
              "<ol class=list-inline><li>FALSE</li><li>TRUE</li><li>FALSE</li></ol>\n"
            ],
            "text/markdown": "1. FALSE\n2. TRUE\n3. FALSE\n\n\n",
            "text/latex": "\\begin{enumerate*}\n\\item FALSE\n\\item TRUE\n\\item FALSE\n\\end{enumerate*}\n",
            "text/plain": [
              "[1] FALSE  TRUE FALSE"
            ]
          },
          "metadata": {}
        },
        {
          "output_type": "display_data",
          "data": {
            "text/html": [
              "<style>\n",
              ".list-inline {list-style: none; margin:0; padding: 0}\n",
              ".list-inline>li {display: inline-block}\n",
              ".list-inline>li:not(:last-child)::after {content: \"\\00b7\"; padding: 0 .5ex}\n",
              "</style>\n",
              "<ol class=list-inline><li>TRUE</li><li>TRUE</li><li>FALSE</li></ol>\n"
            ],
            "text/markdown": "1. TRUE\n2. TRUE\n3. FALSE\n\n\n",
            "text/latex": "\\begin{enumerate*}\n\\item TRUE\n\\item TRUE\n\\item FALSE\n\\end{enumerate*}\n",
            "text/plain": [
              "[1]  TRUE  TRUE FALSE"
            ]
          },
          "metadata": {}
        },
        {
          "output_type": "display_data",
          "data": {
            "text/html": [
              "TRUE"
            ],
            "text/markdown": "TRUE",
            "text/latex": "TRUE",
            "text/plain": [
              "[1] TRUE"
            ]
          },
          "metadata": {}
        },
        {
          "output_type": "display_data",
          "data": {
            "text/html": [
              "FALSE"
            ],
            "text/markdown": "FALSE",
            "text/latex": "FALSE",
            "text/plain": [
              "[1] FALSE"
            ]
          },
          "metadata": {}
        }
      ]
    },
    {
      "cell_type": "code",
      "source": [
        "#Common Vector Functions\n",
        "#Mathmatical\n",
        "sum(x)    # total\n",
        "mean(x)   # average\n",
        "median(x) # middle\n",
        "sd(x)     # standard deviation\n",
        "var(x)    # variance\n",
        "min(x); max(x) # smallest, largest\n",
        "range(x)  # min and max\n"
      ],
      "metadata": {
        "colab": {
          "base_uri": "https://localhost:8080/",
          "height": 156
        },
        "id": "WQmSjAdRaquC",
        "outputId": "62e1ef30-c6dd-442b-e725-0c0a0a54c3a8"
      },
      "execution_count": 38,
      "outputs": [
        {
          "output_type": "display_data",
          "data": {
            "text/html": [
              "30"
            ],
            "text/markdown": "30",
            "text/latex": "30",
            "text/plain": [
              "[1] 30"
            ]
          },
          "metadata": {}
        },
        {
          "output_type": "display_data",
          "data": {
            "text/html": [
              "10"
            ],
            "text/markdown": "10",
            "text/latex": "10",
            "text/plain": [
              "[1] 10"
            ]
          },
          "metadata": {}
        },
        {
          "output_type": "display_data",
          "data": {
            "text/html": [
              "10"
            ],
            "text/markdown": "10",
            "text/latex": "10",
            "text/plain": [
              "[1] 10"
            ]
          },
          "metadata": {}
        },
        {
          "output_type": "display_data",
          "data": {
            "text/html": [
              "5"
            ],
            "text/markdown": "5",
            "text/latex": "5",
            "text/plain": [
              "[1] 5"
            ]
          },
          "metadata": {}
        },
        {
          "output_type": "display_data",
          "data": {
            "text/html": [
              "25"
            ],
            "text/markdown": "25",
            "text/latex": "25",
            "text/plain": [
              "[1] 25"
            ]
          },
          "metadata": {}
        },
        {
          "output_type": "display_data",
          "data": {
            "text/html": [
              "5"
            ],
            "text/markdown": "5",
            "text/latex": "5",
            "text/plain": [
              "[1] 5"
            ]
          },
          "metadata": {}
        },
        {
          "output_type": "display_data",
          "data": {
            "text/html": [
              "15"
            ],
            "text/markdown": "15",
            "text/latex": "15",
            "text/plain": [
              "[1] 15"
            ]
          },
          "metadata": {}
        },
        {
          "output_type": "display_data",
          "data": {
            "text/html": [
              "<style>\n",
              ".list-inline {list-style: none; margin:0; padding: 0}\n",
              ".list-inline>li {display: inline-block}\n",
              ".list-inline>li:not(:last-child)::after {content: \"\\00b7\"; padding: 0 .5ex}\n",
              "</style>\n",
              "<ol class=list-inline><li>5</li><li>15</li></ol>\n"
            ],
            "text/markdown": "1. 5\n2. 15\n\n\n",
            "text/latex": "\\begin{enumerate*}\n\\item 5\n\\item 15\n\\end{enumerate*}\n",
            "text/plain": [
              "[1]  5 15"
            ]
          },
          "metadata": {}
        }
      ]
    },
    {
      "cell_type": "code",
      "source": [
        "#Sorting & Ordering\n",
        "sort(x)       # ascending\n",
        "sort(x, decreasing=TRUE) # descending\n",
        "order(x)      # returns index order\n"
      ],
      "metadata": {
        "colab": {
          "base_uri": "https://localhost:8080/",
          "height": 69
        },
        "id": "HPMJwOYFaqxU",
        "outputId": "dc515f9f-78d7-45e8-bd17-be229e08203f"
      },
      "execution_count": 39,
      "outputs": [
        {
          "output_type": "display_data",
          "data": {
            "text/html": [
              "<style>\n",
              ".list-inline {list-style: none; margin:0; padding: 0}\n",
              ".list-inline>li {display: inline-block}\n",
              ".list-inline>li:not(:last-child)::after {content: \"\\00b7\"; padding: 0 .5ex}\n",
              "</style>\n",
              "<ol class=list-inline><li>5</li><li>10</li><li>15</li></ol>\n"
            ],
            "text/markdown": "1. 5\n2. 10\n3. 15\n\n\n",
            "text/latex": "\\begin{enumerate*}\n\\item 5\n\\item 10\n\\item 15\n\\end{enumerate*}\n",
            "text/plain": [
              "[1]  5 10 15"
            ]
          },
          "metadata": {}
        },
        {
          "output_type": "display_data",
          "data": {
            "text/html": [
              "<style>\n",
              ".list-inline {list-style: none; margin:0; padding: 0}\n",
              ".list-inline>li {display: inline-block}\n",
              ".list-inline>li:not(:last-child)::after {content: \"\\00b7\"; padding: 0 .5ex}\n",
              "</style>\n",
              "<ol class=list-inline><li>15</li><li>10</li><li>5</li></ol>\n"
            ],
            "text/markdown": "1. 15\n2. 10\n3. 5\n\n\n",
            "text/latex": "\\begin{enumerate*}\n\\item 15\n\\item 10\n\\item 5\n\\end{enumerate*}\n",
            "text/plain": [
              "[1] 15 10  5"
            ]
          },
          "metadata": {}
        },
        {
          "output_type": "display_data",
          "data": {
            "text/html": [
              "<style>\n",
              ".list-inline {list-style: none; margin:0; padding: 0}\n",
              ".list-inline>li {display: inline-block}\n",
              ".list-inline>li:not(:last-child)::after {content: \"\\00b7\"; padding: 0 .5ex}\n",
              "</style>\n",
              "<ol class=list-inline><li>1</li><li>2</li><li>3</li></ol>\n"
            ],
            "text/markdown": "1. 1\n2. 2\n3. 3\n\n\n",
            "text/latex": "\\begin{enumerate*}\n\\item 1\n\\item 2\n\\item 3\n\\end{enumerate*}\n",
            "text/plain": [
              "[1] 1 2 3"
            ]
          },
          "metadata": {}
        }
      ]
    },
    {
      "cell_type": "code",
      "source": [
        "#Length & Structure\n",
        "length(x)  # number of elements\n",
        "str(x)     # structure info\n",
        "typeof(x)  # type of elements\n"
      ],
      "metadata": {
        "colab": {
          "base_uri": "https://localhost:8080/",
          "height": 69
        },
        "id": "PqR9QZnfarJ-",
        "outputId": "2e78478a-7ead-45e1-e310-52fad069137a"
      },
      "execution_count": 40,
      "outputs": [
        {
          "output_type": "display_data",
          "data": {
            "text/html": [
              "3"
            ],
            "text/markdown": "3",
            "text/latex": "3",
            "text/plain": [
              "[1] 3"
            ]
          },
          "metadata": {}
        },
        {
          "output_type": "stream",
          "name": "stdout",
          "text": [
            " num [1:3] 5 10 15\n"
          ]
        },
        {
          "output_type": "display_data",
          "data": {
            "text/html": [
              "'double'"
            ],
            "text/markdown": "'double'",
            "text/latex": "'double'",
            "text/plain": [
              "[1] \"double\""
            ]
          },
          "metadata": {}
        }
      ]
    },
    {
      "cell_type": "code",
      "source": [
        "#Combining & Modifying Vectors\n",
        "x <- c(1,2,3)\n",
        "x <- c(x, 4,5)  # add new elements\n",
        "x[2] <- 10      # change 2nd element\n"
      ],
      "metadata": {
        "id": "NUb2G10FarNA"
      },
      "execution_count": 41,
      "outputs": []
    },
    {
      "cell_type": "code",
      "source": [
        "#Missing Values in Vectors: NA = missing value.\n",
        "v <- c(1, 2, NA, 4)\n",
        "mean(v)         # NA\n",
        "\n"
      ],
      "metadata": {
        "colab": {
          "base_uri": "https://localhost:8080/",
          "height": 34
        },
        "id": "bPKH2ORParPm",
        "outputId": "284ae1b6-bc00-457b-e25e-64f7b9e8b456"
      },
      "execution_count": 42,
      "outputs": [
        {
          "output_type": "display_data",
          "data": {
            "text/html": [
              "&lt;NA&gt;"
            ],
            "text/markdown": "&lt;NA&gt;",
            "text/latex": "<NA>",
            "text/plain": [
              "[1] NA"
            ]
          },
          "metadata": {}
        }
      ]
    },
    {
      "cell_type": "code",
      "source": [
        "mean(v, na.rm=TRUE) # 2.3333"
      ],
      "metadata": {
        "colab": {
          "base_uri": "https://localhost:8080/",
          "height": 34
        },
        "id": "otXLhNBZarSj",
        "outputId": "58cc5e65-214f-4e19-88e8-97a62f3bf042"
      },
      "execution_count": 43,
      "outputs": [
        {
          "output_type": "display_data",
          "data": {
            "text/html": [
              "2.33333333333333"
            ],
            "text/markdown": "2.33333333333333",
            "text/latex": "2.33333333333333",
            "text/plain": [
              "[1] 2.333333"
            ]
          },
          "metadata": {}
        }
      ]
    },
    {
      "cell_type": "code",
      "source": [
        "#Special Vectors\n",
        "numeric(5)   # 0 0 0 0 0\n",
        "character(3) # \"\" \"\" \"\"\n",
        "logical(4)   # FALSE FALSE FALSE FALSE\n"
      ],
      "metadata": {
        "colab": {
          "base_uri": "https://localhost:8080/",
          "height": 69
        },
        "id": "S76YCtMaarV0",
        "outputId": "138237e6-f8b1-4141-c08d-dbc9c9bd7d83"
      },
      "execution_count": 44,
      "outputs": [
        {
          "output_type": "display_data",
          "data": {
            "text/html": [
              "<style>\n",
              ".list-inline {list-style: none; margin:0; padding: 0}\n",
              ".list-inline>li {display: inline-block}\n",
              ".list-inline>li:not(:last-child)::after {content: \"\\00b7\"; padding: 0 .5ex}\n",
              "</style>\n",
              "<ol class=list-inline><li>0</li><li>0</li><li>0</li><li>0</li><li>0</li></ol>\n"
            ],
            "text/markdown": "1. 0\n2. 0\n3. 0\n4. 0\n5. 0\n\n\n",
            "text/latex": "\\begin{enumerate*}\n\\item 0\n\\item 0\n\\item 0\n\\item 0\n\\item 0\n\\end{enumerate*}\n",
            "text/plain": [
              "[1] 0 0 0 0 0"
            ]
          },
          "metadata": {}
        },
        {
          "output_type": "display_data",
          "data": {
            "text/html": [
              "<style>\n",
              ".list-inline {list-style: none; margin:0; padding: 0}\n",
              ".list-inline>li {display: inline-block}\n",
              ".list-inline>li:not(:last-child)::after {content: \"\\00b7\"; padding: 0 .5ex}\n",
              "</style>\n",
              "<ol class=list-inline><li>''</li><li>''</li><li>''</li></ol>\n"
            ],
            "text/markdown": "1. ''\n2. ''\n3. ''\n\n\n",
            "text/latex": "\\begin{enumerate*}\n\\item ''\n\\item ''\n\\item ''\n\\end{enumerate*}\n",
            "text/plain": [
              "[1] \"\" \"\" \"\""
            ]
          },
          "metadata": {}
        },
        {
          "output_type": "display_data",
          "data": {
            "text/html": [
              "<style>\n",
              ".list-inline {list-style: none; margin:0; padding: 0}\n",
              ".list-inline>li {display: inline-block}\n",
              ".list-inline>li:not(:last-child)::after {content: \"\\00b7\"; padding: 0 .5ex}\n",
              "</style>\n",
              "<ol class=list-inline><li>FALSE</li><li>FALSE</li><li>FALSE</li><li>FALSE</li></ol>\n"
            ],
            "text/markdown": "1. FALSE\n2. FALSE\n3. FALSE\n4. FALSE\n\n\n",
            "text/latex": "\\begin{enumerate*}\n\\item FALSE\n\\item FALSE\n\\item FALSE\n\\item FALSE\n\\end{enumerate*}\n",
            "text/plain": [
              "[1] FALSE FALSE FALSE FALSE"
            ]
          },
          "metadata": {}
        }
      ]
    },
    {
      "cell_type": "code",
      "source": [
        "# Create a vector of student marks\n",
        "marks <- c(85, 90, 78, 92, 88)\n",
        "\n",
        "# 1. Find mean, max, min\n",
        "mean(marks); max(marks); min(marks)\n",
        "\n",
        "# 2. Extract the 2nd and 4th marks\n",
        "marks[c(2,4)]\n",
        "\n",
        "# 3. Which marks are greater than 85?\n",
        "marks[marks > 85]\n",
        "\n",
        "# 4. Add a new mark (95)\n",
        "marks <- c(marks, 95)\n",
        "\n",
        "# 5. Sort marks in descending order\n",
        "sort(marks, decreasing=TRUE)\n"
      ],
      "metadata": {
        "colab": {
          "base_uri": "https://localhost:8080/",
          "height": 121
        },
        "id": "0G8rWddUarY6",
        "outputId": "80a3c8c4-6302-4736-f968-6db121a8eba1"
      },
      "execution_count": 45,
      "outputs": [
        {
          "output_type": "display_data",
          "data": {
            "text/html": [
              "86.6"
            ],
            "text/markdown": "86.6",
            "text/latex": "86.6",
            "text/plain": [
              "[1] 86.6"
            ]
          },
          "metadata": {}
        },
        {
          "output_type": "display_data",
          "data": {
            "text/html": [
              "92"
            ],
            "text/markdown": "92",
            "text/latex": "92",
            "text/plain": [
              "[1] 92"
            ]
          },
          "metadata": {}
        },
        {
          "output_type": "display_data",
          "data": {
            "text/html": [
              "78"
            ],
            "text/markdown": "78",
            "text/latex": "78",
            "text/plain": [
              "[1] 78"
            ]
          },
          "metadata": {}
        },
        {
          "output_type": "display_data",
          "data": {
            "text/html": [
              "<style>\n",
              ".list-inline {list-style: none; margin:0; padding: 0}\n",
              ".list-inline>li {display: inline-block}\n",
              ".list-inline>li:not(:last-child)::after {content: \"\\00b7\"; padding: 0 .5ex}\n",
              "</style>\n",
              "<ol class=list-inline><li>90</li><li>92</li></ol>\n"
            ],
            "text/markdown": "1. 90\n2. 92\n\n\n",
            "text/latex": "\\begin{enumerate*}\n\\item 90\n\\item 92\n\\end{enumerate*}\n",
            "text/plain": [
              "[1] 90 92"
            ]
          },
          "metadata": {}
        },
        {
          "output_type": "display_data",
          "data": {
            "text/html": [
              "<style>\n",
              ".list-inline {list-style: none; margin:0; padding: 0}\n",
              ".list-inline>li {display: inline-block}\n",
              ".list-inline>li:not(:last-child)::after {content: \"\\00b7\"; padding: 0 .5ex}\n",
              "</style>\n",
              "<ol class=list-inline><li>90</li><li>92</li><li>88</li></ol>\n"
            ],
            "text/markdown": "1. 90\n2. 92\n3. 88\n\n\n",
            "text/latex": "\\begin{enumerate*}\n\\item 90\n\\item 92\n\\item 88\n\\end{enumerate*}\n",
            "text/plain": [
              "[1] 90 92 88"
            ]
          },
          "metadata": {}
        },
        {
          "output_type": "display_data",
          "data": {
            "text/html": [
              "<style>\n",
              ".list-inline {list-style: none; margin:0; padding: 0}\n",
              ".list-inline>li {display: inline-block}\n",
              ".list-inline>li:not(:last-child)::after {content: \"\\00b7\"; padding: 0 .5ex}\n",
              "</style>\n",
              "<ol class=list-inline><li>95</li><li>92</li><li>90</li><li>88</li><li>85</li><li>78</li></ol>\n"
            ],
            "text/markdown": "1. 95\n2. 92\n3. 90\n4. 88\n5. 85\n6. 78\n\n\n",
            "text/latex": "\\begin{enumerate*}\n\\item 95\n\\item 92\n\\item 90\n\\item 88\n\\item 85\n\\item 78\n\\end{enumerate*}\n",
            "text/plain": [
              "[1] 95 92 90 88 85 78"
            ]
          },
          "metadata": {}
        }
      ]
    },
    {
      "cell_type": "markdown",
      "source": [
        "In R, subsetting a vector means extracting part(s) of a vector using indexing.\n",
        "Subsetting a vector = extracting parts of it.\n",
        "\n",
        "By position → v[1:3]\n",
        "\n",
        "By negative index → v[-2]\n",
        "\n",
        "By logical condition → v[v>20]\n",
        "\n",
        "By name → v[\"a\"]\n",
        "\n",
        "With which() for positions"
      ],
      "metadata": {
        "id": "U-3tKVSUbvka"
      }
    },
    {
      "cell_type": "code",
      "source": [
        "v <- c(10, 20, 30, 40, 50)\n",
        "names(v) <- c(\"a\", \"b\", \"c\", \"d\", \"e\") # add names\n",
        "v\n",
        "#  a  b  c  d  e\n",
        "# 10 20 30 40 50\n"
      ],
      "metadata": {
        "colab": {
          "base_uri": "https://localhost:8080/",
          "height": 34
        },
        "id": "iMRbT1yearb8",
        "outputId": "cae794af-3437-4291-eb96-8f2411123e10"
      },
      "execution_count": 46,
      "outputs": [
        {
          "output_type": "display_data",
          "data": {
            "text/html": [
              "<style>\n",
              ".dl-inline {width: auto; margin:0; padding: 0}\n",
              ".dl-inline>dt, .dl-inline>dd {float: none; width: auto; display: inline-block}\n",
              ".dl-inline>dt::after {content: \":\\0020\"; padding-right: .5ex}\n",
              ".dl-inline>dt:not(:first-of-type) {padding-left: .5ex}\n",
              "</style><dl class=dl-inline><dt>a</dt><dd>10</dd><dt>b</dt><dd>20</dd><dt>c</dt><dd>30</dd><dt>d</dt><dd>40</dd><dt>e</dt><dd>50</dd></dl>\n"
            ],
            "text/markdown": "a\n:   10b\n:   20c\n:   30d\n:   40e\n:   50\n\n",
            "text/latex": "\\begin{description*}\n\\item[a] 10\n\\item[b] 20\n\\item[c] 30\n\\item[d] 40\n\\item[e] 50\n\\end{description*}\n",
            "text/plain": [
              " a  b  c  d  e \n",
              "10 20 30 40 50 "
            ]
          },
          "metadata": {}
        }
      ]
    },
    {
      "cell_type": "code",
      "source": [
        "#Positive Indexing: Select elements by position\n",
        "v[1]       # first element → 10\n",
        "v[2:4]     # elements 2 to 4 → 20 30 40\n",
        "v[c(1,5)]  # 1st and 5th → 10 50\n"
      ],
      "metadata": {
        "colab": {
          "base_uri": "https://localhost:8080/",
          "height": 69
        },
        "id": "O6W6Oq8Larfj",
        "outputId": "fce67637-81ec-47ed-b42f-03869e125b43"
      },
      "execution_count": 47,
      "outputs": [
        {
          "output_type": "display_data",
          "data": {
            "text/html": [
              "<strong>a:</strong> 10"
            ],
            "text/markdown": "**a:** 10",
            "text/latex": "\\textbf{a:} 10",
            "text/plain": [
              " a \n",
              "10 "
            ]
          },
          "metadata": {}
        },
        {
          "output_type": "display_data",
          "data": {
            "text/html": [
              "<style>\n",
              ".dl-inline {width: auto; margin:0; padding: 0}\n",
              ".dl-inline>dt, .dl-inline>dd {float: none; width: auto; display: inline-block}\n",
              ".dl-inline>dt::after {content: \":\\0020\"; padding-right: .5ex}\n",
              ".dl-inline>dt:not(:first-of-type) {padding-left: .5ex}\n",
              "</style><dl class=dl-inline><dt>b</dt><dd>20</dd><dt>c</dt><dd>30</dd><dt>d</dt><dd>40</dd></dl>\n"
            ],
            "text/markdown": "b\n:   20c\n:   30d\n:   40\n\n",
            "text/latex": "\\begin{description*}\n\\item[b] 20\n\\item[c] 30\n\\item[d] 40\n\\end{description*}\n",
            "text/plain": [
              " b  c  d \n",
              "20 30 40 "
            ]
          },
          "metadata": {}
        },
        {
          "output_type": "display_data",
          "data": {
            "text/html": [
              "<style>\n",
              ".dl-inline {width: auto; margin:0; padding: 0}\n",
              ".dl-inline>dt, .dl-inline>dd {float: none; width: auto; display: inline-block}\n",
              ".dl-inline>dt::after {content: \":\\0020\"; padding-right: .5ex}\n",
              ".dl-inline>dt:not(:first-of-type) {padding-left: .5ex}\n",
              "</style><dl class=dl-inline><dt>a</dt><dd>10</dd><dt>e</dt><dd>50</dd></dl>\n"
            ],
            "text/markdown": "a\n:   10e\n:   50\n\n",
            "text/latex": "\\begin{description*}\n\\item[a] 10\n\\item[e] 50\n\\end{description*}\n",
            "text/plain": [
              " a  e \n",
              "10 50 "
            ]
          },
          "metadata": {}
        }
      ]
    },
    {
      "cell_type": "code",
      "source": [
        "#Negative indexing\n",
        "v[-1]       # all except 1st → 20 30 40 50\n",
        "v[-c(2,4)]  # remove 2nd and 4th → 10 30 50\n"
      ],
      "metadata": {
        "colab": {
          "base_uri": "https://localhost:8080/",
          "height": 52
        },
        "id": "bCjqoBOLariC",
        "outputId": "96768d9b-c82a-439d-fdd6-e8bad00d02b1"
      },
      "execution_count": 48,
      "outputs": [
        {
          "output_type": "display_data",
          "data": {
            "text/html": [
              "<style>\n",
              ".dl-inline {width: auto; margin:0; padding: 0}\n",
              ".dl-inline>dt, .dl-inline>dd {float: none; width: auto; display: inline-block}\n",
              ".dl-inline>dt::after {content: \":\\0020\"; padding-right: .5ex}\n",
              ".dl-inline>dt:not(:first-of-type) {padding-left: .5ex}\n",
              "</style><dl class=dl-inline><dt>b</dt><dd>20</dd><dt>c</dt><dd>30</dd><dt>d</dt><dd>40</dd><dt>e</dt><dd>50</dd></dl>\n"
            ],
            "text/markdown": "b\n:   20c\n:   30d\n:   40e\n:   50\n\n",
            "text/latex": "\\begin{description*}\n\\item[b] 20\n\\item[c] 30\n\\item[d] 40\n\\item[e] 50\n\\end{description*}\n",
            "text/plain": [
              " b  c  d  e \n",
              "20 30 40 50 "
            ]
          },
          "metadata": {}
        },
        {
          "output_type": "display_data",
          "data": {
            "text/html": [
              "<style>\n",
              ".dl-inline {width: auto; margin:0; padding: 0}\n",
              ".dl-inline>dt, .dl-inline>dd {float: none; width: auto; display: inline-block}\n",
              ".dl-inline>dt::after {content: \":\\0020\"; padding-right: .5ex}\n",
              ".dl-inline>dt:not(:first-of-type) {padding-left: .5ex}\n",
              "</style><dl class=dl-inline><dt>a</dt><dd>10</dd><dt>c</dt><dd>30</dd><dt>e</dt><dd>50</dd></dl>\n"
            ],
            "text/markdown": "a\n:   10c\n:   30e\n:   50\n\n",
            "text/latex": "\\begin{description*}\n\\item[a] 10\n\\item[c] 30\n\\item[e] 50\n\\end{description*}\n",
            "text/plain": [
              " a  c  e \n",
              "10 30 50 "
            ]
          },
          "metadata": {}
        }
      ]
    },
    {
      "cell_type": "code",
      "source": [
        "#Logical Indexing :Use TRUE/FALSE values to select\n",
        "v[c(TRUE, FALSE, TRUE, FALSE, TRUE)]\n",
        "# → 10 30 50\n"
      ],
      "metadata": {
        "colab": {
          "base_uri": "https://localhost:8080/",
          "height": 34
        },
        "id": "a15AsbMCark9",
        "outputId": "0fe72cda-d070-44fc-d677-77997e1986d1"
      },
      "execution_count": 49,
      "outputs": [
        {
          "output_type": "display_data",
          "data": {
            "text/html": [
              "<style>\n",
              ".dl-inline {width: auto; margin:0; padding: 0}\n",
              ".dl-inline>dt, .dl-inline>dd {float: none; width: auto; display: inline-block}\n",
              ".dl-inline>dt::after {content: \":\\0020\"; padding-right: .5ex}\n",
              ".dl-inline>dt:not(:first-of-type) {padding-left: .5ex}\n",
              "</style><dl class=dl-inline><dt>a</dt><dd>10</dd><dt>c</dt><dd>30</dd><dt>e</dt><dd>50</dd></dl>\n"
            ],
            "text/markdown": "a\n:   10c\n:   30e\n:   50\n\n",
            "text/latex": "\\begin{description*}\n\\item[a] 10\n\\item[c] 30\n\\item[e] 50\n\\end{description*}\n",
            "text/plain": [
              " a  c  e \n",
              "10 30 50 "
            ]
          },
          "metadata": {}
        }
      ]
    },
    {
      "cell_type": "code",
      "source": [
        "v[v > 25]      # values greater than 25 → 30 40 50\n",
        "v[v %% 20 == 0] # divisible by 20 → 20 40\n"
      ],
      "metadata": {
        "colab": {
          "base_uri": "https://localhost:8080/",
          "height": 52
        },
        "id": "7H-ThsUparny",
        "outputId": "52d2c789-33e2-4e05-afd7-7840ca728123"
      },
      "execution_count": 50,
      "outputs": [
        {
          "output_type": "display_data",
          "data": {
            "text/html": [
              "<style>\n",
              ".dl-inline {width: auto; margin:0; padding: 0}\n",
              ".dl-inline>dt, .dl-inline>dd {float: none; width: auto; display: inline-block}\n",
              ".dl-inline>dt::after {content: \":\\0020\"; padding-right: .5ex}\n",
              ".dl-inline>dt:not(:first-of-type) {padding-left: .5ex}\n",
              "</style><dl class=dl-inline><dt>c</dt><dd>30</dd><dt>d</dt><dd>40</dd><dt>e</dt><dd>50</dd></dl>\n"
            ],
            "text/markdown": "c\n:   30d\n:   40e\n:   50\n\n",
            "text/latex": "\\begin{description*}\n\\item[c] 30\n\\item[d] 40\n\\item[e] 50\n\\end{description*}\n",
            "text/plain": [
              " c  d  e \n",
              "30 40 50 "
            ]
          },
          "metadata": {}
        },
        {
          "output_type": "display_data",
          "data": {
            "text/html": [
              "<style>\n",
              ".dl-inline {width: auto; margin:0; padding: 0}\n",
              ".dl-inline>dt, .dl-inline>dd {float: none; width: auto; display: inline-block}\n",
              ".dl-inline>dt::after {content: \":\\0020\"; padding-right: .5ex}\n",
              ".dl-inline>dt:not(:first-of-type) {padding-left: .5ex}\n",
              "</style><dl class=dl-inline><dt>b</dt><dd>20</dd><dt>d</dt><dd>40</dd></dl>\n"
            ],
            "text/markdown": "b\n:   20d\n:   40\n\n",
            "text/latex": "\\begin{description*}\n\\item[b] 20\n\\item[d] 40\n\\end{description*}\n",
            "text/plain": [
              " b  d \n",
              "20 40 "
            ]
          },
          "metadata": {}
        }
      ]
    },
    {
      "cell_type": "code",
      "source": [
        "#Name Indexing\n",
        "v[\"a\"]        # → 10\n",
        "v[c(\"b\",\"d\")] # → 20 40\n"
      ],
      "metadata": {
        "colab": {
          "base_uri": "https://localhost:8080/",
          "height": 52
        },
        "id": "AhemE9lMarq9",
        "outputId": "7c218798-b02e-4713-9757-f25a4f7d294e"
      },
      "execution_count": 51,
      "outputs": [
        {
          "output_type": "display_data",
          "data": {
            "text/html": [
              "<strong>a:</strong> 10"
            ],
            "text/markdown": "**a:** 10",
            "text/latex": "\\textbf{a:} 10",
            "text/plain": [
              " a \n",
              "10 "
            ]
          },
          "metadata": {}
        },
        {
          "output_type": "display_data",
          "data": {
            "text/html": [
              "<style>\n",
              ".dl-inline {width: auto; margin:0; padding: 0}\n",
              ".dl-inline>dt, .dl-inline>dd {float: none; width: auto; display: inline-block}\n",
              ".dl-inline>dt::after {content: \":\\0020\"; padding-right: .5ex}\n",
              ".dl-inline>dt:not(:first-of-type) {padding-left: .5ex}\n",
              "</style><dl class=dl-inline><dt>b</dt><dd>20</dd><dt>d</dt><dd>40</dd></dl>\n"
            ],
            "text/markdown": "b\n:   20d\n:   40\n\n",
            "text/latex": "\\begin{description*}\n\\item[b] 20\n\\item[d] 40\n\\end{description*}\n",
            "text/plain": [
              " b  d \n",
              "20 40 "
            ]
          },
          "metadata": {}
        }
      ]
    },
    {
      "cell_type": "code",
      "source": [
        "#Zero Indexing: Index 0 returns nothing (useful for empty results)\n",
        "v[0]   # → numeric(0)\n"
      ],
      "metadata": {
        "colab": {
          "base_uri": "https://localhost:8080/",
          "height": 17
        },
        "id": "gT5HRT59art5",
        "outputId": "2139e15c-2261-466a-9476-718e99156c7f"
      },
      "execution_count": 52,
      "outputs": [
        {
          "output_type": "display_data",
          "data": {
            "text/html": [],
            "text/markdown": "",
            "text/latex": "",
            "text/plain": [
              "named numeric(0)"
            ]
          },
          "metadata": {}
        }
      ]
    },
    {
      "cell_type": "code",
      "source": [
        "#Duplicated Indexing\n",
        "v[c(1,1,3)]   # → 10 10 30\n"
      ],
      "metadata": {
        "colab": {
          "base_uri": "https://localhost:8080/",
          "height": 34
        },
        "id": "pQy3gfRharxM",
        "outputId": "b3ca8d97-1a12-43f3-96d5-6200e4533677"
      },
      "execution_count": 53,
      "outputs": [
        {
          "output_type": "display_data",
          "data": {
            "text/html": [
              "<style>\n",
              ".dl-inline {width: auto; margin:0; padding: 0}\n",
              ".dl-inline>dt, .dl-inline>dd {float: none; width: auto; display: inline-block}\n",
              ".dl-inline>dt::after {content: \":\\0020\"; padding-right: .5ex}\n",
              ".dl-inline>dt:not(:first-of-type) {padding-left: .5ex}\n",
              "</style><dl class=dl-inline><dt>a</dt><dd>10</dd><dt>a</dt><dd>10</dd><dt>c</dt><dd>30</dd></dl>\n"
            ],
            "text/markdown": "a\n:   10a\n:   10c\n:   30\n\n",
            "text/latex": "\\begin{description*}\n\\item[a] 10\n\\item[a] 10\n\\item[c] 30\n\\end{description*}\n",
            "text/plain": [
              " a  a  c \n",
              "10 10 30 "
            ]
          },
          "metadata": {}
        }
      ]
    },
    {
      "cell_type": "code",
      "source": [
        "#Subsetting with which() :  Find positions of elements that meet a condition\n",
        "which(v > 25)   # positions → 3 4 5\n",
        "v[which(v > 25)] # → 30 40 50\n"
      ],
      "metadata": {
        "colab": {
          "base_uri": "https://localhost:8080/",
          "height": 52
        },
        "id": "oBhCNWRQar0l",
        "outputId": "1041f454-6eb6-4a0d-d27c-06549d29ecb5"
      },
      "execution_count": 54,
      "outputs": [
        {
          "output_type": "display_data",
          "data": {
            "text/html": [
              "<style>\n",
              ".dl-inline {width: auto; margin:0; padding: 0}\n",
              ".dl-inline>dt, .dl-inline>dd {float: none; width: auto; display: inline-block}\n",
              ".dl-inline>dt::after {content: \":\\0020\"; padding-right: .5ex}\n",
              ".dl-inline>dt:not(:first-of-type) {padding-left: .5ex}\n",
              "</style><dl class=dl-inline><dt>c</dt><dd>3</dd><dt>d</dt><dd>4</dd><dt>e</dt><dd>5</dd></dl>\n"
            ],
            "text/markdown": "c\n:   3d\n:   4e\n:   5\n\n",
            "text/latex": "\\begin{description*}\n\\item[c] 3\n\\item[d] 4\n\\item[e] 5\n\\end{description*}\n",
            "text/plain": [
              "c d e \n",
              "3 4 5 "
            ]
          },
          "metadata": {}
        },
        {
          "output_type": "display_data",
          "data": {
            "text/html": [
              "<style>\n",
              ".dl-inline {width: auto; margin:0; padding: 0}\n",
              ".dl-inline>dt, .dl-inline>dd {float: none; width: auto; display: inline-block}\n",
              ".dl-inline>dt::after {content: \":\\0020\"; padding-right: .5ex}\n",
              ".dl-inline>dt:not(:first-of-type) {padding-left: .5ex}\n",
              "</style><dl class=dl-inline><dt>c</dt><dd>30</dd><dt>d</dt><dd>40</dd><dt>e</dt><dd>50</dd></dl>\n"
            ],
            "text/markdown": "c\n:   30d\n:   40e\n:   50\n\n",
            "text/latex": "\\begin{description*}\n\\item[c] 30\n\\item[d] 40\n\\item[e] 50\n\\end{description*}\n",
            "text/plain": [
              " c  d  e \n",
              "30 40 50 "
            ]
          },
          "metadata": {}
        }
      ]
    },
    {
      "cell_type": "code",
      "source": [
        "# Subsetting with setdiff(), intersect(), union()\n",
        "x <- c(1,2,3,4)\n",
        "y <- c(3,4,5,6)\n",
        "\n",
        "setdiff(x,y)   # in x but not y → 1 2\n",
        "intersect(x,y) # common → 3 4\n",
        "union(x,y)     # unique elements → 1 2 3 4 5 6\n"
      ],
      "metadata": {
        "colab": {
          "base_uri": "https://localhost:8080/",
          "height": 69
        },
        "id": "us8hwcmQar3n",
        "outputId": "c1b832d0-73ac-444f-be77-d9e92f818042"
      },
      "execution_count": 55,
      "outputs": [
        {
          "output_type": "display_data",
          "data": {
            "text/html": [
              "<style>\n",
              ".list-inline {list-style: none; margin:0; padding: 0}\n",
              ".list-inline>li {display: inline-block}\n",
              ".list-inline>li:not(:last-child)::after {content: \"\\00b7\"; padding: 0 .5ex}\n",
              "</style>\n",
              "<ol class=list-inline><li>1</li><li>2</li></ol>\n"
            ],
            "text/markdown": "1. 1\n2. 2\n\n\n",
            "text/latex": "\\begin{enumerate*}\n\\item 1\n\\item 2\n\\end{enumerate*}\n",
            "text/plain": [
              "[1] 1 2"
            ]
          },
          "metadata": {}
        },
        {
          "output_type": "display_data",
          "data": {
            "text/html": [
              "<style>\n",
              ".list-inline {list-style: none; margin:0; padding: 0}\n",
              ".list-inline>li {display: inline-block}\n",
              ".list-inline>li:not(:last-child)::after {content: \"\\00b7\"; padding: 0 .5ex}\n",
              "</style>\n",
              "<ol class=list-inline><li>3</li><li>4</li></ol>\n"
            ],
            "text/markdown": "1. 3\n2. 4\n\n\n",
            "text/latex": "\\begin{enumerate*}\n\\item 3\n\\item 4\n\\end{enumerate*}\n",
            "text/plain": [
              "[1] 3 4"
            ]
          },
          "metadata": {}
        },
        {
          "output_type": "display_data",
          "data": {
            "text/html": [
              "<style>\n",
              ".list-inline {list-style: none; margin:0; padding: 0}\n",
              ".list-inline>li {display: inline-block}\n",
              ".list-inline>li:not(:last-child)::after {content: \"\\00b7\"; padding: 0 .5ex}\n",
              "</style>\n",
              "<ol class=list-inline><li>1</li><li>2</li><li>3</li><li>4</li><li>5</li><li>6</li></ol>\n"
            ],
            "text/markdown": "1. 1\n2. 2\n3. 3\n4. 4\n5. 5\n6. 6\n\n\n",
            "text/latex": "\\begin{enumerate*}\n\\item 1\n\\item 2\n\\item 3\n\\item 4\n\\item 5\n\\item 6\n\\end{enumerate*}\n",
            "text/plain": [
              "[1] 1 2 3 4 5 6"
            ]
          },
          "metadata": {}
        }
      ]
    },
    {
      "cell_type": "markdown",
      "source": [
        "What is an Array?\n",
        "\n",
        "An array is a data structure that can store elements in 2 or more dimensions.\n",
        "\n",
        "Elements must be of the same data type (numeric, character, logical, etc.).\n",
        "\n",
        "Think of an array as a multi-dimensional extension of vectors."
      ],
      "metadata": {
        "id": "NIeT3MXsclK5"
      }
    },
    {
      "cell_type": "code",
      "source": [
        "#Creating Arrays : Use array() function\n",
        "\n",
        "arr <- array(1:12, dim = c(3, 2, 2))\n",
        "arr\n",
        "\n",
        "# Here:\n",
        "\n",
        "# 1:12 → numbers to fill\n",
        "\n",
        "# dim = c(3,2,2) → 3 rows, 2 columns, 2 \"layers\""
      ],
      "metadata": {
        "colab": {
          "base_uri": "https://localhost:8080/",
          "height": 34
        },
        "id": "6Mpv7VOpar6I",
        "outputId": "109453ff-620f-4583-f0bb-6fc06c3b58de"
      },
      "execution_count": 56,
      "outputs": [
        {
          "output_type": "display_data",
          "data": {
            "text/html": [
              "<style>\n",
              ".list-inline {list-style: none; margin:0; padding: 0}\n",
              ".list-inline>li {display: inline-block}\n",
              ".list-inline>li:not(:last-child)::after {content: \"\\00b7\"; padding: 0 .5ex}\n",
              "</style>\n",
              "<ol class=list-inline><li>1</li><li>2</li><li>3</li><li>4</li><li>5</li><li>6</li><li>7</li><li>8</li><li>9</li><li>10</li><li>11</li><li>12</li></ol>\n"
            ],
            "text/markdown": "1. 1\n2. 2\n3. 3\n4. 4\n5. 5\n6. 6\n7. 7\n8. 8\n9. 9\n10. 10\n11. 11\n12. 12\n\n\n",
            "text/latex": "\\begin{enumerate*}\n\\item 1\n\\item 2\n\\item 3\n\\item 4\n\\item 5\n\\item 6\n\\item 7\n\\item 8\n\\item 9\n\\item 10\n\\item 11\n\\item 12\n\\end{enumerate*}\n",
            "text/plain": [
              ", , 1\n",
              "\n",
              "     [,1] [,2]\n",
              "[1,]    1    4\n",
              "[2,]    2    5\n",
              "[3,]    3    6\n",
              "\n",
              ", , 2\n",
              "\n",
              "     [,1] [,2]\n",
              "[1,]    7   10\n",
              "[2,]    8   11\n",
              "[3,]    9   12\n"
            ]
          },
          "metadata": {}
        }
      ]
    },
    {
      "cell_type": "markdown",
      "source": [
        "What is the difference between an array and a vector?¶\n",
        "Vectors are always one dimensional like a single row of data. On the other hand, an array can be multidimensional (stored as rows and columns). The \"dimension\" indicates how many rows of data there are."
      ],
      "metadata": {
        "id": "iH1Li8fIctx7"
      }
    },
    {
      "cell_type": "code",
      "source": [
        "#lets first create a vector of nine movies\n",
        "movie_vector <- c(\"Akira\", \"Toy Story\", \"Room\", \"The Wave\", \"Whiplash\",\n",
        "                  \"Star Wars\", \"The Ring\", \"The Artist\", \"Jumanji\")\n",
        "movie_vector"
      ],
      "metadata": {
        "colab": {
          "base_uri": "https://localhost:8080/",
          "height": 34
        },
        "id": "gvqaCbZOar9L",
        "outputId": "b6205b4e-a5e1-46a9-f4dc-3c08730f6bcc"
      },
      "execution_count": 57,
      "outputs": [
        {
          "output_type": "display_data",
          "data": {
            "text/html": [
              "<style>\n",
              ".list-inline {list-style: none; margin:0; padding: 0}\n",
              ".list-inline>li {display: inline-block}\n",
              ".list-inline>li:not(:last-child)::after {content: \"\\00b7\"; padding: 0 .5ex}\n",
              "</style>\n",
              "<ol class=list-inline><li>'Akira'</li><li>'Toy Story'</li><li>'Room'</li><li>'The Wave'</li><li>'Whiplash'</li><li>'Star Wars'</li><li>'The Ring'</li><li>'The Artist'</li><li>'Jumanji'</li></ol>\n"
            ],
            "text/markdown": "1. 'Akira'\n2. 'Toy Story'\n3. 'Room'\n4. 'The Wave'\n5. 'Whiplash'\n6. 'Star Wars'\n7. 'The Ring'\n8. 'The Artist'\n9. 'Jumanji'\n\n\n",
            "text/latex": "\\begin{enumerate*}\n\\item 'Akira'\n\\item 'Toy Story'\n\\item 'Room'\n\\item 'The Wave'\n\\item 'Whiplash'\n\\item 'Star Wars'\n\\item 'The Ring'\n\\item 'The Artist'\n\\item 'Jumanji'\n\\end{enumerate*}\n",
            "text/plain": [
              "[1] \"Akira\"      \"Toy Story\"  \"Room\"       \"The Wave\"   \"Whiplash\"  \n",
              "[6] \"Star Wars\"  \"The Ring\"   \"The Artist\" \"Jumanji\"   "
            ]
          },
          "metadata": {}
        }
      ]
    },
    {
      "cell_type": "code",
      "source": [
        "movie_array <- array(movie_vector, dim = c(4,3))\n",
        "movie_array"
      ],
      "metadata": {
        "colab": {
          "base_uri": "https://localhost:8080/",
          "height": 160
        },
        "id": "GqxpWmCsar_8",
        "outputId": "6fca40c4-4b64-44a7-8e12-0f3f87ecd23e"
      },
      "execution_count": 58,
      "outputs": [
        {
          "output_type": "display_data",
          "data": {
            "text/html": [
              "<table class=\"dataframe\">\n",
              "<caption>A matrix: 4 × 3 of type chr</caption>\n",
              "<tbody>\n",
              "\t<tr><td>Akira    </td><td>Whiplash  </td><td>Jumanji  </td></tr>\n",
              "\t<tr><td>Toy Story</td><td>Star Wars </td><td>Akira    </td></tr>\n",
              "\t<tr><td>Room     </td><td>The Ring  </td><td>Toy Story</td></tr>\n",
              "\t<tr><td>The Wave </td><td>The Artist</td><td>Room     </td></tr>\n",
              "</tbody>\n",
              "</table>\n"
            ],
            "text/markdown": "\nA matrix: 4 × 3 of type chr\n\n| Akira     | Whiplash   | Jumanji   |\n| Toy Story | Star Wars  | Akira     |\n| Room      | The Ring   | Toy Story |\n| The Wave  | The Artist | Room      |\n\n",
            "text/latex": "A matrix: 4 × 3 of type chr\n\\begin{tabular}{lll}\n\t Akira     & Whiplash   & Jumanji  \\\\\n\t Toy Story & Star Wars  & Akira    \\\\\n\t Room      & The Ring   & Toy Story\\\\\n\t The Wave  & The Artist & Room     \\\\\n\\end{tabular}\n",
            "text/plain": [
              "     [,1]      [,2]       [,3]     \n",
              "[1,] Akira     Whiplash   Jumanji  \n",
              "[2,] Toy Story Star Wars  Akira    \n",
              "[3,] Room      The Ring   Toy Story\n",
              "[4,] The Wave  The Artist Room     "
            ]
          },
          "metadata": {}
        }
      ]
    },
    {
      "cell_type": "markdown",
      "source": [
        "Note that arrays are created column-wise. Did you also notice that there were only 9 movie names, but the array was 4 x 3? The original vector doesn't have enough elements to fill the entire array (that should have 3 x 4 = 12 elements). So R simply fills rest of the empty values by going back to the beginning of the vector and starting again (\"Akira\", \"Toy story\", \"Room\" in this case).\n",
        "\n",
        "We also needed to provide c(4,3) as a second argument to specify the number of rows (4) and columns (3) that we wanted.\n",
        "\n"
      ],
      "metadata": {
        "id": "TvVGbz7hc4dN"
      }
    },
    {
      "cell_type": "code",
      "source": [
        "#Accessing Elements\n",
        "arr[1,1,1]   # row 1, col 1, layer 1 → 1\n",
        "arr[2,,1]    # entire 2nd row, layer 1 → 2 5\n",
        "arr[,2,2]    # all rows, column 2, layer 2 → 10 11 12"
      ],
      "metadata": {
        "colab": {
          "base_uri": "https://localhost:8080/",
          "height": 69
        },
        "id": "EcQEIkVMasCx",
        "outputId": "f75f09fd-08f0-4bee-e7b1-8068c3f7c006"
      },
      "execution_count": 59,
      "outputs": [
        {
          "output_type": "display_data",
          "data": {
            "text/html": [
              "1"
            ],
            "text/markdown": "1",
            "text/latex": "1",
            "text/plain": [
              "[1] 1"
            ]
          },
          "metadata": {}
        },
        {
          "output_type": "display_data",
          "data": {
            "text/html": [
              "<style>\n",
              ".list-inline {list-style: none; margin:0; padding: 0}\n",
              ".list-inline>li {display: inline-block}\n",
              ".list-inline>li:not(:last-child)::after {content: \"\\00b7\"; padding: 0 .5ex}\n",
              "</style>\n",
              "<ol class=list-inline><li>2</li><li>5</li></ol>\n"
            ],
            "text/markdown": "1. 2\n2. 5\n\n\n",
            "text/latex": "\\begin{enumerate*}\n\\item 2\n\\item 5\n\\end{enumerate*}\n",
            "text/plain": [
              "[1] 2 5"
            ]
          },
          "metadata": {}
        },
        {
          "output_type": "display_data",
          "data": {
            "text/html": [
              "<style>\n",
              ".list-inline {list-style: none; margin:0; padding: 0}\n",
              ".list-inline>li {display: inline-block}\n",
              ".list-inline>li:not(:last-child)::after {content: \"\\00b7\"; padding: 0 .5ex}\n",
              "</style>\n",
              "<ol class=list-inline><li>10</li><li>11</li><li>12</li></ol>\n"
            ],
            "text/markdown": "1. 10\n2. 11\n3. 12\n\n\n",
            "text/latex": "\\begin{enumerate*}\n\\item 10\n\\item 11\n\\item 12\n\\end{enumerate*}\n",
            "text/plain": [
              "[1] 10 11 12"
            ]
          },
          "metadata": {}
        }
      ]
    },
    {
      "cell_type": "code",
      "source": [
        "# Naming Dimensions: You can assign row, column, and layer names\n",
        "\n",
        "arr <- array(1:8, dim = c(2,2,2),\n",
        "             dimnames = list(\n",
        "               rows = c(\"r1\",\"r2\"),\n",
        "               cols = c(\"c1\",\"c2\"),\n",
        "               layers = c(\"L1\",\"L2\")\n",
        "             ))\n",
        "arr\n"
      ],
      "metadata": {
        "colab": {
          "base_uri": "https://localhost:8080/",
          "height": 34
        },
        "id": "PKRNGg8_asF-",
        "outputId": "df3143ac-7c2a-4289-95ba-ee335ba6f0b3"
      },
      "execution_count": 60,
      "outputs": [
        {
          "output_type": "display_data",
          "data": {
            "text/html": [
              "<style>\n",
              ".list-inline {list-style: none; margin:0; padding: 0}\n",
              ".list-inline>li {display: inline-block}\n",
              ".list-inline>li:not(:last-child)::after {content: \"\\00b7\"; padding: 0 .5ex}\n",
              "</style>\n",
              "<ol class=list-inline><li>1</li><li>2</li><li>3</li><li>4</li><li>5</li><li>6</li><li>7</li><li>8</li></ol>\n"
            ],
            "text/markdown": "1. 1\n2. 2\n3. 3\n4. 4\n5. 5\n6. 6\n7. 7\n8. 8\n\n\n",
            "text/latex": "\\begin{enumerate*}\n\\item 1\n\\item 2\n\\item 3\n\\item 4\n\\item 5\n\\item 6\n\\item 7\n\\item 8\n\\end{enumerate*}\n",
            "text/plain": [
              ", , layers = L1\n",
              "\n",
              "    cols\n",
              "rows c1 c2\n",
              "  r1  1  3\n",
              "  r2  2  4\n",
              "\n",
              ", , layers = L2\n",
              "\n",
              "    cols\n",
              "rows c1 c2\n",
              "  r1  5  7\n",
              "  r2  6  8\n"
            ]
          },
          "metadata": {}
        }
      ]
    },
    {
      "cell_type": "code",
      "source": [
        "#Access by names\n",
        "\n",
        "arr[\"r1\",\"c2\",\"L1\"]  # → 2"
      ],
      "metadata": {
        "colab": {
          "base_uri": "https://localhost:8080/",
          "height": 34
        },
        "id": "kIFn3kD1asJF",
        "outputId": "4b5a38f5-60a3-4c06-c043-390a69e33668"
      },
      "execution_count": 61,
      "outputs": [
        {
          "output_type": "display_data",
          "data": {
            "text/html": [
              "3"
            ],
            "text/markdown": "3",
            "text/latex": "3",
            "text/plain": [
              "[1] 3"
            ]
          },
          "metadata": {}
        }
      ]
    },
    {
      "cell_type": "code",
      "source": [
        "#Slicing Arrays\n",
        "arr[1,,]   # all columns across all layers, row 1\n",
        "arr[,2,]   # all rows, 2nd column across all layers\n",
        "arr[,,3]   # full 3rd layer (matrix form)"
      ],
      "metadata": {
        "colab": {
          "base_uri": "https://localhost:8080/",
          "height": 331
        },
        "id": "wCh7ADB6asML",
        "outputId": "a56d4368-2bf0-4a29-efac-b078e9988991"
      },
      "execution_count": 62,
      "outputs": [
        {
          "output_type": "display_data",
          "data": {
            "text/html": [
              "<table class=\"dataframe\">\n",
              "<caption>A matrix: 2 × 2 of type int</caption>\n",
              "<thead>\n",
              "\t<tr><th></th><th scope=col>L1</th><th scope=col>L2</th></tr>\n",
              "</thead>\n",
              "<tbody>\n",
              "\t<tr><th scope=row>c1</th><td>1</td><td>5</td></tr>\n",
              "\t<tr><th scope=row>c2</th><td>3</td><td>7</td></tr>\n",
              "</tbody>\n",
              "</table>\n"
            ],
            "text/markdown": "\nA matrix: 2 × 2 of type int\n\n| <!--/--> | L1 | L2 |\n|---|---|---|\n| c1 | 1 | 5 |\n| c2 | 3 | 7 |\n\n",
            "text/latex": "A matrix: 2 × 2 of type int\n\\begin{tabular}{r|ll}\n  & L1 & L2\\\\\n\\hline\n\tc1 & 1 & 5\\\\\n\tc2 & 3 & 7\\\\\n\\end{tabular}\n",
            "text/plain": [
              "    layers\n",
              "cols L1 L2\n",
              "  c1 1  5 \n",
              "  c2 3  7 "
            ]
          },
          "metadata": {}
        },
        {
          "output_type": "display_data",
          "data": {
            "text/html": [
              "<table class=\"dataframe\">\n",
              "<caption>A matrix: 2 × 2 of type int</caption>\n",
              "<thead>\n",
              "\t<tr><th></th><th scope=col>L1</th><th scope=col>L2</th></tr>\n",
              "</thead>\n",
              "<tbody>\n",
              "\t<tr><th scope=row>r1</th><td>3</td><td>7</td></tr>\n",
              "\t<tr><th scope=row>r2</th><td>4</td><td>8</td></tr>\n",
              "</tbody>\n",
              "</table>\n"
            ],
            "text/markdown": "\nA matrix: 2 × 2 of type int\n\n| <!--/--> | L1 | L2 |\n|---|---|---|\n| r1 | 3 | 7 |\n| r2 | 4 | 8 |\n\n",
            "text/latex": "A matrix: 2 × 2 of type int\n\\begin{tabular}{r|ll}\n  & L1 & L2\\\\\n\\hline\n\tr1 & 3 & 7\\\\\n\tr2 & 4 & 8\\\\\n\\end{tabular}\n",
            "text/plain": [
              "    layers\n",
              "rows L1 L2\n",
              "  r1 3  7 \n",
              "  r2 4  8 "
            ]
          },
          "metadata": {}
        },
        {
          "output_type": "error",
          "ename": "ERROR",
          "evalue": "Error in arr[, , 3]: subscript out of bounds\n",
          "traceback": [
            "Error in arr[, , 3]: subscript out of bounds\nTraceback:\n"
          ]
        }
      ]
    },
    {
      "cell_type": "code",
      "source": [
        "#Using apply() with Arrays\n",
        "apply(arr, c(1,2), sum) # sum over layers → gives matrix (rows × cols)\n",
        "apply(arr, 3, mean)     # mean per layer\n"
      ],
      "metadata": {
        "colab": {
          "base_uri": "https://localhost:8080/",
          "height": 164
        },
        "id": "YQt3gFe3asPE",
        "outputId": "129233c7-ee1d-418c-b359-7c409dbafe5e"
      },
      "execution_count": 63,
      "outputs": [
        {
          "output_type": "display_data",
          "data": {
            "text/html": [
              "<table class=\"dataframe\">\n",
              "<caption>A matrix: 2 × 2 of type int</caption>\n",
              "<thead>\n",
              "\t<tr><th></th><th scope=col>c1</th><th scope=col>c2</th></tr>\n",
              "</thead>\n",
              "<tbody>\n",
              "\t<tr><th scope=row>r1</th><td>6</td><td>10</td></tr>\n",
              "\t<tr><th scope=row>r2</th><td>8</td><td>12</td></tr>\n",
              "</tbody>\n",
              "</table>\n"
            ],
            "text/markdown": "\nA matrix: 2 × 2 of type int\n\n| <!--/--> | c1 | c2 |\n|---|---|---|\n| r1 | 6 | 10 |\n| r2 | 8 | 12 |\n\n",
            "text/latex": "A matrix: 2 × 2 of type int\n\\begin{tabular}{r|ll}\n  & c1 & c2\\\\\n\\hline\n\tr1 & 6 & 10\\\\\n\tr2 & 8 & 12\\\\\n\\end{tabular}\n",
            "text/plain": [
              "    cols\n",
              "rows c1 c2\n",
              "  r1 6  10\n",
              "  r2 8  12"
            ]
          },
          "metadata": {}
        },
        {
          "output_type": "display_data",
          "data": {
            "text/html": [
              "<style>\n",
              ".dl-inline {width: auto; margin:0; padding: 0}\n",
              ".dl-inline>dt, .dl-inline>dd {float: none; width: auto; display: inline-block}\n",
              ".dl-inline>dt::after {content: \":\\0020\"; padding-right: .5ex}\n",
              ".dl-inline>dt:not(:first-of-type) {padding-left: .5ex}\n",
              "</style><dl class=dl-inline><dt>L1</dt><dd>2.5</dd><dt>L2</dt><dd>6.5</dd></dl>\n"
            ],
            "text/markdown": "L1\n:   2.5L2\n:   6.5\n\n",
            "text/latex": "\\begin{description*}\n\\item[L1] 2.5\n\\item[L2] 6.5\n\\end{description*}\n",
            "text/plain": [
              " L1  L2 \n",
              "2.5 6.5 "
            ]
          },
          "metadata": {}
        }
      ]
    },
    {
      "cell_type": "code",
      "source": [
        "#Operations on Arrays: Arrays are element-wise by default\n",
        "arr2 <- array(1:8, dim=c(2,2,2))\n",
        "arr + arr2   # element-wise addition\n",
        "arr * arr2   # element-wise multiplication\n"
      ],
      "metadata": {
        "colab": {
          "base_uri": "https://localhost:8080/",
          "height": 52
        },
        "id": "xvzOoULdasRg",
        "outputId": "582635e5-3ce9-4604-fca9-f76907755083"
      },
      "execution_count": 64,
      "outputs": [
        {
          "output_type": "display_data",
          "data": {
            "text/html": [
              "<style>\n",
              ".list-inline {list-style: none; margin:0; padding: 0}\n",
              ".list-inline>li {display: inline-block}\n",
              ".list-inline>li:not(:last-child)::after {content: \"\\00b7\"; padding: 0 .5ex}\n",
              "</style>\n",
              "<ol class=list-inline><li>2</li><li>4</li><li>6</li><li>8</li><li>10</li><li>12</li><li>14</li><li>16</li></ol>\n"
            ],
            "text/markdown": "1. 2\n2. 4\n3. 6\n4. 8\n5. 10\n6. 12\n7. 14\n8. 16\n\n\n",
            "text/latex": "\\begin{enumerate*}\n\\item 2\n\\item 4\n\\item 6\n\\item 8\n\\item 10\n\\item 12\n\\item 14\n\\item 16\n\\end{enumerate*}\n",
            "text/plain": [
              ", , layers = L1\n",
              "\n",
              "    cols\n",
              "rows c1 c2\n",
              "  r1  2  6\n",
              "  r2  4  8\n",
              "\n",
              ", , layers = L2\n",
              "\n",
              "    cols\n",
              "rows c1 c2\n",
              "  r1 10 14\n",
              "  r2 12 16\n"
            ]
          },
          "metadata": {}
        },
        {
          "output_type": "display_data",
          "data": {
            "text/html": [
              "<style>\n",
              ".list-inline {list-style: none; margin:0; padding: 0}\n",
              ".list-inline>li {display: inline-block}\n",
              ".list-inline>li:not(:last-child)::after {content: \"\\00b7\"; padding: 0 .5ex}\n",
              "</style>\n",
              "<ol class=list-inline><li>1</li><li>4</li><li>9</li><li>16</li><li>25</li><li>36</li><li>49</li><li>64</li></ol>\n"
            ],
            "text/markdown": "1. 1\n2. 4\n3. 9\n4. 16\n5. 25\n6. 36\n7. 49\n8. 64\n\n\n",
            "text/latex": "\\begin{enumerate*}\n\\item 1\n\\item 4\n\\item 9\n\\item 16\n\\item 25\n\\item 36\n\\item 49\n\\item 64\n\\end{enumerate*}\n",
            "text/plain": [
              ", , layers = L1\n",
              "\n",
              "    cols\n",
              "rows c1 c2\n",
              "  r1  1  9\n",
              "  r2  4 16\n",
              "\n",
              ", , layers = L2\n",
              "\n",
              "    cols\n",
              "rows c1 c2\n",
              "  r1 25 49\n",
              "  r2 36 64\n"
            ]
          },
          "metadata": {}
        }
      ]
    },
    {
      "cell_type": "markdown",
      "source": [
        "What is a Matrix?\n",
        "\n",
        "A matrix is a 2D array with rows and columns only.\n",
        "\n",
        "Like a spreadsheet: numbers arranged in rows × columns.\n",
        "\n",
        "All elements must be of the same type"
      ],
      "metadata": {
        "id": "Lw5mMRwIdR91"
      }
    },
    {
      "cell_type": "code",
      "source": [
        "m <- matrix(1:6, nrow=2, ncol=3)\n",
        "m\n"
      ],
      "metadata": {
        "colab": {
          "base_uri": "https://localhost:8080/",
          "height": 132
        },
        "id": "6L-kvQ6vasT1",
        "outputId": "5c7284ea-523c-40e5-b929-176bfe9a4998"
      },
      "execution_count": 65,
      "outputs": [
        {
          "output_type": "display_data",
          "data": {
            "text/html": [
              "<table class=\"dataframe\">\n",
              "<caption>A matrix: 2 × 3 of type int</caption>\n",
              "<tbody>\n",
              "\t<tr><td>1</td><td>3</td><td>5</td></tr>\n",
              "\t<tr><td>2</td><td>4</td><td>6</td></tr>\n",
              "</tbody>\n",
              "</table>\n"
            ],
            "text/markdown": "\nA matrix: 2 × 3 of type int\n\n| 1 | 3 | 5 |\n| 2 | 4 | 6 |\n\n",
            "text/latex": "A matrix: 2 × 3 of type int\n\\begin{tabular}{lll}\n\t 1 & 3 & 5\\\\\n\t 2 & 4 & 6\\\\\n\\end{tabular}\n",
            "text/plain": [
              "     [,1] [,2] [,3]\n",
              "[1,] 1    3    5   \n",
              "[2,] 2    4    6   "
            ]
          },
          "metadata": {}
        }
      ]
    },
    {
      "cell_type": "code",
      "source": [
        "m <- matrix(1:6, nrow=2, byrow=TRUE)\n",
        "m\n"
      ],
      "metadata": {
        "colab": {
          "base_uri": "https://localhost:8080/",
          "height": 132
        },
        "id": "Ui-IVDMWasXG",
        "outputId": "899715f8-8fc7-4bf5-a355-29e0d49d4143"
      },
      "execution_count": 66,
      "outputs": [
        {
          "output_type": "display_data",
          "data": {
            "text/html": [
              "<table class=\"dataframe\">\n",
              "<caption>A matrix: 2 × 3 of type int</caption>\n",
              "<tbody>\n",
              "\t<tr><td>1</td><td>2</td><td>3</td></tr>\n",
              "\t<tr><td>4</td><td>5</td><td>6</td></tr>\n",
              "</tbody>\n",
              "</table>\n"
            ],
            "text/markdown": "\nA matrix: 2 × 3 of type int\n\n| 1 | 2 | 3 |\n| 4 | 5 | 6 |\n\n",
            "text/latex": "A matrix: 2 × 3 of type int\n\\begin{tabular}{lll}\n\t 1 & 2 & 3\\\\\n\t 4 & 5 & 6\\\\\n\\end{tabular}\n",
            "text/plain": [
              "     [,1] [,2] [,3]\n",
              "[1,] 1    2    3   \n",
              "[2,] 4    5    6   "
            ]
          },
          "metadata": {}
        }
      ]
    },
    {
      "cell_type": "code",
      "source": [
        "#Binding Vectors to Form a Matrix\n",
        "c1 <- c(1,2,3)\n",
        "c2 <- c(4,5,6)\n",
        "\n",
        "m <- cbind(c1, c2)  # column bind\n",
        "m\n",
        "\n",
        "rbind(c1, c2)       # row bind\n"
      ],
      "metadata": {
        "colab": {
          "base_uri": "https://localhost:8080/",
          "height": 293
        },
        "id": "zrU2fMs7asaL",
        "outputId": "81d61471-69a7-4e5e-ca04-80094f3c45af"
      },
      "execution_count": 67,
      "outputs": [
        {
          "output_type": "display_data",
          "data": {
            "text/html": [
              "<table class=\"dataframe\">\n",
              "<caption>A matrix: 3 × 2 of type dbl</caption>\n",
              "<thead>\n",
              "\t<tr><th scope=col>c1</th><th scope=col>c2</th></tr>\n",
              "</thead>\n",
              "<tbody>\n",
              "\t<tr><td>1</td><td>4</td></tr>\n",
              "\t<tr><td>2</td><td>5</td></tr>\n",
              "\t<tr><td>3</td><td>6</td></tr>\n",
              "</tbody>\n",
              "</table>\n"
            ],
            "text/markdown": "\nA matrix: 3 × 2 of type dbl\n\n| c1 | c2 |\n|---|---|\n| 1 | 4 |\n| 2 | 5 |\n| 3 | 6 |\n\n",
            "text/latex": "A matrix: 3 × 2 of type dbl\n\\begin{tabular}{ll}\n c1 & c2\\\\\n\\hline\n\t 1 & 4\\\\\n\t 2 & 5\\\\\n\t 3 & 6\\\\\n\\end{tabular}\n",
            "text/plain": [
              "     c1 c2\n",
              "[1,] 1  4 \n",
              "[2,] 2  5 \n",
              "[3,] 3  6 "
            ]
          },
          "metadata": {}
        },
        {
          "output_type": "display_data",
          "data": {
            "text/html": [
              "<table class=\"dataframe\">\n",
              "<caption>A matrix: 2 × 3 of type dbl</caption>\n",
              "<tbody>\n",
              "\t<tr><th scope=row>c1</th><td>1</td><td>2</td><td>3</td></tr>\n",
              "\t<tr><th scope=row>c2</th><td>4</td><td>5</td><td>6</td></tr>\n",
              "</tbody>\n",
              "</table>\n"
            ],
            "text/markdown": "\nA matrix: 2 × 3 of type dbl\n\n| c1 | 1 | 2 | 3 |\n| c2 | 4 | 5 | 6 |\n\n",
            "text/latex": "A matrix: 2 × 3 of type dbl\n\\begin{tabular}{r|lll}\n\tc1 & 1 & 2 & 3\\\\\n\tc2 & 4 & 5 & 6\\\\\n\\end{tabular}\n",
            "text/plain": [
              "   [,1] [,2] [,3]\n",
              "c1 1    2    3   \n",
              "c2 4    5    6   "
            ]
          },
          "metadata": {}
        }
      ]
    },
    {
      "cell_type": "code",
      "source": [
        "#Accessing Matrix Elements\n",
        "m[1,2]   # row 1, col 2\n",
        "m[2,]    # entire 2nd row\n",
        "m[,1]    # entire 1st column\n"
      ],
      "metadata": {
        "colab": {
          "base_uri": "https://localhost:8080/",
          "height": 69
        },
        "id": "SW7btn05asdJ",
        "outputId": "1e67ab36-c46f-480a-e95d-04b2f12de537"
      },
      "execution_count": 68,
      "outputs": [
        {
          "output_type": "display_data",
          "data": {
            "text/html": [
              "<strong>c2:</strong> 4"
            ],
            "text/markdown": "**c2:** 4",
            "text/latex": "\\textbf{c2:} 4",
            "text/plain": [
              "c2 \n",
              " 4 "
            ]
          },
          "metadata": {}
        },
        {
          "output_type": "display_data",
          "data": {
            "text/html": [
              "<style>\n",
              ".dl-inline {width: auto; margin:0; padding: 0}\n",
              ".dl-inline>dt, .dl-inline>dd {float: none; width: auto; display: inline-block}\n",
              ".dl-inline>dt::after {content: \":\\0020\"; padding-right: .5ex}\n",
              ".dl-inline>dt:not(:first-of-type) {padding-left: .5ex}\n",
              "</style><dl class=dl-inline><dt>c1</dt><dd>2</dd><dt>c2</dt><dd>5</dd></dl>\n"
            ],
            "text/markdown": "c1\n:   2c2\n:   5\n\n",
            "text/latex": "\\begin{description*}\n\\item[c1] 2\n\\item[c2] 5\n\\end{description*}\n",
            "text/plain": [
              "c1 c2 \n",
              " 2  5 "
            ]
          },
          "metadata": {}
        },
        {
          "output_type": "display_data",
          "data": {
            "text/html": [
              "<style>\n",
              ".list-inline {list-style: none; margin:0; padding: 0}\n",
              ".list-inline>li {display: inline-block}\n",
              ".list-inline>li:not(:last-child)::after {content: \"\\00b7\"; padding: 0 .5ex}\n",
              "</style>\n",
              "<ol class=list-inline><li>1</li><li>2</li><li>3</li></ol>\n"
            ],
            "text/markdown": "1. 1\n2. 2\n3. 3\n\n\n",
            "text/latex": "\\begin{enumerate*}\n\\item 1\n\\item 2\n\\item 3\n\\end{enumerate*}\n",
            "text/plain": [
              "[1] 1 2 3"
            ]
          },
          "metadata": {}
        }
      ]
    },
    {
      "cell_type": "code",
      "source": [
        "#Naming Rows & Columns\n",
        "rownames(m) <- c(\"r1\",\"r2\",\"r3\")\n",
        "colnames(m) <- c(\"A\",\"B\")\n",
        "m\n",
        "m[\"r1\",\"B\"]   # element at row r1, col B\n"
      ],
      "metadata": {
        "colab": {
          "base_uri": "https://localhost:8080/",
          "height": 213
        },
        "id": "sYPuE4hnasga",
        "outputId": "6a191c6c-82f7-46fd-ac83-7091b3fb964d"
      },
      "execution_count": 69,
      "outputs": [
        {
          "output_type": "display_data",
          "data": {
            "text/html": [
              "<table class=\"dataframe\">\n",
              "<caption>A matrix: 3 × 2 of type dbl</caption>\n",
              "<thead>\n",
              "\t<tr><th></th><th scope=col>A</th><th scope=col>B</th></tr>\n",
              "</thead>\n",
              "<tbody>\n",
              "\t<tr><th scope=row>r1</th><td>1</td><td>4</td></tr>\n",
              "\t<tr><th scope=row>r2</th><td>2</td><td>5</td></tr>\n",
              "\t<tr><th scope=row>r3</th><td>3</td><td>6</td></tr>\n",
              "</tbody>\n",
              "</table>\n"
            ],
            "text/markdown": "\nA matrix: 3 × 2 of type dbl\n\n| <!--/--> | A | B |\n|---|---|---|\n| r1 | 1 | 4 |\n| r2 | 2 | 5 |\n| r3 | 3 | 6 |\n\n",
            "text/latex": "A matrix: 3 × 2 of type dbl\n\\begin{tabular}{r|ll}\n  & A & B\\\\\n\\hline\n\tr1 & 1 & 4\\\\\n\tr2 & 2 & 5\\\\\n\tr3 & 3 & 6\\\\\n\\end{tabular}\n",
            "text/plain": [
              "   A B\n",
              "r1 1 4\n",
              "r2 2 5\n",
              "r3 3 6"
            ]
          },
          "metadata": {}
        },
        {
          "output_type": "display_data",
          "data": {
            "text/html": [
              "4"
            ],
            "text/markdown": "4",
            "text/latex": "4",
            "text/plain": [
              "[1] 4"
            ]
          },
          "metadata": {}
        }
      ]
    },
    {
      "cell_type": "code",
      "source": [
        "#Matrix Operations\n",
        "#Element Wise\n",
        "m1 <- matrix(1:4, nrow=2)\n",
        "m2 <- matrix(5:8, nrow=2)\n",
        "\n",
        "m1 + m2   # addition\n",
        "m1 * m2   # element-wise multiplication\n"
      ],
      "metadata": {
        "colab": {
          "base_uri": "https://localhost:8080/",
          "height": 264
        },
        "id": "SdBnE3staskV",
        "outputId": "98f68e1f-66f4-4209-9248-763518f61aba"
      },
      "execution_count": 70,
      "outputs": [
        {
          "output_type": "display_data",
          "data": {
            "text/html": [
              "<table class=\"dataframe\">\n",
              "<caption>A matrix: 2 × 2 of type int</caption>\n",
              "<tbody>\n",
              "\t<tr><td>6</td><td>10</td></tr>\n",
              "\t<tr><td>8</td><td>12</td></tr>\n",
              "</tbody>\n",
              "</table>\n"
            ],
            "text/markdown": "\nA matrix: 2 × 2 of type int\n\n| 6 | 10 |\n| 8 | 12 |\n\n",
            "text/latex": "A matrix: 2 × 2 of type int\n\\begin{tabular}{ll}\n\t 6 & 10\\\\\n\t 8 & 12\\\\\n\\end{tabular}\n",
            "text/plain": [
              "     [,1] [,2]\n",
              "[1,] 6    10  \n",
              "[2,] 8    12  "
            ]
          },
          "metadata": {}
        },
        {
          "output_type": "display_data",
          "data": {
            "text/html": [
              "<table class=\"dataframe\">\n",
              "<caption>A matrix: 2 × 2 of type int</caption>\n",
              "<tbody>\n",
              "\t<tr><td> 5</td><td>21</td></tr>\n",
              "\t<tr><td>12</td><td>32</td></tr>\n",
              "</tbody>\n",
              "</table>\n"
            ],
            "text/markdown": "\nA matrix: 2 × 2 of type int\n\n|  5 | 21 |\n| 12 | 32 |\n\n",
            "text/latex": "A matrix: 2 × 2 of type int\n\\begin{tabular}{ll}\n\t  5 & 21\\\\\n\t 12 & 32\\\\\n\\end{tabular}\n",
            "text/plain": [
              "     [,1] [,2]\n",
              "[1,]  5   21  \n",
              "[2,] 12   32  "
            ]
          },
          "metadata": {}
        }
      ]
    },
    {
      "cell_type": "code",
      "source": [
        "# Matrix Multiplication: Use %*%\n",
        "m1 <- matrix(c(1,2,3,4), nrow=2)\n",
        "m2 <- matrix(c(5,6,7,8), nrow=2)\n",
        "\n",
        "m1 %*% m2\n"
      ],
      "metadata": {
        "colab": {
          "base_uri": "https://localhost:8080/",
          "height": 132
        },
        "id": "50dAcxlVasnR",
        "outputId": "52dc162e-3f5e-4646-b235-f753b78b5a7b"
      },
      "execution_count": 71,
      "outputs": [
        {
          "output_type": "display_data",
          "data": {
            "text/html": [
              "<table class=\"dataframe\">\n",
              "<caption>A matrix: 2 × 2 of type dbl</caption>\n",
              "<tbody>\n",
              "\t<tr><td>23</td><td>31</td></tr>\n",
              "\t<tr><td>34</td><td>46</td></tr>\n",
              "</tbody>\n",
              "</table>\n"
            ],
            "text/markdown": "\nA matrix: 2 × 2 of type dbl\n\n| 23 | 31 |\n| 34 | 46 |\n\n",
            "text/latex": "A matrix: 2 × 2 of type dbl\n\\begin{tabular}{ll}\n\t 23 & 31\\\\\n\t 34 & 46\\\\\n\\end{tabular}\n",
            "text/plain": [
              "     [,1] [,2]\n",
              "[1,] 23   31  \n",
              "[2,] 34   46  "
            ]
          },
          "metadata": {}
        }
      ]
    },
    {
      "cell_type": "code",
      "source": [
        "#Useful Matrix Functions\n",
        "t(m)        # transpose\n",
        "det(m)      # determinant (if square)\n",
        "solve(m)    # inverse (if invertible)\n",
        "diag(m)     # diagonal elements\n",
        "rowSums(m)  # sum across rows\n",
        "colSums(m)  # sum across columns"
      ],
      "metadata": {
        "id": "ZNoTyo7iXdSI",
        "colab": {
          "base_uri": "https://localhost:8080/",
          "height": 427
        },
        "outputId": "384557a5-8b21-41e3-8512-30cac72fe314"
      },
      "execution_count": 72,
      "outputs": [
        {
          "output_type": "display_data",
          "data": {
            "text/html": [
              "<table class=\"dataframe\">\n",
              "<caption>A matrix: 2 × 3 of type dbl</caption>\n",
              "<thead>\n",
              "\t<tr><th></th><th scope=col>r1</th><th scope=col>r2</th><th scope=col>r3</th></tr>\n",
              "</thead>\n",
              "<tbody>\n",
              "\t<tr><th scope=row>A</th><td>1</td><td>2</td><td>3</td></tr>\n",
              "\t<tr><th scope=row>B</th><td>4</td><td>5</td><td>6</td></tr>\n",
              "</tbody>\n",
              "</table>\n"
            ],
            "text/markdown": "\nA matrix: 2 × 3 of type dbl\n\n| <!--/--> | r1 | r2 | r3 |\n|---|---|---|---|\n| A | 1 | 2 | 3 |\n| B | 4 | 5 | 6 |\n\n",
            "text/latex": "A matrix: 2 × 3 of type dbl\n\\begin{tabular}{r|lll}\n  & r1 & r2 & r3\\\\\n\\hline\n\tA & 1 & 2 & 3\\\\\n\tB & 4 & 5 & 6\\\\\n\\end{tabular}\n",
            "text/plain": [
              "  r1 r2 r3\n",
              "A 1  2  3 \n",
              "B 4  5  6 "
            ]
          },
          "metadata": {}
        },
        {
          "output_type": "error",
          "ename": "ERROR",
          "evalue": "Error in determinant.matrix(x, logarithm = TRUE, ...): 'x' must be a square matrix\n",
          "traceback": [
            "Error in determinant.matrix(x, logarithm = TRUE, ...): 'x' must be a square matrix\nTraceback:\n",
            "1. determinant(x, logarithm = TRUE, ...)",
            "2. determinant.matrix(x, logarithm = TRUE, ...)",
            "3. stop(\"'x' must be a square matrix\")",
            "4. .handleSimpleError(function (cnd) \n . {\n .     watcher$capture_plot_and_output()\n .     cnd <- sanitize_call(cnd)\n .     watcher$push(cnd)\n .     switch(on_error, continue = invokeRestart(\"eval_continue\"), \n .         stop = invokeRestart(\"eval_stop\"), error = NULL)\n . }, \"'x' must be a square matrix\", base::quote(determinant.matrix(x, \n .     logarithm = TRUE, ...)))"
          ]
        }
      ]
    },
    {
      "cell_type": "code",
      "source": [
        "#Binding Matrices\n",
        "m1 <- matrix(1:4, 2, 2)\n",
        "m2 <- matrix(5:8, 2, 2)\n",
        "\n",
        "cbind(m1, m2) # column-wise combine\n",
        "rbind(m1, m2) # row-wise combine\n"
      ],
      "metadata": {
        "id": "3BuJONmyXdUs",
        "colab": {
          "base_uri": "https://localhost:8080/",
          "height": 327
        },
        "outputId": "2323a2e1-598b-4308-8d00-328be58bc5f2"
      },
      "execution_count": 73,
      "outputs": [
        {
          "output_type": "display_data",
          "data": {
            "text/html": [
              "<table class=\"dataframe\">\n",
              "<caption>A matrix: 2 × 4 of type int</caption>\n",
              "<tbody>\n",
              "\t<tr><td>1</td><td>3</td><td>5</td><td>7</td></tr>\n",
              "\t<tr><td>2</td><td>4</td><td>6</td><td>8</td></tr>\n",
              "</tbody>\n",
              "</table>\n"
            ],
            "text/markdown": "\nA matrix: 2 × 4 of type int\n\n| 1 | 3 | 5 | 7 |\n| 2 | 4 | 6 | 8 |\n\n",
            "text/latex": "A matrix: 2 × 4 of type int\n\\begin{tabular}{llll}\n\t 1 & 3 & 5 & 7\\\\\n\t 2 & 4 & 6 & 8\\\\\n\\end{tabular}\n",
            "text/plain": [
              "     [,1] [,2] [,3] [,4]\n",
              "[1,] 1    3    5    7   \n",
              "[2,] 2    4    6    8   "
            ]
          },
          "metadata": {}
        },
        {
          "output_type": "display_data",
          "data": {
            "text/html": [
              "<table class=\"dataframe\">\n",
              "<caption>A matrix: 4 × 2 of type int</caption>\n",
              "<tbody>\n",
              "\t<tr><td>1</td><td>3</td></tr>\n",
              "\t<tr><td>2</td><td>4</td></tr>\n",
              "\t<tr><td>5</td><td>7</td></tr>\n",
              "\t<tr><td>6</td><td>8</td></tr>\n",
              "</tbody>\n",
              "</table>\n"
            ],
            "text/markdown": "\nA matrix: 4 × 2 of type int\n\n| 1 | 3 |\n| 2 | 4 |\n| 5 | 7 |\n| 6 | 8 |\n\n",
            "text/latex": "A matrix: 4 × 2 of type int\n\\begin{tabular}{ll}\n\t 1 & 3\\\\\n\t 2 & 4\\\\\n\t 5 & 7\\\\\n\t 6 & 8\\\\\n\\end{tabular}\n",
            "text/plain": [
              "     [,1] [,2]\n",
              "[1,] 1    3   \n",
              "[2,] 2    4   \n",
              "[3,] 5    7   \n",
              "[4,] 6    8   "
            ]
          },
          "metadata": {}
        }
      ]
    },
    {
      "cell_type": "code",
      "source": [
        "m <- matrix(1:9, nrow=3, ncol=3)\n",
        "dim(m)    # (3, 3)\n",
        "nrow(m)   # 3\n",
        "ncol(m)   # 3\n"
      ],
      "metadata": {
        "id": "w69ZLK3TXdXW",
        "colab": {
          "base_uri": "https://localhost:8080/",
          "height": 69
        },
        "outputId": "c132b325-9411-4786-d986-799c1923e22a"
      },
      "execution_count": 74,
      "outputs": [
        {
          "output_type": "display_data",
          "data": {
            "text/html": [
              "<style>\n",
              ".list-inline {list-style: none; margin:0; padding: 0}\n",
              ".list-inline>li {display: inline-block}\n",
              ".list-inline>li:not(:last-child)::after {content: \"\\00b7\"; padding: 0 .5ex}\n",
              "</style>\n",
              "<ol class=list-inline><li>3</li><li>3</li></ol>\n"
            ],
            "text/markdown": "1. 3\n2. 3\n\n\n",
            "text/latex": "\\begin{enumerate*}\n\\item 3\n\\item 3\n\\end{enumerate*}\n",
            "text/plain": [
              "[1] 3 3"
            ]
          },
          "metadata": {}
        },
        {
          "output_type": "display_data",
          "data": {
            "text/html": [
              "3"
            ],
            "text/markdown": "3",
            "text/latex": "3",
            "text/plain": [
              "[1] 3"
            ]
          },
          "metadata": {}
        },
        {
          "output_type": "display_data",
          "data": {
            "text/html": [
              "3"
            ],
            "text/markdown": "3",
            "text/latex": "3",
            "text/plain": [
              "[1] 3"
            ]
          },
          "metadata": {}
        }
      ]
    },
    {
      "cell_type": "code",
      "source": [
        "#Subsetting with Conditions\n",
        "m[m > 5]     # extract elements greater than 5\n",
        "which(m > 5) # gives positions (linear indices)"
      ],
      "metadata": {
        "id": "g7Z3OFD6Xdav",
        "colab": {
          "base_uri": "https://localhost:8080/",
          "height": 52
        },
        "outputId": "0434d6d5-1122-42ec-ed77-7889b7244355"
      },
      "execution_count": 75,
      "outputs": [
        {
          "output_type": "display_data",
          "data": {
            "text/html": [
              "<style>\n",
              ".list-inline {list-style: none; margin:0; padding: 0}\n",
              ".list-inline>li {display: inline-block}\n",
              ".list-inline>li:not(:last-child)::after {content: \"\\00b7\"; padding: 0 .5ex}\n",
              "</style>\n",
              "<ol class=list-inline><li>6</li><li>7</li><li>8</li><li>9</li></ol>\n"
            ],
            "text/markdown": "1. 6\n2. 7\n3. 8\n4. 9\n\n\n",
            "text/latex": "\\begin{enumerate*}\n\\item 6\n\\item 7\n\\item 8\n\\item 9\n\\end{enumerate*}\n",
            "text/plain": [
              "[1] 6 7 8 9"
            ]
          },
          "metadata": {}
        },
        {
          "output_type": "display_data",
          "data": {
            "text/html": [
              "<style>\n",
              ".list-inline {list-style: none; margin:0; padding: 0}\n",
              ".list-inline>li {display: inline-block}\n",
              ".list-inline>li:not(:last-child)::after {content: \"\\00b7\"; padding: 0 .5ex}\n",
              "</style>\n",
              "<ol class=list-inline><li>6</li><li>7</li><li>8</li><li>9</li></ol>\n"
            ],
            "text/markdown": "1. 6\n2. 7\n3. 8\n4. 9\n\n\n",
            "text/latex": "\\begin{enumerate*}\n\\item 6\n\\item 7\n\\item 8\n\\item 9\n\\end{enumerate*}\n",
            "text/plain": [
              "[1] 6 7 8 9"
            ]
          },
          "metadata": {}
        }
      ]
    },
    {
      "cell_type": "markdown",
      "source": [
        "What is a List?\n",
        "\n",
        "A list is a container that can store different data types and structures.\n",
        "\n",
        "Elements inside a list can be:\n",
        "\n",
        "Scalars (numbers, text, logicals)\n",
        "\n",
        "Vectors\n",
        "\n",
        "Matrices\n",
        "\n",
        "Data frames\n",
        "\n",
        "Even other lists (nested lists)\n",
        "\n",
        "Think of a list as a \"basket\" that can hold many different objects."
      ],
      "metadata": {
        "id": "-NQlCt3reOow"
      }
    },
    {
      "cell_type": "code",
      "source": [
        "#Creating Lists\n",
        "my_list <- list(\n",
        "  name = \"Alice\",\n",
        "  age = 25,\n",
        "  scores = c(90, 95, 88),\n",
        "  is_student = TRUE\n",
        ")\n",
        "my_list"
      ],
      "metadata": {
        "id": "kaG7w4lDXddf",
        "colab": {
          "base_uri": "https://localhost:8080/",
          "height": 184
        },
        "outputId": "0738d646-a4a5-46bd-bced-aab11c65a10d"
      },
      "execution_count": 76,
      "outputs": [
        {
          "output_type": "display_data",
          "data": {
            "text/html": [
              "<dl>\n",
              "\t<dt>$name</dt>\n",
              "\t\t<dd>'Alice'</dd>\n",
              "\t<dt>$age</dt>\n",
              "\t\t<dd>25</dd>\n",
              "\t<dt>$scores</dt>\n",
              "\t\t<dd><style>\n",
              ".list-inline {list-style: none; margin:0; padding: 0}\n",
              ".list-inline>li {display: inline-block}\n",
              ".list-inline>li:not(:last-child)::after {content: \"\\00b7\"; padding: 0 .5ex}\n",
              "</style>\n",
              "<ol class=list-inline><li>90</li><li>95</li><li>88</li></ol>\n",
              "</dd>\n",
              "\t<dt>$is_student</dt>\n",
              "\t\t<dd>TRUE</dd>\n",
              "</dl>\n"
            ],
            "text/markdown": "$name\n:   'Alice'\n$age\n:   25\n$scores\n:   1. 90\n2. 95\n3. 88\n\n\n\n$is_student\n:   TRUE\n\n\n",
            "text/latex": "\\begin{description}\n\\item[\\$name] 'Alice'\n\\item[\\$age] 25\n\\item[\\$scores] \\begin{enumerate*}\n\\item 90\n\\item 95\n\\item 88\n\\end{enumerate*}\n\n\\item[\\$is\\_student] TRUE\n\\end{description}\n",
            "text/plain": [
              "$name\n",
              "[1] \"Alice\"\n",
              "\n",
              "$age\n",
              "[1] 25\n",
              "\n",
              "$scores\n",
              "[1] 90 95 88\n",
              "\n",
              "$is_student\n",
              "[1] TRUE\n"
            ]
          },
          "metadata": {}
        }
      ]
    },
    {
      "cell_type": "code",
      "source": [
        "#Accessing List Elements\n",
        "#a) By Position\n",
        "my_list[[1]]   # \"Alice\" (first element)\n",
        "my_list[[3]]   # vector of scores"
      ],
      "metadata": {
        "id": "BgUuESniXdgW",
        "colab": {
          "base_uri": "https://localhost:8080/",
          "height": 52
        },
        "outputId": "8a4ce6ee-db47-4c9e-f222-58483de9bbbb"
      },
      "execution_count": 77,
      "outputs": [
        {
          "output_type": "display_data",
          "data": {
            "text/html": [
              "'Alice'"
            ],
            "text/markdown": "'Alice'",
            "text/latex": "'Alice'",
            "text/plain": [
              "[1] \"Alice\""
            ]
          },
          "metadata": {}
        },
        {
          "output_type": "display_data",
          "data": {
            "text/html": [
              "<style>\n",
              ".list-inline {list-style: none; margin:0; padding: 0}\n",
              ".list-inline>li {display: inline-block}\n",
              ".list-inline>li:not(:last-child)::after {content: \"\\00b7\"; padding: 0 .5ex}\n",
              "</style>\n",
              "<ol class=list-inline><li>90</li><li>95</li><li>88</li></ol>\n"
            ],
            "text/markdown": "1. 90\n2. 95\n3. 88\n\n\n",
            "text/latex": "\\begin{enumerate*}\n\\item 90\n\\item 95\n\\item 88\n\\end{enumerate*}\n",
            "text/plain": [
              "[1] 90 95 88"
            ]
          },
          "metadata": {}
        }
      ]
    },
    {
      "cell_type": "code",
      "source": [
        "#b) By Name\n",
        "my_list$name\n",
        "my_list[[\"scores\"]]"
      ],
      "metadata": {
        "id": "Vb_3Zi-aXdjC",
        "colab": {
          "base_uri": "https://localhost:8080/",
          "height": 52
        },
        "outputId": "87db3416-4dbe-4a67-87eb-7a05e9883281"
      },
      "execution_count": 78,
      "outputs": [
        {
          "output_type": "display_data",
          "data": {
            "text/html": [
              "'Alice'"
            ],
            "text/markdown": "'Alice'",
            "text/latex": "'Alice'",
            "text/plain": [
              "[1] \"Alice\""
            ]
          },
          "metadata": {}
        },
        {
          "output_type": "display_data",
          "data": {
            "text/html": [
              "<style>\n",
              ".list-inline {list-style: none; margin:0; padding: 0}\n",
              ".list-inline>li {display: inline-block}\n",
              ".list-inline>li:not(:last-child)::after {content: \"\\00b7\"; padding: 0 .5ex}\n",
              "</style>\n",
              "<ol class=list-inline><li>90</li><li>95</li><li>88</li></ol>\n"
            ],
            "text/markdown": "1. 90\n2. 95\n3. 88\n\n\n",
            "text/latex": "\\begin{enumerate*}\n\\item 90\n\\item 95\n\\item 88\n\\end{enumerate*}\n",
            "text/plain": [
              "[1] 90 95 88"
            ]
          },
          "metadata": {}
        }
      ]
    },
    {
      "cell_type": "code",
      "source": [
        "#c) Extract as Sublist vs Element\n",
        "\n",
        "#Single [] → returns a list.\n",
        "\n",
        "#Double [[ ]] → returns the actual element.\n",
        "\n",
        "my_list[\"name\"]   # still a list\n",
        "my_list[[\"name\"]] # actual value \"Alice\""
      ],
      "metadata": {
        "colab": {
          "base_uri": "https://localhost:8080/",
          "height": 52
        },
        "id": "KjJuNN89ehKJ",
        "outputId": "1f760b4b-daa0-40bc-b5b8-949d6b4219b9"
      },
      "execution_count": 79,
      "outputs": [
        {
          "output_type": "display_data",
          "data": {
            "text/html": [
              "<strong>$name</strong> = 'Alice'"
            ],
            "text/markdown": "**$name** = 'Alice'",
            "text/latex": "\\textbf{\\$name} = 'Alice'",
            "text/plain": [
              "$name\n",
              "[1] \"Alice\"\n"
            ]
          },
          "metadata": {}
        },
        {
          "output_type": "display_data",
          "data": {
            "text/html": [
              "'Alice'"
            ],
            "text/markdown": "'Alice'",
            "text/latex": "'Alice'",
            "text/plain": [
              "[1] \"Alice\""
            ]
          },
          "metadata": {}
        }
      ]
    },
    {
      "cell_type": "code",
      "source": [
        "#Modifying Lists\n",
        "my_list$age <- 26          # change element\n",
        "my_list$city <- \"Dhaka\"    # add new element\n",
        "my_list$scores <- NULL     # remove element"
      ],
      "metadata": {
        "id": "avnu8UdJehOh"
      },
      "execution_count": 80,
      "outputs": []
    },
    {
      "cell_type": "code",
      "source": [
        "#Nested Lists\n",
        "\n",
        "#Lists can contain other lists:\n",
        "\n",
        "nested <- list(\n",
        "  person = list(name=\"Alice\", age=25),\n",
        "  marks = list(math=90, sci=95)\n",
        ")\n",
        "\n",
        "nested$person$name   # \"Alice\"\n",
        "nested$marks$sci     # 95"
      ],
      "metadata": {
        "colab": {
          "base_uri": "https://localhost:8080/",
          "height": 52
        },
        "id": "lSCO_KLiehTf",
        "outputId": "ade40eb5-9776-4e7b-da01-414c83a7d562"
      },
      "execution_count": 81,
      "outputs": [
        {
          "output_type": "display_data",
          "data": {
            "text/html": [
              "'Alice'"
            ],
            "text/markdown": "'Alice'",
            "text/latex": "'Alice'",
            "text/plain": [
              "[1] \"Alice\""
            ]
          },
          "metadata": {}
        },
        {
          "output_type": "display_data",
          "data": {
            "text/html": [
              "95"
            ],
            "text/markdown": "95",
            "text/latex": "95",
            "text/plain": [
              "[1] 95"
            ]
          },
          "metadata": {}
        }
      ]
    },
    {
      "cell_type": "code",
      "source": [
        "#Combining Lists\n",
        "list1 <- list(a=1, b=2)\n",
        "list2 <- list(c=3, d=4)\n",
        "combined <- c(list1, list2)\n",
        "combined"
      ],
      "metadata": {
        "colab": {
          "base_uri": "https://localhost:8080/",
          "height": 184
        },
        "id": "cDjI-hwXehXE",
        "outputId": "53f2d193-b397-4e2d-d8e4-ba8e5de9852c"
      },
      "execution_count": 82,
      "outputs": [
        {
          "output_type": "display_data",
          "data": {
            "text/html": [
              "<dl>\n",
              "\t<dt>$a</dt>\n",
              "\t\t<dd>1</dd>\n",
              "\t<dt>$b</dt>\n",
              "\t\t<dd>2</dd>\n",
              "\t<dt>$c</dt>\n",
              "\t\t<dd>3</dd>\n",
              "\t<dt>$d</dt>\n",
              "\t\t<dd>4</dd>\n",
              "</dl>\n"
            ],
            "text/markdown": "$a\n:   1\n$b\n:   2\n$c\n:   3\n$d\n:   4\n\n\n",
            "text/latex": "\\begin{description}\n\\item[\\$a] 1\n\\item[\\$b] 2\n\\item[\\$c] 3\n\\item[\\$d] 4\n\\end{description}\n",
            "text/plain": [
              "$a\n",
              "[1] 1\n",
              "\n",
              "$b\n",
              "[1] 2\n",
              "\n",
              "$c\n",
              "[1] 3\n",
              "\n",
              "$d\n",
              "[1] 4\n"
            ]
          },
          "metadata": {}
        }
      ]
    },
    {
      "cell_type": "code",
      "source": [
        "#Useful Functions for Lists\n",
        "length(my_list)   # number of elements\n",
        "names(my_list)    # names of elements\n",
        "str(my_list)      # structure of list\n",
        "unlist(my_list)   # flatten list into vector (if possible)\n"
      ],
      "metadata": {
        "colab": {
          "base_uri": "https://localhost:8080/",
          "height": 156
        },
        "id": "DbjPcXy8ehZ2",
        "outputId": "9a5e04b6-ebf1-43cf-b14e-8de99cc8fe0f"
      },
      "execution_count": 83,
      "outputs": [
        {
          "output_type": "display_data",
          "data": {
            "text/html": [
              "4"
            ],
            "text/markdown": "4",
            "text/latex": "4",
            "text/plain": [
              "[1] 4"
            ]
          },
          "metadata": {}
        },
        {
          "output_type": "display_data",
          "data": {
            "text/html": [
              "<style>\n",
              ".list-inline {list-style: none; margin:0; padding: 0}\n",
              ".list-inline>li {display: inline-block}\n",
              ".list-inline>li:not(:last-child)::after {content: \"\\00b7\"; padding: 0 .5ex}\n",
              "</style>\n",
              "<ol class=list-inline><li>'name'</li><li>'age'</li><li>'is_student'</li><li>'city'</li></ol>\n"
            ],
            "text/markdown": "1. 'name'\n2. 'age'\n3. 'is_student'\n4. 'city'\n\n\n",
            "text/latex": "\\begin{enumerate*}\n\\item 'name'\n\\item 'age'\n\\item 'is\\_student'\n\\item 'city'\n\\end{enumerate*}\n",
            "text/plain": [
              "[1] \"name\"       \"age\"        \"is_student\" \"city\"      "
            ]
          },
          "metadata": {}
        },
        {
          "output_type": "stream",
          "name": "stdout",
          "text": [
            "List of 4\n",
            " $ name      : chr \"Alice\"\n",
            " $ age       : num 26\n",
            " $ is_student: logi TRUE\n",
            " $ city      : chr \"Dhaka\"\n"
          ]
        },
        {
          "output_type": "display_data",
          "data": {
            "text/html": [
              "<style>\n",
              ".dl-inline {width: auto; margin:0; padding: 0}\n",
              ".dl-inline>dt, .dl-inline>dd {float: none; width: auto; display: inline-block}\n",
              ".dl-inline>dt::after {content: \":\\0020\"; padding-right: .5ex}\n",
              ".dl-inline>dt:not(:first-of-type) {padding-left: .5ex}\n",
              "</style><dl class=dl-inline><dt>name</dt><dd>'Alice'</dd><dt>age</dt><dd>'26'</dd><dt>is_student</dt><dd>'TRUE'</dd><dt>city</dt><dd>'Dhaka'</dd></dl>\n"
            ],
            "text/markdown": "name\n:   'Alice'age\n:   '26'is_student\n:   'TRUE'city\n:   'Dhaka'\n\n",
            "text/latex": "\\begin{description*}\n\\item[name] 'Alice'\n\\item[age] '26'\n\\item[is\\textbackslash{}\\_student] 'TRUE'\n\\item[city] 'Dhaka'\n\\end{description*}\n",
            "text/plain": [
              "      name        age is_student       city \n",
              "   \"Alice\"       \"26\"     \"TRUE\"    \"Dhaka\" "
            ]
          },
          "metadata": {}
        }
      ]
    },
    {
      "cell_type": "code",
      "source": [
        "# #Applying Functions to Lists\n",
        "\n",
        "# lapply() → returns a list\n",
        "\n",
        "# sapply() → tries to simplify result to a vector/matrix\n",
        "\n",
        "num_list <- list(a=1:5, b=6:10)\n",
        "\n",
        "lapply(num_list, mean)   # list of means\n",
        "sapply(num_list, mean)   # vector of means\n"
      ],
      "metadata": {
        "colab": {
          "base_uri": "https://localhost:8080/",
          "height": 132
        },
        "id": "KJtuVokdehd1",
        "outputId": "4cbd138e-4b40-4b27-e51b-7542b820cfe9"
      },
      "execution_count": 84,
      "outputs": [
        {
          "output_type": "display_data",
          "data": {
            "text/html": [
              "<dl>\n",
              "\t<dt>$a</dt>\n",
              "\t\t<dd>3</dd>\n",
              "\t<dt>$b</dt>\n",
              "\t\t<dd>8</dd>\n",
              "</dl>\n"
            ],
            "text/markdown": "$a\n:   3\n$b\n:   8\n\n\n",
            "text/latex": "\\begin{description}\n\\item[\\$a] 3\n\\item[\\$b] 8\n\\end{description}\n",
            "text/plain": [
              "$a\n",
              "[1] 3\n",
              "\n",
              "$b\n",
              "[1] 8\n"
            ]
          },
          "metadata": {}
        },
        {
          "output_type": "display_data",
          "data": {
            "text/html": [
              "<style>\n",
              ".dl-inline {width: auto; margin:0; padding: 0}\n",
              ".dl-inline>dt, .dl-inline>dd {float: none; width: auto; display: inline-block}\n",
              ".dl-inline>dt::after {content: \":\\0020\"; padding-right: .5ex}\n",
              ".dl-inline>dt:not(:first-of-type) {padding-left: .5ex}\n",
              "</style><dl class=dl-inline><dt>a</dt><dd>3</dd><dt>b</dt><dd>8</dd></dl>\n"
            ],
            "text/markdown": "a\n:   3b\n:   8\n\n",
            "text/latex": "\\begin{description*}\n\\item[a] 3\n\\item[b] 8\n\\end{description*}\n",
            "text/plain": [
              "a b \n",
              "3 8 "
            ]
          },
          "metadata": {}
        }
      ]
    },
    {
      "cell_type": "code",
      "source": [
        "#Converting Lists\n",
        "df <- data.frame(name=c(\"Alice\",\"Bob\"), score=c(90,85))\n",
        "as.list(df)    # convert dataframe to list\n"
      ],
      "metadata": {
        "colab": {
          "base_uri": "https://localhost:8080/",
          "height": 114
        },
        "id": "xreORGYtehhn",
        "outputId": "340fdb09-b161-42d8-8c38-2a7c78df3751"
      },
      "execution_count": 85,
      "outputs": [
        {
          "output_type": "display_data",
          "data": {
            "text/html": [
              "<dl>\n",
              "\t<dt>$name</dt>\n",
              "\t\t<dd><style>\n",
              ".list-inline {list-style: none; margin:0; padding: 0}\n",
              ".list-inline>li {display: inline-block}\n",
              ".list-inline>li:not(:last-child)::after {content: \"\\00b7\"; padding: 0 .5ex}\n",
              "</style>\n",
              "<ol class=list-inline><li>'Alice'</li><li>'Bob'</li></ol>\n",
              "</dd>\n",
              "\t<dt>$score</dt>\n",
              "\t\t<dd><style>\n",
              ".list-inline {list-style: none; margin:0; padding: 0}\n",
              ".list-inline>li {display: inline-block}\n",
              ".list-inline>li:not(:last-child)::after {content: \"\\00b7\"; padding: 0 .5ex}\n",
              "</style>\n",
              "<ol class=list-inline><li>90</li><li>85</li></ol>\n",
              "</dd>\n",
              "</dl>\n"
            ],
            "text/markdown": "$name\n:   1. 'Alice'\n2. 'Bob'\n\n\n\n$score\n:   1. 90\n2. 85\n\n\n\n\n\n",
            "text/latex": "\\begin{description}\n\\item[\\$name] \\begin{enumerate*}\n\\item 'Alice'\n\\item 'Bob'\n\\end{enumerate*}\n\n\\item[\\$score] \\begin{enumerate*}\n\\item 90\n\\item 85\n\\end{enumerate*}\n\n\\end{description}\n",
            "text/plain": [
              "$name\n",
              "[1] \"Alice\" \"Bob\"  \n",
              "\n",
              "$score\n",
              "[1] 90 85\n"
            ]
          },
          "metadata": {}
        }
      ]
    },
    {
      "cell_type": "code",
      "source": [
        "# Create a student list\n",
        "student <- list(\n",
        "  name = \"Charlie\",\n",
        "  age = 22,\n",
        "  subjects = c(\"Math\",\"Physics\",\"CS\"),\n",
        "  marks = list(\n",
        "    Math = 85,\n",
        "    Physics = 90,\n",
        "    CS = 95\n",
        "  )\n",
        ")\n",
        "\n",
        "# 1. Extract age\n",
        "student$age\n",
        "\n",
        "# 2. Add \"Gender\" field\n",
        "student$gender <- \"Male\"\n",
        "\n",
        "# 3. Access Physics marks\n",
        "student$marks$Physics\n",
        "\n",
        "# 4. Apply mean function to marks\n",
        "sapply(student$marks, mean)\n",
        "\n",
        "# 5. Remove age from list\n",
        "student$age <- NULL\n"
      ],
      "metadata": {
        "colab": {
          "base_uri": "https://localhost:8080/",
          "height": 69
        },
        "id": "fwURLafPeiD-",
        "outputId": "ff3dced3-9956-4544-e1cc-c51369fbaeca"
      },
      "execution_count": 86,
      "outputs": [
        {
          "output_type": "display_data",
          "data": {
            "text/html": [
              "22"
            ],
            "text/markdown": "22",
            "text/latex": "22",
            "text/plain": [
              "[1] 22"
            ]
          },
          "metadata": {}
        },
        {
          "output_type": "display_data",
          "data": {
            "text/html": [
              "90"
            ],
            "text/markdown": "90",
            "text/latex": "90",
            "text/plain": [
              "[1] 90"
            ]
          },
          "metadata": {}
        },
        {
          "output_type": "display_data",
          "data": {
            "text/html": [
              "<style>\n",
              ".dl-inline {width: auto; margin:0; padding: 0}\n",
              ".dl-inline>dt, .dl-inline>dd {float: none; width: auto; display: inline-block}\n",
              ".dl-inline>dt::after {content: \":\\0020\"; padding-right: .5ex}\n",
              ".dl-inline>dt:not(:first-of-type) {padding-left: .5ex}\n",
              "</style><dl class=dl-inline><dt>Math</dt><dd>85</dd><dt>Physics</dt><dd>90</dd><dt>CS</dt><dd>95</dd></dl>\n"
            ],
            "text/markdown": "Math\n:   85Physics\n:   90CS\n:   95\n\n",
            "text/latex": "\\begin{description*}\n\\item[Math] 85\n\\item[Physics] 90\n\\item[CS] 95\n\\end{description*}\n",
            "text/plain": [
              "   Math Physics      CS \n",
              "     85      90      95 "
            ]
          },
          "metadata": {}
        }
      ]
    },
    {
      "cell_type": "markdown",
      "source": [
        "What is a Data Frame?\n",
        "\n",
        "A data frame is a table-like structure:\n",
        "\n",
        "Rows = observations (records)\n",
        "\n",
        "Columns = variables (attributes)\n",
        "\n",
        "Each column can have different data types (numeric, character, factor, logical).\n",
        "\n",
        "It’s basically a list of equal-length vectors."
      ],
      "metadata": {
        "id": "Pcf5tk-dfEAB"
      }
    },
    {
      "cell_type": "code",
      "source": [
        "#Creating a Data Frame\n",
        "students <- data.frame(\n",
        "  name = c(\"Alice\", \"Bob\", \"Charlie\"),\n",
        "  age = c(20, 21, 22),\n",
        "  marks = c(85, 90, 95),\n",
        "  gender = c(\"F\", \"M\", \"M\")\n",
        ")\n",
        "\n",
        "students"
      ],
      "metadata": {
        "colab": {
          "base_uri": "https://localhost:8080/",
          "height": 192
        },
        "id": "QIp_4SbCeiIc",
        "outputId": "54d87828-721a-4513-f5eb-5682ce3818ca"
      },
      "execution_count": 87,
      "outputs": [
        {
          "output_type": "display_data",
          "data": {
            "text/html": [
              "<table class=\"dataframe\">\n",
              "<caption>A data.frame: 3 × 4</caption>\n",
              "<thead>\n",
              "\t<tr><th scope=col>name</th><th scope=col>age</th><th scope=col>marks</th><th scope=col>gender</th></tr>\n",
              "\t<tr><th scope=col>&lt;chr&gt;</th><th scope=col>&lt;dbl&gt;</th><th scope=col>&lt;dbl&gt;</th><th scope=col>&lt;chr&gt;</th></tr>\n",
              "</thead>\n",
              "<tbody>\n",
              "\t<tr><td>Alice  </td><td>20</td><td>85</td><td>F</td></tr>\n",
              "\t<tr><td>Bob    </td><td>21</td><td>90</td><td>M</td></tr>\n",
              "\t<tr><td>Charlie</td><td>22</td><td>95</td><td>M</td></tr>\n",
              "</tbody>\n",
              "</table>\n"
            ],
            "text/markdown": "\nA data.frame: 3 × 4\n\n| name &lt;chr&gt; | age &lt;dbl&gt; | marks &lt;dbl&gt; | gender &lt;chr&gt; |\n|---|---|---|---|\n| Alice   | 20 | 85 | F |\n| Bob     | 21 | 90 | M |\n| Charlie | 22 | 95 | M |\n\n",
            "text/latex": "A data.frame: 3 × 4\n\\begin{tabular}{llll}\n name & age & marks & gender\\\\\n <chr> & <dbl> & <dbl> & <chr>\\\\\n\\hline\n\t Alice   & 20 & 85 & F\\\\\n\t Bob     & 21 & 90 & M\\\\\n\t Charlie & 22 & 95 & M\\\\\n\\end{tabular}\n",
            "text/plain": [
              "  name    age marks gender\n",
              "1 Alice   20  85    F     \n",
              "2 Bob     21  90    M     \n",
              "3 Charlie 22  95    M     "
            ]
          },
          "metadata": {}
        }
      ]
    },
    {
      "cell_type": "code",
      "source": [
        "# Accessing Data in a Data Frame\n",
        "# a) By Column Name\n",
        "students$name\n",
        "students$marks"
      ],
      "metadata": {
        "colab": {
          "base_uri": "https://localhost:8080/",
          "height": 52
        },
        "id": "kbcBu3OSeiMY",
        "outputId": "7597949f-147c-4ecf-8b24-e5c6bd0a9d72"
      },
      "execution_count": 88,
      "outputs": [
        {
          "output_type": "display_data",
          "data": {
            "text/html": [
              "<style>\n",
              ".list-inline {list-style: none; margin:0; padding: 0}\n",
              ".list-inline>li {display: inline-block}\n",
              ".list-inline>li:not(:last-child)::after {content: \"\\00b7\"; padding: 0 .5ex}\n",
              "</style>\n",
              "<ol class=list-inline><li>'Alice'</li><li>'Bob'</li><li>'Charlie'</li></ol>\n"
            ],
            "text/markdown": "1. 'Alice'\n2. 'Bob'\n3. 'Charlie'\n\n\n",
            "text/latex": "\\begin{enumerate*}\n\\item 'Alice'\n\\item 'Bob'\n\\item 'Charlie'\n\\end{enumerate*}\n",
            "text/plain": [
              "[1] \"Alice\"   \"Bob\"     \"Charlie\""
            ]
          },
          "metadata": {}
        },
        {
          "output_type": "display_data",
          "data": {
            "text/html": [
              "<style>\n",
              ".list-inline {list-style: none; margin:0; padding: 0}\n",
              ".list-inline>li {display: inline-block}\n",
              ".list-inline>li:not(:last-child)::after {content: \"\\00b7\"; padding: 0 .5ex}\n",
              "</style>\n",
              "<ol class=list-inline><li>85</li><li>90</li><li>95</li></ol>\n"
            ],
            "text/markdown": "1. 85\n2. 90\n3. 95\n\n\n",
            "text/latex": "\\begin{enumerate*}\n\\item 85\n\\item 90\n\\item 95\n\\end{enumerate*}\n",
            "text/plain": [
              "[1] 85 90 95"
            ]
          },
          "metadata": {}
        }
      ]
    },
    {
      "cell_type": "code",
      "source": [
        "#b) Using Indexing\n",
        "students[1, ]       # first row\n",
        "students[, 2]       # second column\n",
        "students[1, 3]      # element (row 1, col 3) → 85\n",
        "students[1:2, c(\"name\",\"marks\")]  # subset rows & columns\n"
      ],
      "metadata": {
        "colab": {
          "base_uri": "https://localhost:8080/",
          "height": 308
        },
        "id": "ipvE4xGgeiQe",
        "outputId": "c6e3630d-69eb-4d4d-d192-5c7c5df98905"
      },
      "execution_count": 89,
      "outputs": [
        {
          "output_type": "display_data",
          "data": {
            "text/html": [
              "<table class=\"dataframe\">\n",
              "<caption>A data.frame: 1 × 4</caption>\n",
              "<thead>\n",
              "\t<tr><th></th><th scope=col>name</th><th scope=col>age</th><th scope=col>marks</th><th scope=col>gender</th></tr>\n",
              "\t<tr><th></th><th scope=col>&lt;chr&gt;</th><th scope=col>&lt;dbl&gt;</th><th scope=col>&lt;dbl&gt;</th><th scope=col>&lt;chr&gt;</th></tr>\n",
              "</thead>\n",
              "<tbody>\n",
              "\t<tr><th scope=row>1</th><td>Alice</td><td>20</td><td>85</td><td>F</td></tr>\n",
              "</tbody>\n",
              "</table>\n"
            ],
            "text/markdown": "\nA data.frame: 1 × 4\n\n| <!--/--> | name &lt;chr&gt; | age &lt;dbl&gt; | marks &lt;dbl&gt; | gender &lt;chr&gt; |\n|---|---|---|---|---|\n| 1 | Alice | 20 | 85 | F |\n\n",
            "text/latex": "A data.frame: 1 × 4\n\\begin{tabular}{r|llll}\n  & name & age & marks & gender\\\\\n  & <chr> & <dbl> & <dbl> & <chr>\\\\\n\\hline\n\t1 & Alice & 20 & 85 & F\\\\\n\\end{tabular}\n",
            "text/plain": [
              "  name  age marks gender\n",
              "1 Alice 20  85    F     "
            ]
          },
          "metadata": {}
        },
        {
          "output_type": "display_data",
          "data": {
            "text/html": [
              "<style>\n",
              ".list-inline {list-style: none; margin:0; padding: 0}\n",
              ".list-inline>li {display: inline-block}\n",
              ".list-inline>li:not(:last-child)::after {content: \"\\00b7\"; padding: 0 .5ex}\n",
              "</style>\n",
              "<ol class=list-inline><li>20</li><li>21</li><li>22</li></ol>\n"
            ],
            "text/markdown": "1. 20\n2. 21\n3. 22\n\n\n",
            "text/latex": "\\begin{enumerate*}\n\\item 20\n\\item 21\n\\item 22\n\\end{enumerate*}\n",
            "text/plain": [
              "[1] 20 21 22"
            ]
          },
          "metadata": {}
        },
        {
          "output_type": "display_data",
          "data": {
            "text/html": [
              "85"
            ],
            "text/markdown": "85",
            "text/latex": "85",
            "text/plain": [
              "[1] 85"
            ]
          },
          "metadata": {}
        },
        {
          "output_type": "display_data",
          "data": {
            "text/html": [
              "<table class=\"dataframe\">\n",
              "<caption>A data.frame: 2 × 2</caption>\n",
              "<thead>\n",
              "\t<tr><th></th><th scope=col>name</th><th scope=col>marks</th></tr>\n",
              "\t<tr><th></th><th scope=col>&lt;chr&gt;</th><th scope=col>&lt;dbl&gt;</th></tr>\n",
              "</thead>\n",
              "<tbody>\n",
              "\t<tr><th scope=row>1</th><td>Alice</td><td>85</td></tr>\n",
              "\t<tr><th scope=row>2</th><td>Bob  </td><td>90</td></tr>\n",
              "</tbody>\n",
              "</table>\n"
            ],
            "text/markdown": "\nA data.frame: 2 × 2\n\n| <!--/--> | name &lt;chr&gt; | marks &lt;dbl&gt; |\n|---|---|---|\n| 1 | Alice | 85 |\n| 2 | Bob   | 90 |\n\n",
            "text/latex": "A data.frame: 2 × 2\n\\begin{tabular}{r|ll}\n  & name & marks\\\\\n  & <chr> & <dbl>\\\\\n\\hline\n\t1 & Alice & 85\\\\\n\t2 & Bob   & 90\\\\\n\\end{tabular}\n",
            "text/plain": [
              "  name  marks\n",
              "1 Alice 85   \n",
              "2 Bob   90   "
            ]
          },
          "metadata": {}
        }
      ]
    },
    {
      "cell_type": "code",
      "source": [
        "#4. Adding / Removing Columns\n",
        "students$grade <- c(\"A\", \"A\", \"A+\")   # add column\n",
        "students$age <- NULL                  # remove column\n"
      ],
      "metadata": {
        "id": "wolpf3p0eiTS"
      },
      "execution_count": 90,
      "outputs": []
    },
    {
      "cell_type": "code",
      "source": [
        "#5. Adding Rows\n",
        "new_student <- data.frame(name=\"David\", age=23, marks=88, gender=\"M\")\n",
        "students <- rbind(students, new_student)\n",
        "students\n"
      ],
      "metadata": {
        "colab": {
          "base_uri": "https://localhost:8080/",
          "height": 297
        },
        "id": "6MVVQqrRfTTT",
        "outputId": "72e0b7c6-ae1b-4d1b-dc29-4a67be08d142"
      },
      "execution_count": 91,
      "outputs": [
        {
          "output_type": "error",
          "ename": "ERROR",
          "evalue": "Error in match.names(clabs, names(xi)): names do not match previous names\n",
          "traceback": [
            "Error in match.names(clabs, names(xi)): names do not match previous names\nTraceback:\n",
            "1. rbind(deparse.level, ...)",
            "2. match.names(clabs, names(xi))",
            "3. stop(\"names do not match previous names\")",
            "4. .handleSimpleError(function (cnd) \n . {\n .     watcher$capture_plot_and_output()\n .     cnd <- sanitize_call(cnd)\n .     watcher$push(cnd)\n .     switch(on_error, continue = invokeRestart(\"eval_continue\"), \n .         stop = invokeRestart(\"eval_stop\"), error = NULL)\n . }, \"names do not match previous names\", base::quote(match.names(clabs, \n .     names(xi))))"
          ]
        }
      ]
    },
    {
      "cell_type": "code",
      "source": [
        "#6. Useful Functions\n",
        "head(students)       # first 6 rows (default)\n",
        "head(students, 2)    # first 2 rows\n",
        "\n",
        "tail(students)       # last 6 rows\n",
        "tail(students, 2)    # last 2 rows\n",
        "\n",
        "nrow(students)       # number of rows\n",
        "ncol(students)       # number of columns\n",
        "dim(students)        # dimensions (rows, cols)\n",
        "colnames(students)   # column names\n",
        "rownames(students)   # row names\n"
      ],
      "metadata": {
        "colab": {
          "base_uri": "https://localhost:8080/",
          "height": 742
        },
        "id": "JoBNrveXfTXh",
        "outputId": "9413ee40-1e35-46bd-95c0-57ac13b56e0d"
      },
      "execution_count": 92,
      "outputs": [
        {
          "output_type": "display_data",
          "data": {
            "text/html": [
              "<table class=\"dataframe\">\n",
              "<caption>A data.frame: 3 × 4</caption>\n",
              "<thead>\n",
              "\t<tr><th></th><th scope=col>name</th><th scope=col>marks</th><th scope=col>gender</th><th scope=col>grade</th></tr>\n",
              "\t<tr><th></th><th scope=col>&lt;chr&gt;</th><th scope=col>&lt;dbl&gt;</th><th scope=col>&lt;chr&gt;</th><th scope=col>&lt;chr&gt;</th></tr>\n",
              "</thead>\n",
              "<tbody>\n",
              "\t<tr><th scope=row>1</th><td>Alice  </td><td>85</td><td>F</td><td>A </td></tr>\n",
              "\t<tr><th scope=row>2</th><td>Bob    </td><td>90</td><td>M</td><td>A </td></tr>\n",
              "\t<tr><th scope=row>3</th><td>Charlie</td><td>95</td><td>M</td><td>A+</td></tr>\n",
              "</tbody>\n",
              "</table>\n"
            ],
            "text/markdown": "\nA data.frame: 3 × 4\n\n| <!--/--> | name &lt;chr&gt; | marks &lt;dbl&gt; | gender &lt;chr&gt; | grade &lt;chr&gt; |\n|---|---|---|---|---|\n| 1 | Alice   | 85 | F | A  |\n| 2 | Bob     | 90 | M | A  |\n| 3 | Charlie | 95 | M | A+ |\n\n",
            "text/latex": "A data.frame: 3 × 4\n\\begin{tabular}{r|llll}\n  & name & marks & gender & grade\\\\\n  & <chr> & <dbl> & <chr> & <chr>\\\\\n\\hline\n\t1 & Alice   & 85 & F & A \\\\\n\t2 & Bob     & 90 & M & A \\\\\n\t3 & Charlie & 95 & M & A+\\\\\n\\end{tabular}\n",
            "text/plain": [
              "  name    marks gender grade\n",
              "1 Alice   85    F      A    \n",
              "2 Bob     90    M      A    \n",
              "3 Charlie 95    M      A+   "
            ]
          },
          "metadata": {}
        },
        {
          "output_type": "display_data",
          "data": {
            "text/html": [
              "<table class=\"dataframe\">\n",
              "<caption>A data.frame: 2 × 4</caption>\n",
              "<thead>\n",
              "\t<tr><th></th><th scope=col>name</th><th scope=col>marks</th><th scope=col>gender</th><th scope=col>grade</th></tr>\n",
              "\t<tr><th></th><th scope=col>&lt;chr&gt;</th><th scope=col>&lt;dbl&gt;</th><th scope=col>&lt;chr&gt;</th><th scope=col>&lt;chr&gt;</th></tr>\n",
              "</thead>\n",
              "<tbody>\n",
              "\t<tr><th scope=row>1</th><td>Alice</td><td>85</td><td>F</td><td>A</td></tr>\n",
              "\t<tr><th scope=row>2</th><td>Bob  </td><td>90</td><td>M</td><td>A</td></tr>\n",
              "</tbody>\n",
              "</table>\n"
            ],
            "text/markdown": "\nA data.frame: 2 × 4\n\n| <!--/--> | name &lt;chr&gt; | marks &lt;dbl&gt; | gender &lt;chr&gt; | grade &lt;chr&gt; |\n|---|---|---|---|---|\n| 1 | Alice | 85 | F | A |\n| 2 | Bob   | 90 | M | A |\n\n",
            "text/latex": "A data.frame: 2 × 4\n\\begin{tabular}{r|llll}\n  & name & marks & gender & grade\\\\\n  & <chr> & <dbl> & <chr> & <chr>\\\\\n\\hline\n\t1 & Alice & 85 & F & A\\\\\n\t2 & Bob   & 90 & M & A\\\\\n\\end{tabular}\n",
            "text/plain": [
              "  name  marks gender grade\n",
              "1 Alice 85    F      A    \n",
              "2 Bob   90    M      A    "
            ]
          },
          "metadata": {}
        },
        {
          "output_type": "display_data",
          "data": {
            "text/html": [
              "<table class=\"dataframe\">\n",
              "<caption>A data.frame: 3 × 4</caption>\n",
              "<thead>\n",
              "\t<tr><th></th><th scope=col>name</th><th scope=col>marks</th><th scope=col>gender</th><th scope=col>grade</th></tr>\n",
              "\t<tr><th></th><th scope=col>&lt;chr&gt;</th><th scope=col>&lt;dbl&gt;</th><th scope=col>&lt;chr&gt;</th><th scope=col>&lt;chr&gt;</th></tr>\n",
              "</thead>\n",
              "<tbody>\n",
              "\t<tr><th scope=row>1</th><td>Alice  </td><td>85</td><td>F</td><td>A </td></tr>\n",
              "\t<tr><th scope=row>2</th><td>Bob    </td><td>90</td><td>M</td><td>A </td></tr>\n",
              "\t<tr><th scope=row>3</th><td>Charlie</td><td>95</td><td>M</td><td>A+</td></tr>\n",
              "</tbody>\n",
              "</table>\n"
            ],
            "text/markdown": "\nA data.frame: 3 × 4\n\n| <!--/--> | name &lt;chr&gt; | marks &lt;dbl&gt; | gender &lt;chr&gt; | grade &lt;chr&gt; |\n|---|---|---|---|---|\n| 1 | Alice   | 85 | F | A  |\n| 2 | Bob     | 90 | M | A  |\n| 3 | Charlie | 95 | M | A+ |\n\n",
            "text/latex": "A data.frame: 3 × 4\n\\begin{tabular}{r|llll}\n  & name & marks & gender & grade\\\\\n  & <chr> & <dbl> & <chr> & <chr>\\\\\n\\hline\n\t1 & Alice   & 85 & F & A \\\\\n\t2 & Bob     & 90 & M & A \\\\\n\t3 & Charlie & 95 & M & A+\\\\\n\\end{tabular}\n",
            "text/plain": [
              "  name    marks gender grade\n",
              "1 Alice   85    F      A    \n",
              "2 Bob     90    M      A    \n",
              "3 Charlie 95    M      A+   "
            ]
          },
          "metadata": {}
        },
        {
          "output_type": "display_data",
          "data": {
            "text/html": [
              "<table class=\"dataframe\">\n",
              "<caption>A data.frame: 2 × 4</caption>\n",
              "<thead>\n",
              "\t<tr><th></th><th scope=col>name</th><th scope=col>marks</th><th scope=col>gender</th><th scope=col>grade</th></tr>\n",
              "\t<tr><th></th><th scope=col>&lt;chr&gt;</th><th scope=col>&lt;dbl&gt;</th><th scope=col>&lt;chr&gt;</th><th scope=col>&lt;chr&gt;</th></tr>\n",
              "</thead>\n",
              "<tbody>\n",
              "\t<tr><th scope=row>2</th><td>Bob    </td><td>90</td><td>M</td><td>A </td></tr>\n",
              "\t<tr><th scope=row>3</th><td>Charlie</td><td>95</td><td>M</td><td>A+</td></tr>\n",
              "</tbody>\n",
              "</table>\n"
            ],
            "text/markdown": "\nA data.frame: 2 × 4\n\n| <!--/--> | name &lt;chr&gt; | marks &lt;dbl&gt; | gender &lt;chr&gt; | grade &lt;chr&gt; |\n|---|---|---|---|---|\n| 2 | Bob     | 90 | M | A  |\n| 3 | Charlie | 95 | M | A+ |\n\n",
            "text/latex": "A data.frame: 2 × 4\n\\begin{tabular}{r|llll}\n  & name & marks & gender & grade\\\\\n  & <chr> & <dbl> & <chr> & <chr>\\\\\n\\hline\n\t2 & Bob     & 90 & M & A \\\\\n\t3 & Charlie & 95 & M & A+\\\\\n\\end{tabular}\n",
            "text/plain": [
              "  name    marks gender grade\n",
              "2 Bob     90    M      A    \n",
              "3 Charlie 95    M      A+   "
            ]
          },
          "metadata": {}
        },
        {
          "output_type": "display_data",
          "data": {
            "text/html": [
              "3"
            ],
            "text/markdown": "3",
            "text/latex": "3",
            "text/plain": [
              "[1] 3"
            ]
          },
          "metadata": {}
        },
        {
          "output_type": "display_data",
          "data": {
            "text/html": [
              "4"
            ],
            "text/markdown": "4",
            "text/latex": "4",
            "text/plain": [
              "[1] 4"
            ]
          },
          "metadata": {}
        },
        {
          "output_type": "display_data",
          "data": {
            "text/html": [
              "<style>\n",
              ".list-inline {list-style: none; margin:0; padding: 0}\n",
              ".list-inline>li {display: inline-block}\n",
              ".list-inline>li:not(:last-child)::after {content: \"\\00b7\"; padding: 0 .5ex}\n",
              "</style>\n",
              "<ol class=list-inline><li>3</li><li>4</li></ol>\n"
            ],
            "text/markdown": "1. 3\n2. 4\n\n\n",
            "text/latex": "\\begin{enumerate*}\n\\item 3\n\\item 4\n\\end{enumerate*}\n",
            "text/plain": [
              "[1] 3 4"
            ]
          },
          "metadata": {}
        },
        {
          "output_type": "display_data",
          "data": {
            "text/html": [
              "<style>\n",
              ".list-inline {list-style: none; margin:0; padding: 0}\n",
              ".list-inline>li {display: inline-block}\n",
              ".list-inline>li:not(:last-child)::after {content: \"\\00b7\"; padding: 0 .5ex}\n",
              "</style>\n",
              "<ol class=list-inline><li>'name'</li><li>'marks'</li><li>'gender'</li><li>'grade'</li></ol>\n"
            ],
            "text/markdown": "1. 'name'\n2. 'marks'\n3. 'gender'\n4. 'grade'\n\n\n",
            "text/latex": "\\begin{enumerate*}\n\\item 'name'\n\\item 'marks'\n\\item 'gender'\n\\item 'grade'\n\\end{enumerate*}\n",
            "text/plain": [
              "[1] \"name\"   \"marks\"  \"gender\" \"grade\" "
            ]
          },
          "metadata": {}
        },
        {
          "output_type": "display_data",
          "data": {
            "text/html": [
              "<style>\n",
              ".list-inline {list-style: none; margin:0; padding: 0}\n",
              ".list-inline>li {display: inline-block}\n",
              ".list-inline>li:not(:last-child)::after {content: \"\\00b7\"; padding: 0 .5ex}\n",
              "</style>\n",
              "<ol class=list-inline><li>'1'</li><li>'2'</li><li>'3'</li></ol>\n"
            ],
            "text/markdown": "1. '1'\n2. '2'\n3. '3'\n\n\n",
            "text/latex": "\\begin{enumerate*}\n\\item '1'\n\\item '2'\n\\item '3'\n\\end{enumerate*}\n",
            "text/plain": [
              "[1] \"1\" \"2\" \"3\""
            ]
          },
          "metadata": {}
        }
      ]
    },
    {
      "cell_type": "code",
      "source": [
        "#7. Summary and Structure\n",
        "str(students)      # structure of dataframe\n",
        "summary(students)  # descriptive statistics"
      ],
      "metadata": {
        "colab": {
          "base_uri": "https://localhost:8080/",
          "height": 225
        },
        "id": "4J4TW6oQfTbb",
        "outputId": "7bfb56bd-af2e-4818-c6ba-843f6de4ce45"
      },
      "execution_count": 93,
      "outputs": [
        {
          "output_type": "stream",
          "name": "stdout",
          "text": [
            "'data.frame':\t3 obs. of  4 variables:\n",
            " $ name  : chr  \"Alice\" \"Bob\" \"Charlie\"\n",
            " $ marks : num  85 90 95\n",
            " $ gender: chr  \"F\" \"M\" \"M\"\n",
            " $ grade : chr  \"A\" \"A\" \"A+\"\n"
          ]
        },
        {
          "output_type": "display_data",
          "data": {
            "text/plain": [
              "     name               marks         gender             grade          \n",
              " Length:3           Min.   :85.0   Length:3           Length:3          \n",
              " Class :character   1st Qu.:87.5   Class :character   Class :character  \n",
              " Mode  :character   Median :90.0   Mode  :character   Mode  :character  \n",
              "                    Mean   :90.0                                        \n",
              "                    3rd Qu.:92.5                                        \n",
              "                    Max.   :95.0                                        "
            ]
          },
          "metadata": {}
        }
      ]
    },
    {
      "cell_type": "code",
      "source": [
        "#8. Subsetting with Conditions\n",
        "students[students$marks > 85, ]    # students with marks > 85\n",
        "students[students$gender == \"F\", ] # female students"
      ],
      "metadata": {
        "colab": {
          "base_uri": "https://localhost:8080/",
          "height": 273
        },
        "id": "znRA5dJ8fTfN",
        "outputId": "fb2df69e-ca35-4283-d4a5-42319d9736c6"
      },
      "execution_count": 94,
      "outputs": [
        {
          "output_type": "display_data",
          "data": {
            "text/html": [
              "<table class=\"dataframe\">\n",
              "<caption>A data.frame: 2 × 4</caption>\n",
              "<thead>\n",
              "\t<tr><th></th><th scope=col>name</th><th scope=col>marks</th><th scope=col>gender</th><th scope=col>grade</th></tr>\n",
              "\t<tr><th></th><th scope=col>&lt;chr&gt;</th><th scope=col>&lt;dbl&gt;</th><th scope=col>&lt;chr&gt;</th><th scope=col>&lt;chr&gt;</th></tr>\n",
              "</thead>\n",
              "<tbody>\n",
              "\t<tr><th scope=row>2</th><td>Bob    </td><td>90</td><td>M</td><td>A </td></tr>\n",
              "\t<tr><th scope=row>3</th><td>Charlie</td><td>95</td><td>M</td><td>A+</td></tr>\n",
              "</tbody>\n",
              "</table>\n"
            ],
            "text/markdown": "\nA data.frame: 2 × 4\n\n| <!--/--> | name &lt;chr&gt; | marks &lt;dbl&gt; | gender &lt;chr&gt; | grade &lt;chr&gt; |\n|---|---|---|---|---|\n| 2 | Bob     | 90 | M | A  |\n| 3 | Charlie | 95 | M | A+ |\n\n",
            "text/latex": "A data.frame: 2 × 4\n\\begin{tabular}{r|llll}\n  & name & marks & gender & grade\\\\\n  & <chr> & <dbl> & <chr> & <chr>\\\\\n\\hline\n\t2 & Bob     & 90 & M & A \\\\\n\t3 & Charlie & 95 & M & A+\\\\\n\\end{tabular}\n",
            "text/plain": [
              "  name    marks gender grade\n",
              "2 Bob     90    M      A    \n",
              "3 Charlie 95    M      A+   "
            ]
          },
          "metadata": {}
        },
        {
          "output_type": "display_data",
          "data": {
            "text/html": [
              "<table class=\"dataframe\">\n",
              "<caption>A data.frame: 1 × 4</caption>\n",
              "<thead>\n",
              "\t<tr><th></th><th scope=col>name</th><th scope=col>marks</th><th scope=col>gender</th><th scope=col>grade</th></tr>\n",
              "\t<tr><th></th><th scope=col>&lt;chr&gt;</th><th scope=col>&lt;dbl&gt;</th><th scope=col>&lt;chr&gt;</th><th scope=col>&lt;chr&gt;</th></tr>\n",
              "</thead>\n",
              "<tbody>\n",
              "\t<tr><th scope=row>1</th><td>Alice</td><td>85</td><td>F</td><td>A</td></tr>\n",
              "</tbody>\n",
              "</table>\n"
            ],
            "text/markdown": "\nA data.frame: 1 × 4\n\n| <!--/--> | name &lt;chr&gt; | marks &lt;dbl&gt; | gender &lt;chr&gt; | grade &lt;chr&gt; |\n|---|---|---|---|---|\n| 1 | Alice | 85 | F | A |\n\n",
            "text/latex": "A data.frame: 1 × 4\n\\begin{tabular}{r|llll}\n  & name & marks & gender & grade\\\\\n  & <chr> & <dbl> & <chr> & <chr>\\\\\n\\hline\n\t1 & Alice & 85 & F & A\\\\\n\\end{tabular}\n",
            "text/plain": [
              "  name  marks gender grade\n",
              "1 Alice 85    F      A    "
            ]
          },
          "metadata": {}
        }
      ]
    },
    {
      "cell_type": "code",
      "source": [
        "#9. Sorting\n",
        "students[order(students$marks), ]          # ascending order by marks\n",
        "students[order(-students$marks), ]         # descending order\n"
      ],
      "metadata": {
        "colab": {
          "base_uri": "https://localhost:8080/",
          "height": 367
        },
        "id": "hqU0vNlDfTiz",
        "outputId": "f060bc64-1e50-41f5-98c6-ed63b4d31eae"
      },
      "execution_count": 95,
      "outputs": [
        {
          "output_type": "display_data",
          "data": {
            "text/html": [
              "<table class=\"dataframe\">\n",
              "<caption>A data.frame: 3 × 4</caption>\n",
              "<thead>\n",
              "\t<tr><th></th><th scope=col>name</th><th scope=col>marks</th><th scope=col>gender</th><th scope=col>grade</th></tr>\n",
              "\t<tr><th></th><th scope=col>&lt;chr&gt;</th><th scope=col>&lt;dbl&gt;</th><th scope=col>&lt;chr&gt;</th><th scope=col>&lt;chr&gt;</th></tr>\n",
              "</thead>\n",
              "<tbody>\n",
              "\t<tr><th scope=row>1</th><td>Alice  </td><td>85</td><td>F</td><td>A </td></tr>\n",
              "\t<tr><th scope=row>2</th><td>Bob    </td><td>90</td><td>M</td><td>A </td></tr>\n",
              "\t<tr><th scope=row>3</th><td>Charlie</td><td>95</td><td>M</td><td>A+</td></tr>\n",
              "</tbody>\n",
              "</table>\n"
            ],
            "text/markdown": "\nA data.frame: 3 × 4\n\n| <!--/--> | name &lt;chr&gt; | marks &lt;dbl&gt; | gender &lt;chr&gt; | grade &lt;chr&gt; |\n|---|---|---|---|---|\n| 1 | Alice   | 85 | F | A  |\n| 2 | Bob     | 90 | M | A  |\n| 3 | Charlie | 95 | M | A+ |\n\n",
            "text/latex": "A data.frame: 3 × 4\n\\begin{tabular}{r|llll}\n  & name & marks & gender & grade\\\\\n  & <chr> & <dbl> & <chr> & <chr>\\\\\n\\hline\n\t1 & Alice   & 85 & F & A \\\\\n\t2 & Bob     & 90 & M & A \\\\\n\t3 & Charlie & 95 & M & A+\\\\\n\\end{tabular}\n",
            "text/plain": [
              "  name    marks gender grade\n",
              "1 Alice   85    F      A    \n",
              "2 Bob     90    M      A    \n",
              "3 Charlie 95    M      A+   "
            ]
          },
          "metadata": {}
        },
        {
          "output_type": "display_data",
          "data": {
            "text/html": [
              "<table class=\"dataframe\">\n",
              "<caption>A data.frame: 3 × 4</caption>\n",
              "<thead>\n",
              "\t<tr><th></th><th scope=col>name</th><th scope=col>marks</th><th scope=col>gender</th><th scope=col>grade</th></tr>\n",
              "\t<tr><th></th><th scope=col>&lt;chr&gt;</th><th scope=col>&lt;dbl&gt;</th><th scope=col>&lt;chr&gt;</th><th scope=col>&lt;chr&gt;</th></tr>\n",
              "</thead>\n",
              "<tbody>\n",
              "\t<tr><th scope=row>3</th><td>Charlie</td><td>95</td><td>M</td><td>A+</td></tr>\n",
              "\t<tr><th scope=row>2</th><td>Bob    </td><td>90</td><td>M</td><td>A </td></tr>\n",
              "\t<tr><th scope=row>1</th><td>Alice  </td><td>85</td><td>F</td><td>A </td></tr>\n",
              "</tbody>\n",
              "</table>\n"
            ],
            "text/markdown": "\nA data.frame: 3 × 4\n\n| <!--/--> | name &lt;chr&gt; | marks &lt;dbl&gt; | gender &lt;chr&gt; | grade &lt;chr&gt; |\n|---|---|---|---|---|\n| 3 | Charlie | 95 | M | A+ |\n| 2 | Bob     | 90 | M | A  |\n| 1 | Alice   | 85 | F | A  |\n\n",
            "text/latex": "A data.frame: 3 × 4\n\\begin{tabular}{r|llll}\n  & name & marks & gender & grade\\\\\n  & <chr> & <dbl> & <chr> & <chr>\\\\\n\\hline\n\t3 & Charlie & 95 & M & A+\\\\\n\t2 & Bob     & 90 & M & A \\\\\n\t1 & Alice   & 85 & F & A \\\\\n\\end{tabular}\n",
            "text/plain": [
              "  name    marks gender grade\n",
              "3 Charlie 95    M      A+   \n",
              "2 Bob     90    M      A    \n",
              "1 Alice   85    F      A    "
            ]
          },
          "metadata": {}
        }
      ]
    },
    {
      "cell_type": "code",
      "source": [
        "#10. Combining Data Frames\n",
        "extra <- data.frame(name=c(\"Eva\",\"Frank\"), age=c(20,24), marks=c(80,89), gender=c(\"F\",\"M\"))\n",
        "combined <- rbind(students, extra)   # row bind"
      ],
      "metadata": {
        "colab": {
          "base_uri": "https://localhost:8080/",
          "height": 297
        },
        "id": "jmK9R5cOfTlI",
        "outputId": "71d4e053-81e7-4a8f-d8dc-87ec457ee842"
      },
      "execution_count": 96,
      "outputs": [
        {
          "output_type": "error",
          "ename": "ERROR",
          "evalue": "Error in match.names(clabs, names(xi)): names do not match previous names\n",
          "traceback": [
            "Error in match.names(clabs, names(xi)): names do not match previous names\nTraceback:\n",
            "1. rbind(deparse.level, ...)",
            "2. match.names(clabs, names(xi))",
            "3. stop(\"names do not match previous names\")",
            "4. .handleSimpleError(function (cnd) \n . {\n .     watcher$capture_plot_and_output()\n .     cnd <- sanitize_call(cnd)\n .     watcher$push(cnd)\n .     switch(on_error, continue = invokeRestart(\"eval_continue\"), \n .         stop = invokeRestart(\"eval_stop\"), error = NULL)\n . }, \"names do not match previous names\", base::quote(match.names(clabs, \n .     names(xi))))"
          ]
        }
      ]
    },
    {
      "cell_type": "code",
      "source": [
        "# Create student dataset\n",
        "students <- data.frame(\n",
        "  name = c(\"A\", \"B\", \"C\", \"D\"),\n",
        "  age = c(18, 19, 20, 21),\n",
        "  marks = c(70, 85, 90, 60),\n",
        "  gender = c(\"M\", \"F\", \"M\", \"F\")\n",
        ")\n",
        "\n",
        "# 1. Show first 2 rows\n",
        "head(students, 2)\n",
        "\n",
        "# 2. Show last row\n",
        "tail(students, 1)\n",
        "\n",
        "# 3. Extract only \"name\" and \"marks\" columns\n",
        "students[, c(\"name\",\"marks\")]\n",
        "\n",
        "# 4. Find students with marks >= 80\n",
        "students[students$marks >= 80, ]\n",
        "\n",
        "# 5. Add a \"Grade\" column\n",
        "students$grade <- c(\"B\", \"A\", \"A+\", \"C\")\n",
        "\n",
        "# 6. Sort by marks (descending)\n",
        "students[order(-students$marks), ]\n"
      ],
      "metadata": {
        "colab": {
          "base_uri": "https://localhost:8080/",
          "height": 847
        },
        "id": "pwoXmpIyfTnz",
        "outputId": "7d0b79e0-3e41-41ad-b059-a82448847b3f"
      },
      "execution_count": 97,
      "outputs": [
        {
          "output_type": "display_data",
          "data": {
            "text/html": [
              "<table class=\"dataframe\">\n",
              "<caption>A data.frame: 2 × 4</caption>\n",
              "<thead>\n",
              "\t<tr><th></th><th scope=col>name</th><th scope=col>age</th><th scope=col>marks</th><th scope=col>gender</th></tr>\n",
              "\t<tr><th></th><th scope=col>&lt;chr&gt;</th><th scope=col>&lt;dbl&gt;</th><th scope=col>&lt;dbl&gt;</th><th scope=col>&lt;chr&gt;</th></tr>\n",
              "</thead>\n",
              "<tbody>\n",
              "\t<tr><th scope=row>1</th><td>A</td><td>18</td><td>70</td><td>M</td></tr>\n",
              "\t<tr><th scope=row>2</th><td>B</td><td>19</td><td>85</td><td>F</td></tr>\n",
              "</tbody>\n",
              "</table>\n"
            ],
            "text/markdown": "\nA data.frame: 2 × 4\n\n| <!--/--> | name &lt;chr&gt; | age &lt;dbl&gt; | marks &lt;dbl&gt; | gender &lt;chr&gt; |\n|---|---|---|---|---|\n| 1 | A | 18 | 70 | M |\n| 2 | B | 19 | 85 | F |\n\n",
            "text/latex": "A data.frame: 2 × 4\n\\begin{tabular}{r|llll}\n  & name & age & marks & gender\\\\\n  & <chr> & <dbl> & <dbl> & <chr>\\\\\n\\hline\n\t1 & A & 18 & 70 & M\\\\\n\t2 & B & 19 & 85 & F\\\\\n\\end{tabular}\n",
            "text/plain": [
              "  name age marks gender\n",
              "1 A    18  70    M     \n",
              "2 B    19  85    F     "
            ]
          },
          "metadata": {}
        },
        {
          "output_type": "display_data",
          "data": {
            "text/html": [
              "<table class=\"dataframe\">\n",
              "<caption>A data.frame: 1 × 4</caption>\n",
              "<thead>\n",
              "\t<tr><th></th><th scope=col>name</th><th scope=col>age</th><th scope=col>marks</th><th scope=col>gender</th></tr>\n",
              "\t<tr><th></th><th scope=col>&lt;chr&gt;</th><th scope=col>&lt;dbl&gt;</th><th scope=col>&lt;dbl&gt;</th><th scope=col>&lt;chr&gt;</th></tr>\n",
              "</thead>\n",
              "<tbody>\n",
              "\t<tr><th scope=row>4</th><td>D</td><td>21</td><td>60</td><td>F</td></tr>\n",
              "</tbody>\n",
              "</table>\n"
            ],
            "text/markdown": "\nA data.frame: 1 × 4\n\n| <!--/--> | name &lt;chr&gt; | age &lt;dbl&gt; | marks &lt;dbl&gt; | gender &lt;chr&gt; |\n|---|---|---|---|---|\n| 4 | D | 21 | 60 | F |\n\n",
            "text/latex": "A data.frame: 1 × 4\n\\begin{tabular}{r|llll}\n  & name & age & marks & gender\\\\\n  & <chr> & <dbl> & <dbl> & <chr>\\\\\n\\hline\n\t4 & D & 21 & 60 & F\\\\\n\\end{tabular}\n",
            "text/plain": [
              "  name age marks gender\n",
              "4 D    21  60    F     "
            ]
          },
          "metadata": {}
        },
        {
          "output_type": "display_data",
          "data": {
            "text/html": [
              "<table class=\"dataframe\">\n",
              "<caption>A data.frame: 4 × 2</caption>\n",
              "<thead>\n",
              "\t<tr><th scope=col>name</th><th scope=col>marks</th></tr>\n",
              "\t<tr><th scope=col>&lt;chr&gt;</th><th scope=col>&lt;dbl&gt;</th></tr>\n",
              "</thead>\n",
              "<tbody>\n",
              "\t<tr><td>A</td><td>70</td></tr>\n",
              "\t<tr><td>B</td><td>85</td></tr>\n",
              "\t<tr><td>C</td><td>90</td></tr>\n",
              "\t<tr><td>D</td><td>60</td></tr>\n",
              "</tbody>\n",
              "</table>\n"
            ],
            "text/markdown": "\nA data.frame: 4 × 2\n\n| name &lt;chr&gt; | marks &lt;dbl&gt; |\n|---|---|\n| A | 70 |\n| B | 85 |\n| C | 90 |\n| D | 60 |\n\n",
            "text/latex": "A data.frame: 4 × 2\n\\begin{tabular}{ll}\n name & marks\\\\\n <chr> & <dbl>\\\\\n\\hline\n\t A & 70\\\\\n\t B & 85\\\\\n\t C & 90\\\\\n\t D & 60\\\\\n\\end{tabular}\n",
            "text/plain": [
              "  name marks\n",
              "1 A    70   \n",
              "2 B    85   \n",
              "3 C    90   \n",
              "4 D    60   "
            ]
          },
          "metadata": {}
        },
        {
          "output_type": "display_data",
          "data": {
            "text/html": [
              "<table class=\"dataframe\">\n",
              "<caption>A data.frame: 2 × 4</caption>\n",
              "<thead>\n",
              "\t<tr><th></th><th scope=col>name</th><th scope=col>age</th><th scope=col>marks</th><th scope=col>gender</th></tr>\n",
              "\t<tr><th></th><th scope=col>&lt;chr&gt;</th><th scope=col>&lt;dbl&gt;</th><th scope=col>&lt;dbl&gt;</th><th scope=col>&lt;chr&gt;</th></tr>\n",
              "</thead>\n",
              "<tbody>\n",
              "\t<tr><th scope=row>2</th><td>B</td><td>19</td><td>85</td><td>F</td></tr>\n",
              "\t<tr><th scope=row>3</th><td>C</td><td>20</td><td>90</td><td>M</td></tr>\n",
              "</tbody>\n",
              "</table>\n"
            ],
            "text/markdown": "\nA data.frame: 2 × 4\n\n| <!--/--> | name &lt;chr&gt; | age &lt;dbl&gt; | marks &lt;dbl&gt; | gender &lt;chr&gt; |\n|---|---|---|---|---|\n| 2 | B | 19 | 85 | F |\n| 3 | C | 20 | 90 | M |\n\n",
            "text/latex": "A data.frame: 2 × 4\n\\begin{tabular}{r|llll}\n  & name & age & marks & gender\\\\\n  & <chr> & <dbl> & <dbl> & <chr>\\\\\n\\hline\n\t2 & B & 19 & 85 & F\\\\\n\t3 & C & 20 & 90 & M\\\\\n\\end{tabular}\n",
            "text/plain": [
              "  name age marks gender\n",
              "2 B    19  85    F     \n",
              "3 C    20  90    M     "
            ]
          },
          "metadata": {}
        },
        {
          "output_type": "display_data",
          "data": {
            "text/html": [
              "<table class=\"dataframe\">\n",
              "<caption>A data.frame: 4 × 5</caption>\n",
              "<thead>\n",
              "\t<tr><th></th><th scope=col>name</th><th scope=col>age</th><th scope=col>marks</th><th scope=col>gender</th><th scope=col>grade</th></tr>\n",
              "\t<tr><th></th><th scope=col>&lt;chr&gt;</th><th scope=col>&lt;dbl&gt;</th><th scope=col>&lt;dbl&gt;</th><th scope=col>&lt;chr&gt;</th><th scope=col>&lt;chr&gt;</th></tr>\n",
              "</thead>\n",
              "<tbody>\n",
              "\t<tr><th scope=row>3</th><td>C</td><td>20</td><td>90</td><td>M</td><td>A+</td></tr>\n",
              "\t<tr><th scope=row>2</th><td>B</td><td>19</td><td>85</td><td>F</td><td>A </td></tr>\n",
              "\t<tr><th scope=row>1</th><td>A</td><td>18</td><td>70</td><td>M</td><td>B </td></tr>\n",
              "\t<tr><th scope=row>4</th><td>D</td><td>21</td><td>60</td><td>F</td><td>C </td></tr>\n",
              "</tbody>\n",
              "</table>\n"
            ],
            "text/markdown": "\nA data.frame: 4 × 5\n\n| <!--/--> | name &lt;chr&gt; | age &lt;dbl&gt; | marks &lt;dbl&gt; | gender &lt;chr&gt; | grade &lt;chr&gt; |\n|---|---|---|---|---|---|\n| 3 | C | 20 | 90 | M | A+ |\n| 2 | B | 19 | 85 | F | A  |\n| 1 | A | 18 | 70 | M | B  |\n| 4 | D | 21 | 60 | F | C  |\n\n",
            "text/latex": "A data.frame: 4 × 5\n\\begin{tabular}{r|lllll}\n  & name & age & marks & gender & grade\\\\\n  & <chr> & <dbl> & <dbl> & <chr> & <chr>\\\\\n\\hline\n\t3 & C & 20 & 90 & M & A+\\\\\n\t2 & B & 19 & 85 & F & A \\\\\n\t1 & A & 18 & 70 & M & B \\\\\n\t4 & D & 21 & 60 & F & C \\\\\n\\end{tabular}\n",
            "text/plain": [
              "  name age marks gender grade\n",
              "3 C    20  90    M      A+   \n",
              "2 B    19  85    F      A    \n",
              "1 A    18  70    M      B    \n",
              "4 D    21  60    F      C    "
            ]
          },
          "metadata": {}
        }
      ]
    },
    {
      "cell_type": "markdown",
      "source": [
        "Mini Project: Student Dataset Analysis in R\n",
        "\n",
        "We’ll create a dataset of students and perform some basic calculations."
      ],
      "metadata": {
        "id": "3TI2rqFtf4_l"
      }
    },
    {
      "cell_type": "code",
      "source": [
        "#Creat the dataset\n",
        "\n",
        "students <- data.frame(\n",
        "    name = c(\"tini\",\"mini\",\"chini\",\"kini\"),\n",
        "    marks =c(78,75,86,97),\n",
        "    gender=c(\"f\",\"f\",\"f\",\"f\")\n",
        ")\n",
        "students"
      ],
      "metadata": {
        "colab": {
          "base_uri": "https://localhost:8080/",
          "height": 224
        },
        "id": "PAmKHw-vfTr7",
        "outputId": "3c55387a-6897-47cb-de76-aa2e7e8bc0cb"
      },
      "execution_count": 98,
      "outputs": [
        {
          "output_type": "display_data",
          "data": {
            "text/html": [
              "<table class=\"dataframe\">\n",
              "<caption>A data.frame: 4 × 3</caption>\n",
              "<thead>\n",
              "\t<tr><th scope=col>name</th><th scope=col>marks</th><th scope=col>gender</th></tr>\n",
              "\t<tr><th scope=col>&lt;chr&gt;</th><th scope=col>&lt;dbl&gt;</th><th scope=col>&lt;chr&gt;</th></tr>\n",
              "</thead>\n",
              "<tbody>\n",
              "\t<tr><td>tini </td><td>78</td><td>f</td></tr>\n",
              "\t<tr><td>mini </td><td>75</td><td>f</td></tr>\n",
              "\t<tr><td>chini</td><td>86</td><td>f</td></tr>\n",
              "\t<tr><td>kini </td><td>97</td><td>f</td></tr>\n",
              "</tbody>\n",
              "</table>\n"
            ],
            "text/markdown": "\nA data.frame: 4 × 3\n\n| name &lt;chr&gt; | marks &lt;dbl&gt; | gender &lt;chr&gt; |\n|---|---|---|\n| tini  | 78 | f |\n| mini  | 75 | f |\n| chini | 86 | f |\n| kini  | 97 | f |\n\n",
            "text/latex": "A data.frame: 4 × 3\n\\begin{tabular}{lll}\n name & marks & gender\\\\\n <chr> & <dbl> & <chr>\\\\\n\\hline\n\t tini  & 78 & f\\\\\n\t mini  & 75 & f\\\\\n\t chini & 86 & f\\\\\n\t kini  & 97 & f\\\\\n\\end{tabular}\n",
            "text/plain": [
              "  name  marks gender\n",
              "1 tini  78    f     \n",
              "2 mini  75    f     \n",
              "3 chini 86    f     \n",
              "4 kini  97    f     "
            ]
          },
          "metadata": {}
        }
      ]
    },
    {
      "cell_type": "code",
      "source": [
        "#Basic Calculations\n",
        "\n",
        "mean_marks <-  mean(students$marks)\n",
        "min_marks <-  min(students$marks)\n",
        "max_marks <-  max(students$marks)\n",
        "mean_marks\n",
        "min_marks\n",
        "max_marks"
      ],
      "metadata": {
        "colab": {
          "base_uri": "https://localhost:8080/",
          "height": 69
        },
        "id": "Mohj5RdJfTvR",
        "outputId": "878d0f81-d5da-4296-932b-7b738f78f010"
      },
      "execution_count": 99,
      "outputs": [
        {
          "output_type": "display_data",
          "data": {
            "text/html": [
              "84"
            ],
            "text/markdown": "84",
            "text/latex": "84",
            "text/plain": [
              "[1] 84"
            ]
          },
          "metadata": {}
        },
        {
          "output_type": "display_data",
          "data": {
            "text/html": [
              "75"
            ],
            "text/markdown": "75",
            "text/latex": "75",
            "text/plain": [
              "[1] 75"
            ]
          },
          "metadata": {}
        },
        {
          "output_type": "display_data",
          "data": {
            "text/html": [
              "97"
            ],
            "text/markdown": "97",
            "text/latex": "97",
            "text/plain": [
              "[1] 97"
            ]
          },
          "metadata": {}
        }
      ]
    },
    {
      "cell_type": "code",
      "source": [
        "#Identify Top & Low Scorer\n",
        "# Top scorer\n",
        "students[students$marks == max(students$marks), ]\n",
        "\n",
        "# Lowest scorer\n",
        "students[students$marks == min(students$marks), ]"
      ],
      "metadata": {
        "colab": {
          "base_uri": "https://localhost:8080/",
          "height": 242
        },
        "id": "rhWqTRqyfTyN",
        "outputId": "b664c63f-4c0a-4171-bab9-a20cbe36c6d1"
      },
      "execution_count": 100,
      "outputs": [
        {
          "output_type": "display_data",
          "data": {
            "text/html": [
              "<table class=\"dataframe\">\n",
              "<caption>A data.frame: 1 × 3</caption>\n",
              "<thead>\n",
              "\t<tr><th></th><th scope=col>name</th><th scope=col>marks</th><th scope=col>gender</th></tr>\n",
              "\t<tr><th></th><th scope=col>&lt;chr&gt;</th><th scope=col>&lt;dbl&gt;</th><th scope=col>&lt;chr&gt;</th></tr>\n",
              "</thead>\n",
              "<tbody>\n",
              "\t<tr><th scope=row>4</th><td>kini</td><td>97</td><td>f</td></tr>\n",
              "</tbody>\n",
              "</table>\n"
            ],
            "text/markdown": "\nA data.frame: 1 × 3\n\n| <!--/--> | name &lt;chr&gt; | marks &lt;dbl&gt; | gender &lt;chr&gt; |\n|---|---|---|---|\n| 4 | kini | 97 | f |\n\n",
            "text/latex": "A data.frame: 1 × 3\n\\begin{tabular}{r|lll}\n  & name & marks & gender\\\\\n  & <chr> & <dbl> & <chr>\\\\\n\\hline\n\t4 & kini & 97 & f\\\\\n\\end{tabular}\n",
            "text/plain": [
              "  name marks gender\n",
              "4 kini 97    f     "
            ]
          },
          "metadata": {}
        },
        {
          "output_type": "display_data",
          "data": {
            "text/html": [
              "<table class=\"dataframe\">\n",
              "<caption>A data.frame: 1 × 3</caption>\n",
              "<thead>\n",
              "\t<tr><th></th><th scope=col>name</th><th scope=col>marks</th><th scope=col>gender</th></tr>\n",
              "\t<tr><th></th><th scope=col>&lt;chr&gt;</th><th scope=col>&lt;dbl&gt;</th><th scope=col>&lt;chr&gt;</th></tr>\n",
              "</thead>\n",
              "<tbody>\n",
              "\t<tr><th scope=row>2</th><td>mini</td><td>75</td><td>f</td></tr>\n",
              "</tbody>\n",
              "</table>\n"
            ],
            "text/markdown": "\nA data.frame: 1 × 3\n\n| <!--/--> | name &lt;chr&gt; | marks &lt;dbl&gt; | gender &lt;chr&gt; |\n|---|---|---|---|\n| 2 | mini | 75 | f |\n\n",
            "text/latex": "A data.frame: 1 × 3\n\\begin{tabular}{r|lll}\n  & name & marks & gender\\\\\n  & <chr> & <dbl> & <chr>\\\\\n\\hline\n\t2 & mini & 75 & f\\\\\n\\end{tabular}\n",
            "text/plain": [
              "  name marks gender\n",
              "2 mini 75    f     "
            ]
          },
          "metadata": {}
        }
      ]
    },
    {
      "cell_type": "code",
      "source": [
        "#Group-wise Calculations\n",
        "# Average marks by gender\n",
        "tapply(students$marks, students$gender, mean)"
      ],
      "metadata": {
        "colab": {
          "base_uri": "https://localhost:8080/",
          "height": 34
        },
        "id": "1ZDpw5y0fT2Y",
        "outputId": "6481e3ad-0352-45de-977d-2e7cd80ebf3a"
      },
      "execution_count": 101,
      "outputs": [
        {
          "output_type": "display_data",
          "data": {
            "text/html": [
              "<strong>f:</strong> 84"
            ],
            "text/markdown": "**f:** 84",
            "text/latex": "\\textbf{f:} 84",
            "text/plain": [
              " f \n",
              "84 "
            ]
          },
          "metadata": {}
        }
      ]
    },
    {
      "cell_type": "code",
      "source": [
        "#Sorting\n",
        "# Sort students by marks (descending)\n",
        "students[order(-students$marks), ]\n"
      ],
      "metadata": {
        "colab": {
          "base_uri": "https://localhost:8080/",
          "height": 224
        },
        "id": "Qu6oRo9wfT6Z",
        "outputId": "b425813e-788c-475a-de6a-48c39964ff14"
      },
      "execution_count": 102,
      "outputs": [
        {
          "output_type": "display_data",
          "data": {
            "text/html": [
              "<table class=\"dataframe\">\n",
              "<caption>A data.frame: 4 × 3</caption>\n",
              "<thead>\n",
              "\t<tr><th></th><th scope=col>name</th><th scope=col>marks</th><th scope=col>gender</th></tr>\n",
              "\t<tr><th></th><th scope=col>&lt;chr&gt;</th><th scope=col>&lt;dbl&gt;</th><th scope=col>&lt;chr&gt;</th></tr>\n",
              "</thead>\n",
              "<tbody>\n",
              "\t<tr><th scope=row>4</th><td>kini </td><td>97</td><td>f</td></tr>\n",
              "\t<tr><th scope=row>3</th><td>chini</td><td>86</td><td>f</td></tr>\n",
              "\t<tr><th scope=row>1</th><td>tini </td><td>78</td><td>f</td></tr>\n",
              "\t<tr><th scope=row>2</th><td>mini </td><td>75</td><td>f</td></tr>\n",
              "</tbody>\n",
              "</table>\n"
            ],
            "text/markdown": "\nA data.frame: 4 × 3\n\n| <!--/--> | name &lt;chr&gt; | marks &lt;dbl&gt; | gender &lt;chr&gt; |\n|---|---|---|---|\n| 4 | kini  | 97 | f |\n| 3 | chini | 86 | f |\n| 1 | tini  | 78 | f |\n| 2 | mini  | 75 | f |\n\n",
            "text/latex": "A data.frame: 4 × 3\n\\begin{tabular}{r|lll}\n  & name & marks & gender\\\\\n  & <chr> & <dbl> & <chr>\\\\\n\\hline\n\t4 & kini  & 97 & f\\\\\n\t3 & chini & 86 & f\\\\\n\t1 & tini  & 78 & f\\\\\n\t2 & mini  & 75 & f\\\\\n\\end{tabular}\n",
            "text/plain": [
              "  name  marks gender\n",
              "4 kini  97    f     \n",
              "3 chini 86    f     \n",
              "1 tini  78    f     \n",
              "2 mini  75    f     "
            ]
          },
          "metadata": {}
        }
      ]
    },
    {
      "cell_type": "code",
      "source": [],
      "metadata": {
        "id": "eEWOUMI0fT8z"
      },
      "execution_count": null,
      "outputs": []
    },
    {
      "cell_type": "code",
      "source": [],
      "metadata": {
        "id": "22C6u6KWfT_N"
      },
      "execution_count": null,
      "outputs": []
    },
    {
      "cell_type": "code",
      "source": [],
      "metadata": {
        "id": "ZjkTr_rEeibK"
      },
      "execution_count": null,
      "outputs": []
    },
    {
      "cell_type": "code",
      "source": [],
      "metadata": {
        "id": "vaxIlgjgeidR"
      },
      "execution_count": null,
      "outputs": []
    },
    {
      "cell_type": "code",
      "source": [],
      "metadata": {
        "id": "8FtY5ixFeifW"
      },
      "execution_count": null,
      "outputs": []
    },
    {
      "cell_type": "code",
      "source": [],
      "metadata": {
        "id": "vwa8qD3Zeihr"
      },
      "execution_count": null,
      "outputs": []
    },
    {
      "cell_type": "code",
      "source": [],
      "metadata": {
        "id": "icVbWDcieikI"
      },
      "execution_count": null,
      "outputs": []
    }
  ]
}