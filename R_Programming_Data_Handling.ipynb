{
  "nbformat": 4,
  "nbformat_minor": 0,
  "metadata": {
    "colab": {
      "provenance": []
    },
    "kernelspec": {
      "name": "ir",
      "display_name": "R"
    },
    "language_info": {
      "name": "R"
    }
  },
  "cells": [
    {
      "cell_type": "code",
      "execution_count": null,
      "metadata": {
        "id": "K3bffGE5QPH1"
      },
      "outputs": [],
      "source": [
        "# Read CSV file\n",
        "data_csv <- read.csv(\"student.csv\")\n",
        "\n",
        "# View first rows\n",
        "head(data_csv)\n"
      ]
    },
    {
      "cell_type": "code",
      "source": [
        "#If your file has a different separator (like ;), you can use\n",
        "data_csv <- read.csv(\"student.csv\", sep = \";\")\n"
      ],
      "metadata": {
        "id": "bwW-1U9TQjrv"
      },
      "execution_count": null,
      "outputs": []
    },
    {
      "cell_type": "code",
      "source": [
        "# Install package (only once)\n",
        "install.packages(\"readxl\")\n",
        "\n",
        "# Load the library\n",
        "library(readxl)\n",
        "\n",
        "# Read Excel file (first sheet by default)\n",
        "data_excel <- read_excel(\"student.xlsx\")\n",
        "\n",
        "# Read a specific sheet\n",
        "data_excel2 <- read_excel(\"student.xlsx\", sheet = \"Sheet2\")\n",
        "\n",
        "head(data_excel)\n"
      ],
      "metadata": {
        "id": "U6t7I-LyQkLf"
      },
      "execution_count": null,
      "outputs": []
    },
    {
      "cell_type": "code",
      "source": [
        "# Read TXT file (tab separated)\n",
        "data_txt <- read.table(\"student.txt\", header = TRUE, sep = \"\\t\")\n",
        "\n",
        "head(data_txt)\n",
        "\n",
        "# header = TRUE means the first row has column names.\n",
        "# sep = \"\\t\" is for tab-separated text.\n",
        "# If values are space-separated.\n"
      ],
      "metadata": {
        "id": "RBpgkCuhQkOb"
      },
      "execution_count": null,
      "outputs": []
    },
    {
      "cell_type": "code",
      "source": [
        "data_txt <- read.table(\"student.txt\", header = TRUE, sep = \" \")\n"
      ],
      "metadata": {
        "id": "PZ2ffTHJQkRg"
      },
      "execution_count": null,
      "outputs": []
    },
    {
      "cell_type": "code",
      "source": [
        "# Direct CSV from a link\n",
        "data_csv <- read.csv(\"https://www.kaggle.com/datasets/zeeshier/student-information-dataset/stdent.csv\")\n",
        "\n",
        "head(data_csv)\n"
      ],
      "metadata": {
        "id": "DaxjS-gzQkVU"
      },
      "execution_count": null,
      "outputs": []
    },
    {
      "cell_type": "code",
      "source": [
        "library(readxl)\n",
        "\n",
        "# Download the Excel file\n",
        "url <- \"https://www.kaggle.com/datasets/zeeshier/student-information-dataset/stdent.csv\"\n",
        "download.file(url, destfile = \"temp.xlsx\", mode = \"wb\")\n",
        "\n",
        "# Read it\n",
        "data_excel <- read_excel(\"student.xlsx\")\n",
        "head(data_excel)\n"
      ],
      "metadata": {
        "id": "lmSUJSY8QkXl"
      },
      "execution_count": null,
      "outputs": []
    },
    {
      "cell_type": "code",
      "source": [
        "# Read tab-delimited TXT from URL\n",
        "data_txt <- read.table(\"https://www.kaggle.com/datasets/zeeshier/student-information-dataset/stdent.csv\",\n",
        "                       sep = \",\", header = TRUE)\n",
        "\n",
        "head(data_txt)\n"
      ],
      "metadata": {
        "id": "cb9ZxBbvQkaF"
      },
      "execution_count": null,
      "outputs": []
    },
    {
      "cell_type": "code",
      "source": [
        "install.packages(\"openxlsx\")\n",
        "library(openxlsx)\n",
        "\n",
        "# Read Excel directly from URL\n",
        "url <- \"hhttps://www.kaggle.com/datasets/zeeshier/student-information-dataset/stdent.csv\"\n",
        "data_excel <- openxlsx::read.xlsx(url, sheet = 1)\n",
        "\n",
        "head(data_excel)\n"
      ],
      "metadata": {
        "id": "hU8l_8d8Qkc7"
      },
      "execution_count": null,
      "outputs": []
    },
    {
      "cell_type": "code",
      "source": [
        "install.packages(\"curl\")\n",
        "library(curl)\n",
        "library(readxl)\n",
        "\n",
        "# Read directly from URL connection\n",
        "url <- \"https://www.kaggle.com/datasets/zeeshier/student-information-dataset/stdent.csv\"\n",
        "data_excel <- read_excel(curl::curl_download(url, tempfile(fileext = \".xlsx\")))\n",
        "\n",
        "head(data_excel)\n",
        "\n",
        "# openxlsx::read.xlsx() → can read Excel directly from URL.\n",
        "# curl + readxl → downloads in memory, then opens it (no file left behind)."
      ],
      "metadata": {
        "id": "-2i4YlYdQkgB"
      },
      "execution_count": null,
      "outputs": []
    },
    {
      "cell_type": "code",
      "source": [
        "# Save dataframe as CSV\n",
        "write.csv(mtcars, \"student.csv\", row.names = FALSE)\n"
      ],
      "metadata": {
        "id": "zc99M4VKQki8"
      },
      "execution_count": null,
      "outputs": []
    },
    {
      "cell_type": "code",
      "source": [
        "install.packages(\"writexl\")\n",
        "library(writexl)\n",
        "\n",
        "# Write dataframe to Excel\n",
        "write_xlsx(mtcars, \"car.xlsx\")\n"
      ],
      "metadata": {
        "id": "y4exipA-Qkl7"
      },
      "execution_count": null,
      "outputs": []
    },
    {
      "cell_type": "code",
      "source": [
        "install.packages(\"openxlsx\")\n",
        "library(openxlsx)\n",
        "\n",
        "# Create workbook and save\n",
        "write.xlsx(mtcars, \"car.xlsx\", sheetName = \"Cars\", overwrite = TRUE)\n"
      ],
      "metadata": {
        "id": "Yd5dGp4aQkqE"
      },
      "execution_count": null,
      "outputs": []
    },
    {
      "cell_type": "code",
      "source": [
        "# Tab-delimited TXT\n",
        "write.table(mtcars, \"car.txt\", sep = \"\\t\", row.names = FALSE, quote = FALSE)\n",
        "\n",
        "# Space-delimited TXT\n",
        "write.table(mtcars, \"car.txt\", sep = \" \", row.names = FALSE, quote = FALSE)\n"
      ],
      "metadata": {
        "id": "xLaKmGd3QksP"
      },
      "execution_count": null,
      "outputs": []
    },
    {
      "cell_type": "code",
      "source": [
        "install.packages(\"rdrop2\")\n",
        "library(rdrop2)\n",
        "\n",
        "# Authenticate Dropbox\n",
        "token <- drop_auth()\n",
        "\n",
        "# Upload file\n",
        "drop_upload(\"car.csv\", path = \"Apps/my_folder/\")\n"
      ],
      "metadata": {
        "id": "f_eBveZYQkun"
      },
      "execution_count": null,
      "outputs": []
    },
    {
      "cell_type": "code",
      "source": [
        "# Subsetting\n",
        "#Look at first rows\n",
        "head(student)\n",
        "\n",
        "# Select first row\n",
        "student[1, ]\n",
        "\n",
        "# Select first column\n",
        "student[, 1]\n",
        "\n",
        "# Select row 1, column 2\n",
        "student[1, 2]\n",
        "\n",
        "# Select multiple rows and specific columns\n",
        "student[1:5, c(\"Name\", \"Score\")]\n",
        "\n",
        "# Using $ to access a column\n",
        "student$Score\n",
        "\n",
        "# Subsetting with condition\n",
        "\n",
        "# Students with score > 80\n",
        "high_score <- student[student$Score > 80, ]\n",
        "\n",
        "# Students in Class 10\n",
        "class10 <- student[student$Class == 10, ]\n",
        "\n",
        "# Students with Score > 80 AND Class = 10\n",
        "top_class10 <- student[student$Score > 80 & student$Class == 10, ]\n"
      ],
      "metadata": {
        "id": "qN6WcZ2WQkxR"
      },
      "execution_count": null,
      "outputs": []
    },
    {
      "cell_type": "code",
      "source": [
        "#Missing Values with student\n",
        "\n",
        "# Check missing values in dataset\n",
        "is.na(student)\n",
        "\n",
        "# Count total missing values\n",
        "sum(is.na(student))\n",
        "\n",
        "# Check missing values column-wise\n",
        "colSums(is.na(student))\n",
        "\n",
        "# Remove rows with missing values\n",
        "student_clean <- na.omit(student)\n",
        "\n",
        "# Replace missing Score with 0\n",
        "student$Score[is.na(student$Score)] <- 0\n",
        "\n",
        "# Replace missing Score with mean Score\n",
        "student$Score[is.na(student$Score)] <- mean(student$Score, na.rm = TRUE)"
      ],
      "metadata": {
        "id": "_fiH5AEtQk85"
      },
      "execution_count": null,
      "outputs": []
    },
    {
      "cell_type": "code",
      "source": [
        "#Sorting with order()\n",
        "\n",
        "# Sort by Score (ascending)\n",
        "student_sorted <- student[order(student$Score), ]\n",
        "\n",
        "# Sort by Score (descending)\n",
        "student_sorted_desc <- student[order(-student$Score), ]\n",
        "\n",
        "# Sort by multiple columns (Class first, then Score)\n",
        "student_sorted_multi <- student[order(student$Class, -student$Score), ]\n"
      ],
      "metadata": {
        "id": "Z-OCxC8cQk_s"
      },
      "execution_count": null,
      "outputs": []
    },
    {
      "cell_type": "code",
      "source": [
        "#Filtering with subset()\n",
        "\n",
        "# Students with Score > 80\n",
        "high_score <- subset(student, Score > 80)\n",
        "\n",
        "# Students in Class 10\n",
        "class10 <- subset(student, Class == 10)\n",
        "\n",
        "# Students in Class 10 with Score > 80\n",
        "top_class10 <- subset(student, Class == 10 & Score > 80)\n",
        "\n",
        "# Select only specific columns after filtering\n",
        "top_class10_small <- subset(student, Class == 10 & Score > 80,\n",
        "                            select = c(Name, Score))\n"
      ],
      "metadata": {
        "id": "1NOteSv2QlCs"
      },
      "execution_count": null,
      "outputs": []
    },
    {
      "cell_type": "code",
      "source": [
        "# Applying Functions\n",
        "\n",
        "# Sometimes we want to apply a function to each row/column/list element.\n",
        "# apply() (for matrices/data frames)\n",
        "\n",
        "# Average score per student (row-wise if multiple subjects)\n",
        "row_means <- apply(student[, c(\"Math\", \"English\", \"Science\")], 1, mean)\n",
        "\n",
        "# Average score per subject (column-wise)\n",
        "col_means <- apply(student[, c(\"Math\", \"English\", \"Science\")], 2, mean)\n"
      ],
      "metadata": {
        "id": "jnQWVgjLQlFq"
      },
      "execution_count": null,
      "outputs": []
    },
    {
      "cell_type": "code",
      "source": [
        "#lapply() (list apply → always returns list)\n",
        "# Apply mean to each subject, return list\n",
        "lapply(student[, c(\"Math\", \"English\", \"Science\")], mean)\n",
        "\n",
        "# Convert list back to vector\n",
        "unlist(lapply(student[, c(\"Math\", \"English\", \"Science\")], mean))\n"
      ],
      "metadata": {
        "id": "P2POlK_YQlKW"
      },
      "execution_count": null,
      "outputs": []
    },
    {
      "cell_type": "code",
      "source": [
        "#sapply() (simplified apply → returns vector)\n",
        "# Get class-wise mean of Score\n",
        "tapply(student$Score, student$Class, mean)\n",
        "\n",
        "# Quick summary statistics of Score\n",
        "sapply(student$Score, function(x) c(Mean = mean(x), SD = sd(x)))\n",
        "\n"
      ],
      "metadata": {
        "id": "7b3pEWCsQlNB"
      },
      "execution_count": null,
      "outputs": []
    },
    {
      "cell_type": "markdown",
      "source": [
        "order() → sort dataset\n",
        "\n",
        "subset() → filter rows (with conditions)\n",
        "\n",
        "apply() → apply functions to rows/columns\n",
        "\n",
        "sapply() → apply functions, return simplified result\n",
        "\n",
        "lapply() → apply functions, return list"
      ],
      "metadata": {
        "id": "FXS39ogFZgVu"
      }
    },
    {
      "cell_type": "code",
      "source": [
        "#Factor Variables (Categorical Data)\n",
        "#In R, factors are used to represent categorical data (like Class, Gender, Grade).\n",
        "\n",
        "# Convert Class or Gender to factor\n",
        "student$Class <- as.factor(student$Class)\n",
        "student$Gender <- as.factor(student$Gender)\n",
        "\n",
        "# Check factor levels\n",
        "levels(student$Class)\n",
        "levels(student$Gender)\n",
        "\n",
        "# Summary of factor\n",
        "summary(student$Class)\n",
        "summary(student$Gender)\n"
      ],
      "metadata": {
        "id": "FbapSnRCQlPY"
      },
      "execution_count": null,
      "outputs": []
    },
    {
      "cell_type": "code",
      "source": [
        "#Using factors in analysis\n",
        "# Count students by Class\n",
        "table(student$Class)\n",
        "\n",
        "# Count students by Gender\n",
        "table(student$Gender)\n",
        "\n",
        "# Relevel factors (change reference level)\n",
        "student$Class <- relevel(student$Class, ref = \"10\")  # Class 10 as baseline\n"
      ],
      "metadata": {
        "id": "kWIivP6fQlSA"
      },
      "execution_count": null,
      "outputs": []
    },
    {
      "cell_type": "code",
      "source": [
        "#Strings (stringr package basics)\n",
        "\n",
        "#The stringr package makes string manipulation easier.\n",
        "\n",
        "# Install and load\n",
        "install.packages(\"stringr\")\n",
        "library(stringr)\n",
        "\n",
        "# Example dataset: student$Name\n",
        "head(student$Name)\n",
        "\n",
        "# 1. Detect pattern\n",
        "str_detect(student$Name, \"Ali\")   # TRUE if \"Ali\" appears\n",
        "\n",
        "# 2. Extract pattern\n",
        "str_extract(student$Name, \"Ali\")\n",
        "\n",
        "# 3. Replace text\n",
        "student$Name <- str_replace(student$Name, \"Ali\", \"Alif\")\n",
        "\n",
        "# 4. Split string\n",
        "str_split(student$Name, \" \")      # Split by space\n",
        "\n",
        "# 5. String length\n",
        "str_length(student$Name)\n",
        "\n",
        "# 6. Convert case\n",
        "str_to_upper(student$Name)\n",
        "str_to_lower(student$Name)\n",
        "str_to_title(student$Name)"
      ],
      "metadata": {
        "id": "4lJiNnEnQlUa"
      },
      "execution_count": null,
      "outputs": []
    },
    {
      "cell_type": "code",
      "source": [],
      "metadata": {
        "id": "8xXq1DlTQlXD"
      },
      "execution_count": null,
      "outputs": []
    },
    {
      "cell_type": "code",
      "source": [],
      "metadata": {
        "id": "iOGHsZsxQlZ4"
      },
      "execution_count": null,
      "outputs": []
    },
    {
      "cell_type": "code",
      "source": [],
      "metadata": {
        "id": "tno1PsVLQlcw"
      },
      "execution_count": null,
      "outputs": []
    },
    {
      "cell_type": "code",
      "source": [],
      "metadata": {
        "id": "teBq0xmwQlf7"
      },
      "execution_count": null,
      "outputs": []
    },
    {
      "cell_type": "code",
      "source": [],
      "metadata": {
        "id": "so045YP1Qli4"
      },
      "execution_count": null,
      "outputs": []
    }
  ]
}